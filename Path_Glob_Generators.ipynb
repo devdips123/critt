{
 "cells": [
  {
   "cell_type": "code",
   "execution_count": 1,
   "metadata": {},
   "outputs": [],
   "source": [
    "from pathlib import Path\n",
    "import glob"
   ]
  },
  {
   "cell_type": "code",
   "execution_count": 128,
   "metadata": {},
   "outputs": [],
   "source": [
    "p = Path('.')"
   ]
  },
  {
   "cell_type": "code",
   "execution_count": 108,
   "metadata": {},
   "outputs": [
    {
     "data": {
      "text/plain": [
       "pathlib.PosixPath"
      ]
     },
     "execution_count": 108,
     "metadata": {},
     "output_type": "execute_result"
    }
   ],
   "source": [
    "type(p)"
   ]
  },
  {
   "cell_type": "code",
   "execution_count": 14,
   "metadata": {},
   "outputs": [
    {
     "data": {
      "text/plain": [
       "PosixPath('/users/kent/dsahoo')"
      ]
     },
     "execution_count": 14,
     "metadata": {},
     "output_type": "execute_result"
    }
   ],
   "source": [
    "p.absolute()"
   ]
  },
  {
   "cell_type": "code",
   "execution_count": 15,
   "metadata": {},
   "outputs": [],
   "source": [
    "# Shortcut to join file paths\n",
    "p = p / 'TPRDB/ENJA15/Tables'"
   ]
  },
  {
   "cell_type": "code",
   "execution_count": 16,
   "metadata": {},
   "outputs": [
    {
     "data": {
      "text/plain": [
       "PosixPath('/users/kent/dsahoo/TPRDB/ENJA15/Tables')"
      ]
     },
     "execution_count": 16,
     "metadata": {},
     "output_type": "execute_result"
    }
   ],
   "source": [
    "p.resolve()"
   ]
  },
  {
   "cell_type": "code",
   "execution_count": 20,
   "metadata": {},
   "outputs": [
    {
     "name": "stdout",
     "output_type": "stream",
     "text": [
      "/data/critt/tprdb/TPRDB/ENJA15/Tables/P01_D3.st\n",
      "/data/critt/tprdb/TPRDB/ENJA15/Tables/P01_D4.st\n",
      "/data/critt/tprdb/TPRDB/ENJA15/Tables/P01_P5.st\n",
      "/data/critt/tprdb/TPRDB/ENJA15/Tables/P01_P6.st\n",
      "/data/critt/tprdb/TPRDB/ENJA15/Tables/P01_T1.st\n",
      "/data/critt/tprdb/TPRDB/ENJA15/Tables/P01_T2.st\n"
     ]
    }
   ],
   "source": [
    "for f in p.glob(\"P01*.st\"):\n",
    "    print(f.resolve())"
   ]
  },
  {
   "cell_type": "code",
   "execution_count": 32,
   "metadata": {},
   "outputs": [],
   "source": [
    "x =p.glob('P01_D3.st')"
   ]
  },
  {
   "cell_type": "code",
   "execution_count": 99,
   "metadata": {},
   "outputs": [
    {
     "data": {
      "text/plain": [
       "generator"
      ]
     },
     "execution_count": 99,
     "metadata": {},
     "output_type": "execute_result"
    }
   ],
   "source": [
    "type(x)"
   ]
  },
  {
   "cell_type": "code",
   "execution_count": 33,
   "metadata": {},
   "outputs": [
    {
     "name": "stdout",
     "output_type": "stream",
     "text": [
      "<class 'pathlib.PosixPath'>\n"
     ]
    }
   ],
   "source": [
    "for xx in x:\n",
    "    print(type(xx))"
   ]
  },
  {
   "cell_type": "markdown",
   "metadata": {},
   "source": [
    "### Read files from directory using Path and glob"
   ]
  },
  {
   "cell_type": "code",
   "execution_count": null,
   "metadata": {},
   "outputs": [],
   "source": [
    "from pathlib import Path\n",
    "import glob"
   ]
  },
  {
   "cell_type": "code",
   "execution_count": 116,
   "metadata": {},
   "outputs": [],
   "source": [
    "def getFiles(path=\".\", filters=\"*\"):\n",
    "    flist = []\n",
    "    total_files = 0\n",
    "    p = Path(path)\n",
    "    print(f\"The absolute path: {p.resolve()}\")\n",
    "    # files is a generator object\n",
    "    # use either for loop or next() to iterate\n",
    "    files = p.glob(filters)\n",
    "    for file in files:\n",
    "        flist.append(file.resolve())\n",
    "        total_files += 1\n",
    "    print(f\"Total Number of files: {total_files}\")    \n",
    "    return flist\n"
   ]
  },
  {
   "cell_type": "code",
   "execution_count": 119,
   "metadata": {},
   "outputs": [
    {
     "name": "stdout",
     "output_type": "stream",
     "text": [
      "The absolute path: /data/critt/tprdb/TPRDB/ENJA15/Tables\n",
      "Total Number of files: 6\n"
     ]
    }
   ],
   "source": [
    "files = getFiles(\"TPRDB/ENJA15/Tables\",\"P01*.st\")"
   ]
  },
  {
   "cell_type": "code",
   "execution_count": 127,
   "metadata": {},
   "outputs": [
    {
     "name": "stdout",
     "output_type": "stream",
     "text": [
      "Id\tSTseg\tStudy\tSession\tSL\tTL\tTask\tText\tPart\tSToken\tLemma\tSTime\tSdur\tProb1\tProb2\tPoS\tTGroup\tTTid\tSGroup\tSAGnbr\tTAGnbr\tMunit\tEdit1\tTime1\tDur1\tPause1\tFixS1\tParalS1\tFixT1\tParalT1\tEdit2\tTime2\tDur2\tPause2\tFixS2\tParalS2\tFixT2\tParalT2\tEditR\tRunit\tTimeR\tDurR\tIns\tDel\tDur\tCross\tFFTime\tFFDTime\tFFDur\tRPDur\tRegr\tFixS\tFPDurS\tTrtS\tFixT\tFPDurT\tTrtT\tInEff\tYawat\tEdit\tAltT\tCountT\tProbT\tHTra\tHSeg\tHCross\n",
      "\n",
      "1\t1\tENJA15\tP01_D3\ten\tja\tD\t3\tP01\t\"Spielberg\"\t\"Spielberg\"\t0\t0\t-5.9908\t-50\tNNP\t\"スピルバーグ_が\"\t1+2\t\"Spielberg\"\t1\t2\t2\t\"本2円[円_2本]スパイでバーグが\"\t10390\t50154\t10390\t83\t31821\t12\t6257\t\"[グーバでイパス]スピルバーグ\"\t116096\t4680\t21450\t2\t299\t7\t850\t\"---\"\t0\t0\t0\t17\t11\t54834\t2\t4461\t17050\t183\t183\t0\t14\t183\t9897\t56\t615\t20363\t3.11\t---\t\"本2円[円_2本]スパイでバーグが[グーバでイパス]スピルバーグ\"\t  16\t  10\t0.2632\t3.4098\t1.6269\t1.5574\n",
      "\n",
      "2\t1\tENJA15\tP01_D3\ten\tja\tD\t3\tP01\t\"shows\"\t\"show\"\t0\t0\t-4.0278\t-50\tVBZ\t\"出す\"\t9\t\"shows\"\t1\t1\t2\t\"出す\"\t75910\t1\t1\t0\t0\t0\t0\t\"_\"\t94646\t0\t5382\t0\t0\t0\t0\t\"---\"\t0\t0\t0\t3\t0\t1\t8\t18860\t18860\t384\t384\t0\t5\t384\t2819\t25\t1018\t4500\t1.00\t---\t\"出す_\"\t  22\t   1\t0.0263\t3.7802\t2.0499\t2.9598\n",
      "\n",
      "3\t1\tENJA15\tP01_D3\ten\tja\tD\t3\tP01\t\"Beijing\"\t\"Beijing\"\t0\t0\t-5.3595\t-50\tNNP\t\"北京_の\"\t5+6\t\"Beijing\"\t1\t2\t1\t\"北京の\"\t67843\t2\t7299\t1\t2\t0\t0\t\"---\"\t0\t0\t0\t0\t0\t0\t0\t\"---\"\t0\t0\t0\t3\t0\t2\t-4\t19234\t19234\t617\t617\t0\t3\t617\t1016\t4\t350\t753\t0.60\t---\t\"北京の\"\t  16\t   2\t0.0526\t2.9134\t1.0634\t3.0356\n",
      "\n",
      "4\t1\tENJA15\tP01_D3\ten\tja\tD\t3\tP01\t\"red\"\t\"red\"\t0\t0\t-3.9277\t-50\tVBD\t\"レッドカード_を\"\t7+8\t\"red_card\"\t2\t2\t1\t\"レッドカードを\"\t70336\t5573\t2491\t0\t0\t0\t0\t\"---\"\t0\t0\t0\t0\t0\t0\t0\t\"---\"\t0\t0\t0\t0\t0\t0\t3\t31371\t31371\t467\t467\t0\t2\t467\t749\t7\t417\t1307\t0\t---\t\"---\"\t  11\t   2\t0.0526\t2.0150\t0.9561\t2.9098\n",
      "\n",
      "5\t1\tENJA15\tP01_D3\ten\tja\tD\t3\tP01\t\"card\"\t\"card\"\t0\t0\t-4.3397\t-6.2782\tNN\t\"レッドカード_を\"\t7+8\t\"red_card\"\t2\t2\t1\t\"0\"\t0\t0\t0\t2\t501\t1\t34\t\"---\"\t0\t0\t0\t0\t0\t0\t0\t\"---\"\t0\t0\t0\t7\t0\t5573\t3\t19858\t19858\t182\t649\t1\t6\t182\t1368\t7\t417\t1307\t0.78\t---\t\"レッドカードを\"\t  11\t   2\t0.0526\t2.0150\t0.9561\t2.9098\n",
      "\n",
      "6\t1\tENJA15\tP01_D3\ten\tja\tD\t3\tP01\t\"over\"\t\"over\"\t0\t0\t-2.9829\t-6.8359\tIN\t\"に\"\t4\t\"over\"\t1\t1\t1\t\"に\"\t89264\t0\t1\t0\t0\t0\t0\t\"---\"\t0\t0\t0\t0\t0\t0\t0\t\"---\"\t0\t0\t0\t1\t0\t0\t-4\t39982\t39982\t283\t433\t1\t2\t283\t534\t5\t500\t1518\t0.50\t---\t\"に\"\t  21\t   1\t0.0263\t3.9542\t1.4089\t2.3166\n",
      "\n",
      "7\t1\tENJA15\tP01_D3\ten\tja\tD\t3\tP01\t\"Darfur\"\t\"Darfur\"\t0\t0\t-7.0120\t-50\tNNP\t\"ダーファー\"\t3\t\"Darfur\"\t1\t1\t1\t\"ダーファー\"\t89259\t4\t13348\t0\t0\t1\t4\t\"---\"\t0\t0\t0\t0\t0\t0\t0\t\"---\"\t0\t0\t0\t5\t0\t4\t-1\t3806\t32058\t266\t266\t0\t9\t266\t2915\t2\t167\t300\t0.83\t---\t\"ダーファー\"\t  12\t   2\t0.0526\t2.0875\t0.7871\t1.9131\n",
      "\n",
      "8\t2\tENJA15\tP01_D3\ten\tja\tD\t3\tP01\t\"In\"\t\"In\"\t0\t0\t-1.8251\t-50\tNNP\t\"意図_として\"\t18+19\t\"In_a_gesture_sure_to\"\t5\t2\t2\t\"として\"\t172582\t2\t1\t0\t0\t0\t0\t\"---\"\t0\t0\t0\t0\t0\t0\t0\t\"---\"\t0\t0\t0\t0\t0\t0\t16\t53196\t53196\t250\t250\t0\t2\t250\t683\t9\t929\t1714\t0\t---\t\"---\"\t  30\t   1\t0.0263\t4.6819\t2.3694\t4.1685\n",
      "\n",
      "9\t2\tENJA15\tP01_D3\ten\tja\tD\t3\tP01\t\"a\"\t\"a\"\t0\t0\t-1.7608\t-3.0327\tDT\t\"意図_として\"\t18+19\t\"In_a_gesture_sure_to\"\t5\t2\t2\t\"0\"\t0\t0\t0\t0\t0\t0\t0\t\"---\"\t0\t0\t0\t0\t0\t0\t0\t\"---\"\t0\t0\t0\t0\t0\t0\t16\t16582\t16582\t452\t3902\t1\t5\t452\t1552\t9\t929\t1714\t0\t---\t\"---\"\t  29\t   1\t0.0263\t4.6292\t2.4157\t4.2410\n",
      "\n"
     ]
    }
   ],
   "source": [
    "n = 10\n",
    "with open(files[0],'r') as f:\n",
    "    for i in range(n):\n",
    "        print(f.readline())"
   ]
  },
  {
   "cell_type": "code",
   "execution_count": 39,
   "metadata": {
    "scrolled": true
   },
   "outputs": [
    {
     "name": "stdout",
     "output_type": "stream",
     "text": [
      "TPRDB/ENJA15/Tables/P01_D3.st\n",
      "Id\tSTseg\tStudy\tSession\tSL\tTL\tTask\tText\tPart\tSToken\tLemma\tSTime\tSdur\tProb1\tProb2\tPoS\tTGroup\tTTid\tSGroup\tSAGnbr\tTAGnbr\tMunit\tEdit1\tTime1\tDur1\tPause1\tFixS1\tParalS1\tFixT1\tParalT1\tEdit2\tTime2\tDur2\tPause2\tFixS2\tParalS2\tFixT2\tParalT2\tEditR\tRunit\tTimeR\tDurR\tIns\tDel\tDur\tCross\tFFTime\tFFDTime\tFFDur\tRPDur\tRegr\tFixS\tFPDurS\tTrtS\tFixT\tFPDurT\tTrtT\tInEff\tYawat\tEdit\tAltT\tCountT\tProbT\tHTra\tHSeg\tHCross\n",
      "\n",
      "1\t1\tENJA15\tP01_D3\ten\tja\tD\t3\tP01\t\"Spielberg\"\t\"Spielberg\"\t0\t0\t-5.9908\t-50\tNNP\t\"スピルバーグ_が\"\t1+2\t\"Spielberg\"\t1\t2\t2\t\"本2円[円_2本]スパイでバーグが\"\t10390\t50154\t10390\t83\t31821\t12\t6257\t\"[グーバでイパス]スピルバーグ\"\t116096\t4680\t21450\t2\t299\t7\t850\t\"---\"\t0\t0\t0\t17\t11\t54834\t2\t4461\t17050\t183\t183\t0\t14\t183\t9897\t56\t615\t20363\t3.11\t---\t\"本2円[円_2本]スパイでバーグが[グーバでイパス]スピルバーグ\"\t  16\t  10\t0.2632\t3.4098\t1.6269\t1.5574\n",
      "\n",
      "2\t1\tENJA15\tP01_D3\ten\tja\tD\t3\tP01\t\"shows\"\t\"show\"\t0\t0\t-4.0278\t-50\tVBZ\t\"出す\"\t9\t\"shows\"\t1\t1\t2\t\"出す\"\t75910\t1\t1\t0\t0\t0\t0\t\"_\"\t94646\t0\t5382\t0\t0\t0\t0\t\"---\"\t0\t0\t0\t3\t0\t1\t8\t18860\t18860\t384\t384\t0\t5\t384\t2819\t25\t1018\t4500\t1.00\t---\t\"出す_\"\t  22\t   1\t0.0263\t3.7802\t2.0499\t2.9598\n",
      "\n",
      "3\t1\tENJA15\tP01_D3\ten\tja\tD\t3\tP01\t\"Beijing\"\t\"Beijing\"\t0\t0\t-5.3595\t-50\tNNP\t\"北京_の\"\t5+6\t\"Beijing\"\t1\t2\t1\t\"北京の\"\t67843\t2\t7299\t1\t2\t0\t0\t\"---\"\t0\t0\t0\t0\t0\t0\t0\t\"---\"\t0\t0\t0\t3\t0\t2\t-4\t19234\t19234\t617\t617\t0\t3\t617\t1016\t4\t350\t753\t0.60\t---\t\"北京の\"\t  16\t   2\t0.0526\t2.9134\t1.0634\t3.0356\n",
      "\n",
      "4\t1\tENJA15\tP01_D3\ten\tja\tD\t3\tP01\t\"red\"\t\"red\"\t0\t0\t-3.9277\t-50\tVBD\t\"レッドカード_を\"\t7+8\t\"red_card\"\t2\t2\t1\t\"レッドカードを\"\t70336\t5573\t2491\t0\t0\t0\t0\t\"---\"\t0\t0\t0\t0\t0\t0\t0\t\"---\"\t0\t0\t0\t0\t0\t0\t3\t31371\t31371\t467\t467\t0\t2\t467\t749\t7\t417\t1307\t0\t---\t\"---\"\t  11\t   2\t0.0526\t2.0150\t0.9561\t2.9098\n",
      "\n",
      "5\t1\tENJA15\tP01_D3\ten\tja\tD\t3\tP01\t\"card\"\t\"card\"\t0\t0\t-4.3397\t-6.2782\tNN\t\"レッドカード_を\"\t7+8\t\"red_card\"\t2\t2\t1\t\"0\"\t0\t0\t0\t2\t501\t1\t34\t\"---\"\t0\t0\t0\t0\t0\t0\t0\t\"---\"\t0\t0\t0\t7\t0\t5573\t3\t19858\t19858\t182\t649\t1\t6\t182\t1368\t7\t417\t1307\t0.78\t---\t\"レッドカードを\"\t  11\t   2\t0.0526\t2.0150\t0.9561\t2.9098\n",
      "\n"
     ]
    }
   ],
   "source": [
    "for path in p.glob('P01_D3.st'):\n",
    "    print(path)\n",
    "    with  open(path,'r') as f:\n",
    "        for i in range(6):\n",
    "            print(f.readline())"
   ]
  },
  {
   "cell_type": "markdown",
   "metadata": {},
   "source": [
    "## Generators"
   ]
  },
  {
   "cell_type": "code",
   "execution_count": 58,
   "metadata": {},
   "outputs": [],
   "source": [
    "def my_generator(alist, count):\n",
    "    for a in alist:\n",
    "        #print(\"inside generator \"+ str(count))\n",
    "        yield(a)\n",
    "        \n",
    "def my_funtion(alist):\n",
    "    for a in alist:\n",
    "        print(\"inside funtion\")\n",
    "        return(a)"
   ]
  },
  {
   "cell_type": "code",
   "execution_count": 65,
   "metadata": {},
   "outputs": [],
   "source": [
    "\n",
    "alist = \"hi how are you\".split()\n",
    "count = 1\n",
    "gen = my_generator(alist, count)"
   ]
  },
  {
   "cell_type": "code",
   "execution_count": 60,
   "metadata": {},
   "outputs": [
    {
     "name": "stdout",
     "output_type": "stream",
     "text": [
      "hi\n",
      "how\n",
      "are\n",
      "you\n",
      "Generator stopped\n",
      "Generator stopped\n",
      "Generator stopped\n",
      "Generator stopped\n",
      "Generator stopped\n",
      "Generator stopped\n"
     ]
    }
   ],
   "source": [
    "\n",
    "for i in range(10):\n",
    "    try:\n",
    "        print(next(gen))\n",
    "    except StopIteration:\n",
    "        print(\"Generator stopped\")"
   ]
  },
  {
   "cell_type": "code",
   "execution_count": 92,
   "metadata": {},
   "outputs": [],
   "source": [
    "alist = \"hi how are you\".split()"
   ]
  },
  {
   "cell_type": "code",
   "execution_count": 93,
   "metadata": {},
   "outputs": [],
   "source": [
    "x = (x for x in alist)"
   ]
  },
  {
   "cell_type": "code",
   "execution_count": 94,
   "metadata": {},
   "outputs": [
    {
     "name": "stdout",
     "output_type": "stream",
     "text": [
      "hi\n",
      "how\n",
      "are\n",
      "you\n",
      "No more values!!\n",
      "No more values!!\n",
      "No more values!!\n",
      "No more values!!\n",
      "No more values!!\n",
      "No more values!!\n"
     ]
    }
   ],
   "source": [
    "for i in range(10):\n",
    "    try:\n",
    "        print(next(x))\n",
    "    except StopIteration:\n",
    "        print(\"No more values!!\")"
   ]
  },
  {
   "cell_type": "code",
   "execution_count": 85,
   "metadata": {},
   "outputs": [
    {
     "data": {
      "text/plain": [
       "[1, 9, 36, 100]"
      ]
     },
     "execution_count": 85,
     "metadata": {},
     "output_type": "execute_result"
    }
   ],
   "source": [
    "my_list = [1, 3, 6, 10]\n",
    "#list comprehension\n",
    "[x**2 for x in my_list]"
   ]
  },
  {
   "cell_type": "markdown",
   "metadata": {},
   "source": [
    "#### Usage of Generators as list comprehension. \n",
    "\n",
    "- We use () instead of [] for generator comprehension. \n",
    "- The returned variable xx is of type Generator. \n",
    "- We need to use next(xx) to get the next value produced by the generator\n",
    "- StopIteration exception is raised if the generator reaches the end of the iterable its iterating.\n",
    "- We can catch the StopIteration to handle the exception at runtime"
   ]
  },
  {
   "cell_type": "code",
   "execution_count": 86,
   "metadata": {},
   "outputs": [],
   "source": [
    "# Generator comprehension \n",
    "xx = (print(x**2) for x in my_list)"
   ]
  },
  {
   "cell_type": "code",
   "execution_count": 87,
   "metadata": {},
   "outputs": [
    {
     "name": "stdout",
     "output_type": "stream",
     "text": [
      "1\n"
     ]
    }
   ],
   "source": [
    "# Get the next value in the iterable\n",
    "next(xx)"
   ]
  },
  {
   "cell_type": "code",
   "execution_count": 132,
   "metadata": {},
   "outputs": [
    {
     "data": {
      "text/plain": [
       "PosixPath('/users/kent/dsahoo/test')"
      ]
     },
     "execution_count": 132,
     "metadata": {},
     "output_type": "execute_result"
    }
   ],
   "source": [
    "p_test.absolute()"
   ]
  },
  {
   "cell_type": "code",
   "execution_count": 156,
   "metadata": {},
   "outputs": [],
   "source": [
    "# Create new files\n",
    "p_test = p / \"test\"\n",
    "file_name = \"test.txt\"\n",
    "for i in range(1,6):\n",
    "    spl = file_name.split(\".\")\n",
    "    new_file = spl[0]+str(i)+spl[1]\n",
    "    with open(p_test.joinpath(new_file), \"w\") as f:\n",
    "        f.write(\"Test message\"+ str(i))"
   ]
  },
  {
   "cell_type": "code",
   "execution_count": 157,
   "metadata": {},
   "outputs": [],
   "source": [
    "flist = p_test.glob(\"test*txt\")"
   ]
  },
  {
   "cell_type": "code",
   "execution_count": 158,
   "metadata": {},
   "outputs": [],
   "source": [
    "# Rename a file. Remember to prepend the path to the file name before renaming. else it will move the file to the cwd\n",
    "for f in flist:\n",
    "    name = f.name\n",
    "    f.rename(p_test.joinpath(name+\".txt\"))"
   ]
  },
  {
   "cell_type": "code",
   "execution_count": 175,
   "metadata": {},
   "outputs": [
    {
     "name": "stdout",
     "output_type": "stream",
     "text": [
      "TPRDB is a directory\n",
      "spring19 is a directory\n",
      "nltk_data is a directory\n",
      "__pycache__ is a directory\n",
      "Homework is a directory\n",
      "shared is a directory\n",
      "workshop is a directory\n",
      "test is a directory\n"
     ]
    }
   ],
   "source": [
    "# glob() takes a pattern as argument. it can be *, *.txt etc. It returns a list of matching files\n",
    "files = glob.glob(\"*\")\n",
    "for f in files:\n",
    "    # append the file name to the current path\n",
    "    pp = p.joinpath(f)\n",
    "    # checks if the posix path is a directory\n",
    "    if pp.is_dir():\n",
    "        print(f\"{f} is a directory\")"
   ]
  },
  {
   "cell_type": "code",
   "execution_count": 166,
   "metadata": {},
   "outputs": [],
   "source": [
    "pp =p.cwd()"
   ]
  },
  {
   "cell_type": "code",
   "execution_count": 167,
   "metadata": {},
   "outputs": [
    {
     "data": {
      "text/plain": [
       "'/users/kent/dsahoo'"
      ]
     },
     "execution_count": 167,
     "metadata": {},
     "output_type": "execute_result"
    }
   ],
   "source": [
    "str(pp)"
   ]
  },
  {
   "cell_type": "code",
   "execution_count": 172,
   "metadata": {},
   "outputs": [
    {
     "data": {
      "text/plain": [
       "<generator object Path.glob at 0x7f4af41518e0>"
      ]
     },
     "execution_count": 172,
     "metadata": {},
     "output_type": "execute_result"
    }
   ],
   "source": [
    "# Returns a generator. Use for loop or next() function to access the values\n",
    "p.glob(\"*.txt\")"
   ]
  },
  {
   "cell_type": "code",
   "execution_count": null,
   "metadata": {},
   "outputs": [],
   "source": []
  }
 ],
 "metadata": {
  "kernelspec": {
   "display_name": "Python 3",
   "language": "python",
   "name": "python3"
  },
  "language_info": {
   "codemirror_mode": {
    "name": "ipython",
    "version": 3
   },
   "file_extension": ".py",
   "mimetype": "text/x-python",
   "name": "python",
   "nbconvert_exporter": "python",
   "pygments_lexer": "ipython3",
   "version": "3.6.8"
  }
 },
 "nbformat": 4,
 "nbformat_minor": 2
}
