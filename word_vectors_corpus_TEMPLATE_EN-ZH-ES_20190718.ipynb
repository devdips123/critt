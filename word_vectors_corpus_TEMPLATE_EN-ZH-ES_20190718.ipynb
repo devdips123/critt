{
 "cells": [
  {
   "cell_type": "markdown",
   "metadata": {},
   "source": [
    "# Word Vectors with corpora (W2V TF TB) TEMPLATE"
   ]
  },
  {
   "cell_type": "markdown",
   "metadata": {},
   "source": [
    "# Imports"
   ]
  },
  {
   "cell_type": "code",
   "execution_count": 1,
   "metadata": {},
   "outputs": [],
   "source": [
    "# future is the missing compatibility layer between Python 2 and Python 3. \n",
    "# It allows you to use a single, clean Python 3.x-compatible codebase to \n",
    "# support both Python 2 and Python 3 with minimal overhead.\n",
    "\n",
    "from __future__ import absolute_import, division, print_function"
   ]
  },
  {
   "cell_type": "code",
   "execution_count": 16,
   "metadata": {},
   "outputs": [],
   "source": [
    "# encoding, word encoding\n",
    "import codecs\n",
    "# finds all pathnames matching a pattern, like regex\n",
    "import glob\n",
    "# log events for libraries\n",
    "import logging\n",
    "# concurrency\n",
    "import multiprocessing\n",
    "# dealing with operating system , like reading file\n",
    "import os\n",
    "# pretty print, human readable\n",
    "import pprint\n",
    "# regular expressions\n",
    "import re"
   ]
  },
  {
   "cell_type": "code",
   "execution_count": 2,
   "metadata": {},
   "outputs": [],
   "source": [
    "# natural language toolkit\n",
    "import nltk\n",
    "# word 2 vec\n",
    "import gensim.models.word2vec as w2v\n",
    "# dimensionality reduction\n",
    "import sklearn.manifold\n",
    "# math\n",
    "import numpy as np\n",
    "# plotting\n",
    "import matplotlib.pyplot as plt\n",
    "# parse dataset\n",
    "import pandas as pd\n",
    "# visualization\n",
    "import seaborn as sns"
   ]
  },
  {
   "cell_type": "code",
   "execution_count": 18,
   "metadata": {},
   "outputs": [
    {
     "name": "stdout",
     "output_type": "stream",
     "text": [
      "Populating the interactive namespace from numpy and matplotlib\n"
     ]
    }
   ],
   "source": [
    "%pylab inline"
   ]
  },
  {
   "cell_type": "code",
   "execution_count": 19,
   "metadata": {},
   "outputs": [],
   "source": [
    "# Set up logging\n",
    "logging.basicConfig(format='%(asctime)s : %(levelname)s : %(message)s', level=logging.INFO)"
   ]
  },
  {
   "cell_type": "code",
   "execution_count": 20,
   "metadata": {},
   "outputs": [
    {
     "name": "stderr",
     "output_type": "stream",
     "text": [
      "[nltk_data] Downloading package punkt to /home/fgbxub/nltk_data...\n",
      "[nltk_data]   Package punkt is already up-to-date!\n",
      "[nltk_data] Downloading package stopwords to /home/fgbxub/nltk_data...\n",
      "[nltk_data]   Package stopwords is already up-to-date!\n"
     ]
    },
    {
     "data": {
      "text/plain": [
       "True"
      ]
     },
     "execution_count": 20,
     "metadata": {},
     "output_type": "execute_result"
    }
   ],
   "source": [
    "# Download NLTK tokenizer models (only the first time)\n",
    "# stopwords like the at a an, unnecessary\n",
    "# tokenization into sentences, punkt \n",
    "# http://www.nltk.org/\n",
    "# however, no model for Chinese found in the nltk package\n",
    "nltk.download(\"punkt\")\n",
    "nltk.download(\"stopwords\")"
   ]
  },
  {
   "cell_type": "markdown",
   "metadata": {},
   "source": [
    "# Prepare Corpus"
   ]
  },
  {
   "cell_type": "code",
   "execution_count": 21,
   "metadata": {},
   "outputs": [],
   "source": [
    "# Load corpus files,\n",
    "# get the file names, matching txt file\n",
    "book_filenames = sorted(glob.glob(\"/home/fgbxub/Desktop/W2V-20190719/data/*.txt\"))"
   ]
  },
  {
   "cell_type": "code",
   "execution_count": 22,
   "metadata": {},
   "outputs": [
    {
     "name": "stdout",
     "output_type": "stream",
     "text": [
      "Found books:\n"
     ]
    },
    {
     "data": {
      "text/plain": [
       "['/home/fgbxub/Desktop/W2V-20190719/data/13_1997_E_raw.txt',\n",
       " '/home/fgbxub/Desktop/W2V-20190719/data/13_1998_E_raw.txt',\n",
       " '/home/fgbxub/Desktop/W2V-20190719/data/13_1999_E_raw.txt',\n",
       " '/home/fgbxub/Desktop/W2V-20190719/data/13_2000_E_raw.txt',\n",
       " '/home/fgbxub/Desktop/W2V-20190719/data/13_2001_E_raw.txt',\n",
       " '/home/fgbxub/Desktop/W2V-20190719/data/13_2002_E_raw.txt',\n",
       " '/home/fgbxub/Desktop/W2V-20190719/data/13_2003_E_raw.txt',\n",
       " '/home/fgbxub/Desktop/W2V-20190719/data/13_2004_E_raw.txt',\n",
       " '/home/fgbxub/Desktop/W2V-20190719/data/13_2005_E_raw.txt',\n",
       " '/home/fgbxub/Desktop/W2V-20190719/data/13_2006_E_raw.txt',\n",
       " '/home/fgbxub/Desktop/W2V-20190719/data/13_2007_E_raw.txt',\n",
       " '/home/fgbxub/Desktop/W2V-20190719/data/13_2008_E_raw.txt',\n",
       " '/home/fgbxub/Desktop/W2V-20190719/data/13_2009_E_raw.txt',\n",
       " '/home/fgbxub/Desktop/W2V-20190719/data/13_2010_E_raw.txt',\n",
       " '/home/fgbxub/Desktop/W2V-20190719/data/13_2012_E_raw.txt',\n",
       " '/home/fgbxub/Desktop/W2V-20190719/data/13_2013_E_raw.txt',\n",
       " '/home/fgbxub/Desktop/W2V-20190719/data/13_2014_E_raw.txt',\n",
       " '/home/fgbxub/Desktop/W2V-20190719/data/13_2015_E_raw.txt',\n",
       " '/home/fgbxub/Desktop/W2V-20190719/data/13_2016_E_raw.txt',\n",
       " '/home/fgbxub/Desktop/W2V-20190719/data/13_2017_E_raw.txt']"
      ]
     },
     "execution_count": 22,
     "metadata": {},
     "output_type": "execute_result"
    }
   ],
   "source": [
    "# Print files names\n",
    "print(\"Found books:\")\n",
    "book_filenames"
   ]
  },
  {
   "cell_type": "code",
   "execution_count": 23,
   "metadata": {},
   "outputs": [
    {
     "name": "stdout",
     "output_type": "stream",
     "text": [
      "Reading '/home/fgbxub/Desktop/W2V-20190719/data/13_1997_E_raw.txt'...\n",
      "Corpus is now 10097 characters long\n",
      "\n",
      "Reading '/home/fgbxub/Desktop/W2V-20190719/data/13_1998_E_raw.txt'...\n",
      "Corpus is now 20398 characters long\n",
      "\n",
      "Reading '/home/fgbxub/Desktop/W2V-20190719/data/13_1999_E_raw.txt'...\n",
      "Corpus is now 31550 characters long\n",
      "\n",
      "Reading '/home/fgbxub/Desktop/W2V-20190719/data/13_2000_E_raw.txt'...\n",
      "Corpus is now 37495 characters long\n",
      "\n",
      "Reading '/home/fgbxub/Desktop/W2V-20190719/data/13_2001_E_raw.txt'...\n",
      "Corpus is now 43746 characters long\n",
      "\n",
      "Reading '/home/fgbxub/Desktop/W2V-20190719/data/13_2002_E_raw.txt'...\n",
      "Corpus is now 51617 characters long\n",
      "\n",
      "Reading '/home/fgbxub/Desktop/W2V-20190719/data/13_2003_E_raw.txt'...\n",
      "Corpus is now 60695 characters long\n",
      "\n",
      "Reading '/home/fgbxub/Desktop/W2V-20190719/data/13_2004_E_raw.txt'...\n",
      "Corpus is now 68445 characters long\n",
      "\n",
      "Reading '/home/fgbxub/Desktop/W2V-20190719/data/13_2005_E_raw.txt'...\n",
      "Corpus is now 76686 characters long\n",
      "\n",
      "Reading '/home/fgbxub/Desktop/W2V-20190719/data/13_2006_E_raw.txt'...\n",
      "Corpus is now 82272 characters long\n",
      "\n",
      "Reading '/home/fgbxub/Desktop/W2V-20190719/data/13_2007_E_raw.txt'...\n",
      "Corpus is now 87688 characters long\n",
      "\n",
      "Reading '/home/fgbxub/Desktop/W2V-20190719/data/13_2008_E_raw.txt'...\n",
      "Corpus is now 92506 characters long\n",
      "\n",
      "Reading '/home/fgbxub/Desktop/W2V-20190719/data/13_2009_E_raw.txt'...\n",
      "Corpus is now 97355 characters long\n",
      "\n",
      "Reading '/home/fgbxub/Desktop/W2V-20190719/data/13_2010_E_raw.txt'...\n",
      "Corpus is now 103289 characters long\n",
      "\n",
      "Reading '/home/fgbxub/Desktop/W2V-20190719/data/13_2012_E_raw.txt'...\n",
      "Corpus is now 108825 characters long\n",
      "\n",
      "Reading '/home/fgbxub/Desktop/W2V-20190719/data/13_2013_E_raw.txt'...\n",
      "Corpus is now 114267 characters long\n",
      "\n",
      "Reading '/home/fgbxub/Desktop/W2V-20190719/data/13_2014_E_raw.txt'...\n",
      "Corpus is now 121444 characters long\n",
      "\n",
      "Reading '/home/fgbxub/Desktop/W2V-20190719/data/13_2015_E_raw.txt'...\n",
      "Corpus is now 127872 characters long\n",
      "\n",
      "Reading '/home/fgbxub/Desktop/W2V-20190719/data/13_2016_E_raw.txt'...\n",
      "Corpus is now 134025 characters long\n",
      "\n",
      "Reading '/home/fgbxub/Desktop/W2V-20190719/data/13_2017_E_raw.txt'...\n",
      "Corpus is now 140659 characters long\n",
      "\n"
     ]
    }
   ],
   "source": [
    "# Combine the books into one string\n",
    "# step 1, process data\n",
    "\n",
    "# initialize rawunicode , we'll add all text to this one big file in memory\n",
    "corpus_raw = u\"\"\n",
    "# for each file, read it, open it un utf 8 format, \n",
    "# add it to the raw corpus\n",
    "for book_filename in book_filenames:\n",
    "    print(\"Reading '{0}'...\".format(book_filename))\n",
    "    with codecs.open(book_filename, \"r\", \"utf-8\") as book_file:\n",
    "        corpus_raw += book_file.read()\n",
    "    print(\"Corpus is now {0} characters long\".format(len(corpus_raw)))\n",
    "    print()"
   ]
  },
  {
   "cell_type": "code",
   "execution_count": 24,
   "metadata": {},
   "outputs": [],
   "source": [
    "# Split the corpus into sentences\n",
    "# tokenizastion! saved the trained model here\n",
    "tokenizer = nltk.data.load('tokenizers/punkt/english.pickle')\n",
    "\n",
    "# uncomment this code for Spanish language, and comment the previous code line\n",
    "# tokenizer = nltk.data.load('tokenizers/punkt/spanish.pickle')"
   ]
  },
  {
   "cell_type": "code",
   "execution_count": 25,
   "metadata": {},
   "outputs": [],
   "source": [
    "# tokenize into sentences\n",
    "raw_sentences = tokenizer.tokenize(corpus_raw)"
   ]
  },
  {
   "cell_type": "code",
   "execution_count": 26,
   "metadata": {},
   "outputs": [],
   "source": [
    "# convert into a list of words\n",
    "# remove unnnecessary, split into words, no hyphens\n",
    "# split into words\n",
    "# in Spanish we want to include words with accents, so it can' t just be [^a-zA-Z]:\n",
    "# http://www.rexegg.com/regex-interesting-character-classes.html\n",
    "\n",
    "def sentence_to_wordlist(raw):\n",
    "    clean = re.sub(\"[^a-zA-Z]\",\" \", raw) ## for Spanish: clean = re.sub(\"[^a-zA-ZáéíñóúüÁÉÍÑÓÚÜ]\",\" \", raw) ## for Chinese: clean = re.sub(\"[^\\u4E00-\\u9FA5]\",\" \", raw)\n",
    "    words = clean.split()\n",
    "    return words"
   ]
  },
  {
   "cell_type": "code",
   "execution_count": 27,
   "metadata": {},
   "outputs": [],
   "source": [
    "# for each sentece, sentences where each word is tokenized\n",
    "sentences = []\n",
    "for raw_sentence in raw_sentences:\n",
    "    if len(raw_sentence) > 0:\n",
    "        sentences.append(sentence_to_wordlist(raw_sentence))"
   ]
  },
  {
   "cell_type": "code",
   "execution_count": 28,
   "metadata": {},
   "outputs": [
    {
     "name": "stdout",
     "output_type": "stream",
     "text": [
      "﻿ \r\n",
      "My Lords and Members of the House of Commons.\n",
      "['My', 'Lords', 'and', 'Members', 'of', 'the', 'House', 'of', 'Commons']\n"
     ]
    }
   ],
   "source": [
    "# print an example\n",
    "print(raw_sentences[0])\n",
    "print(sentence_to_wordlist(raw_sentences[0]))"
   ]
  },
  {
   "cell_type": "code",
   "execution_count": 29,
   "metadata": {},
   "outputs": [
    {
     "name": "stdout",
     "output_type": "stream",
     "text": [
      "The book corpus contains 21,967 tokens\n"
     ]
    }
   ],
   "source": [
    "# count tokens, each one being a sentence\n",
    "token_count = sum([len(sentence) for sentence in sentences])\n",
    "print(\"The book corpus contains {0:,} tokens\".format(token_count))"
   ]
  },
  {
   "cell_type": "markdown",
   "metadata": {},
   "source": [
    "# Train Word2Vec"
   ]
  },
  {
   "cell_type": "code",
   "execution_count": 30,
   "metadata": {},
   "outputs": [],
   "source": [
    "# ONCE we have vectors\n",
    "# step 2 - build model\n",
    "# 3 main tasks that vectors help with\n",
    "# DISTANCE, SIMILARITY, RANKING\n",
    "\n",
    "# build our model, another one is Glove\n",
    "# define hyperparameters\n",
    "\n",
    "# Dimensionality of the resulting word vectors.\n",
    "# more dimensions, more computationally expensive to train\n",
    "# but also more accurate\n",
    "# more dimensions = more generalized\n",
    "num_features = 300\n",
    "\n",
    "# Minimum word count threshold.\n",
    "min_word_count = 3\n",
    "\n",
    "# Number of threads to run in parallel.\n",
    "# more workers, faster we train\n",
    "num_workers = multiprocessing.cpu_count()\n",
    "\n",
    "# Context window length.\n",
    "context_size = 7\n",
    "\n",
    "# Downsample setting for frequent words.\n",
    "# rate 0 and 1e-5 \n",
    "# how often to use\n",
    "downsampling = 1e-3\n",
    "\n",
    "# Seed for the RNG, to make the results reproducible.\n",
    "# random number generator\n",
    "# deterministic, good for debugging\n",
    "seed = 1\n"
   ]
  },
  {
   "cell_type": "code",
   "execution_count": 31,
   "metadata": {},
   "outputs": [],
   "source": [
    "thrones2vec = w2v.Word2Vec(\n",
    "    sg=1,\n",
    "    seed=seed,\n",
    "    workers=num_workers,\n",
    "    size=num_features,\n",
    "    min_count=min_word_count,\n",
    "    window=context_size,\n",
    "    sample=downsampling\n",
    ")"
   ]
  },
  {
   "cell_type": "code",
   "execution_count": 32,
   "metadata": {},
   "outputs": [
    {
     "name": "stderr",
     "output_type": "stream",
     "text": [
      "2019-07-19 04:20:56,419 : INFO : collecting all words and their counts\n",
      "2019-07-19 04:20:56,421 : INFO : PROGRESS: at sentence #0, processed 0 words, keeping 0 word types\n",
      "2019-07-19 04:20:56,429 : INFO : collected 2516 word types from a corpus of 21967 raw words and 1111 sentences\n",
      "2019-07-19 04:20:56,430 : INFO : Loading a fresh vocabulary\n",
      "2019-07-19 04:20:56,434 : INFO : min_count=3 retains 967 unique words (38% of original 2516, drops 1549)\n",
      "2019-07-19 04:20:56,435 : INFO : min_count=3 leaves 20031 word corpus (91% of original 21967, drops 1936)\n",
      "2019-07-19 04:20:56,514 : INFO : deleting the raw counts dictionary of 2516 items\n",
      "2019-07-19 04:20:56,516 : INFO : sample=0.001 downsamples 48 most-common words\n",
      "2019-07-19 04:20:56,517 : INFO : downsampling leaves estimated 12519 word corpus (62.5% of prior 20031)\n",
      "2019-07-19 04:20:56,558 : INFO : estimated required memory for 967 words and 300 dimensions: 2804300 bytes\n",
      "2019-07-19 04:20:56,559 : INFO : resetting layer weights\n"
     ]
    }
   ],
   "source": [
    "thrones2vec.build_vocab(sentences)"
   ]
  },
  {
   "cell_type": "code",
   "execution_count": 33,
   "metadata": {},
   "outputs": [
    {
     "name": "stdout",
     "output_type": "stream",
     "text": [
      "Word2Vec vocabulary-length:  967\n"
     ]
    }
   ],
   "source": [
    "print(\"Word2Vec vocabulary-length: \", len(thrones2vec.wv.vocab))"
   ]
  },
  {
   "cell_type": "code",
   "execution_count": 34,
   "metadata": {},
   "outputs": [
    {
     "name": "stderr",
     "output_type": "stream",
     "text": [
      "2019-07-19 04:21:04,800 : INFO : training model with 4 workers on 967 vocabulary and 300 features, using sg=1 hs=0 sample=0.001 negative=5 window=7\n",
      "2019-07-19 04:21:04,942 : INFO : worker thread finished; awaiting finish of 3 more threads\n",
      "2019-07-19 04:21:06,377 : INFO : EPOCH 1 - PROGRESS: at 9.04% words, 803 words/s, in_qsize 2, out_qsize 1\n",
      "2019-07-19 04:21:06,378 : INFO : worker thread finished; awaiting finish of 2 more threads\n",
      "2019-07-19 04:21:06,456 : INFO : worker thread finished; awaiting finish of 1 more threads\n",
      "2019-07-19 04:21:06,470 : INFO : worker thread finished; awaiting finish of 0 more threads\n",
      "2019-07-19 04:21:06,471 : INFO : EPOCH - 1 : training on 21967 raw words (12530 effective words) took 1.6s, 7993 effective words/s\n",
      "2019-07-19 04:21:06,487 : INFO : worker thread finished; awaiting finish of 3 more threads\n",
      "2019-07-19 04:21:06,530 : INFO : worker thread finished; awaiting finish of 2 more threads\n",
      "2019-07-19 04:21:06,652 : INFO : worker thread finished; awaiting finish of 1 more threads\n",
      "2019-07-19 04:21:06,653 : INFO : worker thread finished; awaiting finish of 0 more threads\n",
      "2019-07-19 04:21:06,654 : INFO : EPOCH - 2 : training on 21967 raw words (12456 effective words) took 0.2s, 73272 effective words/s\n",
      "2019-07-19 04:21:06,670 : INFO : worker thread finished; awaiting finish of 3 more threads\n",
      "2019-07-19 04:21:06,730 : INFO : worker thread finished; awaiting finish of 2 more threads\n",
      "2019-07-19 04:21:06,820 : INFO : worker thread finished; awaiting finish of 1 more threads\n",
      "2019-07-19 04:21:06,838 : INFO : worker thread finished; awaiting finish of 0 more threads\n",
      "2019-07-19 04:21:06,839 : INFO : EPOCH - 3 : training on 21967 raw words (12595 effective words) took 0.2s, 72549 effective words/s\n",
      "2019-07-19 04:21:06,861 : INFO : worker thread finished; awaiting finish of 3 more threads\n",
      "2019-07-19 04:21:06,912 : INFO : worker thread finished; awaiting finish of 2 more threads\n",
      "2019-07-19 04:21:07,002 : INFO : worker thread finished; awaiting finish of 1 more threads\n",
      "2019-07-19 04:21:07,018 : INFO : worker thread finished; awaiting finish of 0 more threads\n",
      "2019-07-19 04:21:07,020 : INFO : EPOCH - 4 : training on 21967 raw words (12549 effective words) took 0.2s, 74434 effective words/s\n",
      "2019-07-19 04:21:07,034 : INFO : worker thread finished; awaiting finish of 3 more threads\n",
      "2019-07-19 04:21:07,073 : INFO : worker thread finished; awaiting finish of 2 more threads\n",
      "2019-07-19 04:21:07,173 : INFO : worker thread finished; awaiting finish of 1 more threads\n",
      "2019-07-19 04:21:07,176 : INFO : worker thread finished; awaiting finish of 0 more threads\n",
      "2019-07-19 04:21:07,177 : INFO : EPOCH - 5 : training on 21967 raw words (12568 effective words) took 0.1s, 84064 effective words/s\n",
      "2019-07-19 04:21:07,189 : INFO : worker thread finished; awaiting finish of 3 more threads\n",
      "2019-07-19 04:21:07,229 : INFO : worker thread finished; awaiting finish of 2 more threads\n",
      "2019-07-19 04:21:07,343 : INFO : worker thread finished; awaiting finish of 1 more threads\n",
      "2019-07-19 04:21:07,350 : INFO : worker thread finished; awaiting finish of 0 more threads\n",
      "2019-07-19 04:21:07,352 : INFO : EPOCH - 6 : training on 21967 raw words (12520 effective words) took 0.2s, 74497 effective words/s\n",
      "2019-07-19 04:21:07,375 : INFO : worker thread finished; awaiting finish of 3 more threads\n",
      "2019-07-19 04:21:07,416 : INFO : worker thread finished; awaiting finish of 2 more threads\n",
      "2019-07-19 04:21:07,517 : INFO : worker thread finished; awaiting finish of 1 more threads\n",
      "2019-07-19 04:21:07,534 : INFO : worker thread finished; awaiting finish of 0 more threads\n",
      "2019-07-19 04:21:07,535 : INFO : EPOCH - 7 : training on 21967 raw words (12532 effective words) took 0.2s, 72164 effective words/s\n",
      "2019-07-19 04:21:07,554 : INFO : worker thread finished; awaiting finish of 3 more threads\n",
      "2019-07-19 04:21:07,628 : INFO : worker thread finished; awaiting finish of 2 more threads\n",
      "2019-07-19 04:21:07,710 : INFO : worker thread finished; awaiting finish of 1 more threads\n",
      "2019-07-19 04:21:07,726 : INFO : worker thread finished; awaiting finish of 0 more threads\n",
      "2019-07-19 04:21:07,727 : INFO : EPOCH - 8 : training on 21967 raw words (12534 effective words) took 0.2s, 72106 effective words/s\n",
      "2019-07-19 04:21:07,748 : INFO : worker thread finished; awaiting finish of 3 more threads\n",
      "2019-07-19 04:21:07,809 : INFO : worker thread finished; awaiting finish of 2 more threads\n",
      "2019-07-19 04:21:07,905 : INFO : worker thread finished; awaiting finish of 1 more threads\n",
      "2019-07-19 04:21:07,912 : INFO : worker thread finished; awaiting finish of 0 more threads\n",
      "2019-07-19 04:21:07,914 : INFO : EPOCH - 9 : training on 21967 raw words (12490 effective words) took 0.2s, 73423 effective words/s\n",
      "2019-07-19 04:21:07,939 : INFO : worker thread finished; awaiting finish of 3 more threads\n",
      "2019-07-19 04:21:08,003 : INFO : worker thread finished; awaiting finish of 2 more threads\n",
      "2019-07-19 04:21:08,073 : INFO : worker thread finished; awaiting finish of 1 more threads\n",
      "2019-07-19 04:21:08,080 : INFO : worker thread finished; awaiting finish of 0 more threads\n",
      "2019-07-19 04:21:08,081 : INFO : EPOCH - 10 : training on 21967 raw words (12448 effective words) took 0.2s, 79602 effective words/s\n",
      "2019-07-19 04:21:08,100 : INFO : worker thread finished; awaiting finish of 3 more threads\n",
      "2019-07-19 04:21:08,139 : INFO : worker thread finished; awaiting finish of 2 more threads\n",
      "2019-07-19 04:21:08,229 : INFO : worker thread finished; awaiting finish of 1 more threads\n",
      "2019-07-19 04:21:08,232 : INFO : worker thread finished; awaiting finish of 0 more threads\n",
      "2019-07-19 04:21:08,233 : INFO : EPOCH - 11 : training on 21967 raw words (12547 effective words) took 0.1s, 89213 effective words/s\n",
      "2019-07-19 04:21:08,243 : INFO : worker thread finished; awaiting finish of 3 more threads\n",
      "2019-07-19 04:21:08,286 : INFO : worker thread finished; awaiting finish of 2 more threads\n",
      "2019-07-19 04:21:08,370 : INFO : worker thread finished; awaiting finish of 1 more threads\n",
      "2019-07-19 04:21:08,381 : INFO : worker thread finished; awaiting finish of 0 more threads\n",
      "2019-07-19 04:21:08,383 : INFO : EPOCH - 12 : training on 21967 raw words (12472 effective words) took 0.1s, 89011 effective words/s\n",
      "2019-07-19 04:21:08,397 : INFO : worker thread finished; awaiting finish of 3 more threads\n",
      "2019-07-19 04:21:08,441 : INFO : worker thread finished; awaiting finish of 2 more threads\n",
      "2019-07-19 04:21:08,518 : INFO : worker thread finished; awaiting finish of 1 more threads\n",
      "2019-07-19 04:21:08,528 : INFO : worker thread finished; awaiting finish of 0 more threads\n",
      "2019-07-19 04:21:08,530 : INFO : EPOCH - 13 : training on 21967 raw words (12489 effective words) took 0.1s, 92996 effective words/s\n",
      "2019-07-19 04:21:08,553 : INFO : worker thread finished; awaiting finish of 3 more threads\n",
      "2019-07-19 04:21:08,589 : INFO : worker thread finished; awaiting finish of 2 more threads\n",
      "2019-07-19 04:21:08,677 : INFO : worker thread finished; awaiting finish of 1 more threads\n",
      "2019-07-19 04:21:08,685 : INFO : worker thread finished; awaiting finish of 0 more threads\n",
      "2019-07-19 04:21:08,686 : INFO : EPOCH - 14 : training on 21967 raw words (12569 effective words) took 0.1s, 86676 effective words/s\n",
      "2019-07-19 04:21:08,701 : INFO : worker thread finished; awaiting finish of 3 more threads\n",
      "2019-07-19 04:21:08,752 : INFO : worker thread finished; awaiting finish of 2 more threads\n",
      "2019-07-19 04:21:08,828 : INFO : worker thread finished; awaiting finish of 1 more threads\n",
      "2019-07-19 04:21:08,837 : INFO : worker thread finished; awaiting finish of 0 more threads\n",
      "2019-07-19 04:21:08,838 : INFO : EPOCH - 15 : training on 21967 raw words (12545 effective words) took 0.1s, 91707 effective words/s\n",
      "2019-07-19 04:21:08,850 : INFO : worker thread finished; awaiting finish of 3 more threads\n",
      "2019-07-19 04:21:08,891 : INFO : worker thread finished; awaiting finish of 2 more threads\n",
      "2019-07-19 04:21:08,966 : INFO : worker thread finished; awaiting finish of 1 more threads\n",
      "2019-07-19 04:21:09,006 : INFO : worker thread finished; awaiting finish of 0 more threads\n",
      "2019-07-19 04:21:09,007 : INFO : EPOCH - 16 : training on 21967 raw words (12537 effective words) took 0.2s, 77249 effective words/s\n"
     ]
    },
    {
     "name": "stderr",
     "output_type": "stream",
     "text": [
      "2019-07-19 04:21:09,021 : INFO : worker thread finished; awaiting finish of 3 more threads\n",
      "2019-07-19 04:21:09,072 : INFO : worker thread finished; awaiting finish of 2 more threads\n",
      "2019-07-19 04:21:09,152 : INFO : worker thread finished; awaiting finish of 1 more threads\n",
      "2019-07-19 04:21:09,155 : INFO : worker thread finished; awaiting finish of 0 more threads\n",
      "2019-07-19 04:21:09,156 : INFO : EPOCH - 17 : training on 21967 raw words (12568 effective words) took 0.1s, 88961 effective words/s\n",
      "2019-07-19 04:21:09,166 : INFO : worker thread finished; awaiting finish of 3 more threads\n",
      "2019-07-19 04:21:09,212 : INFO : worker thread finished; awaiting finish of 2 more threads\n",
      "2019-07-19 04:21:09,300 : INFO : worker thread finished; awaiting finish of 1 more threads\n",
      "2019-07-19 04:21:09,314 : INFO : worker thread finished; awaiting finish of 0 more threads\n",
      "2019-07-19 04:21:09,315 : INFO : EPOCH - 18 : training on 21967 raw words (12467 effective words) took 0.1s, 83849 effective words/s\n",
      "2019-07-19 04:21:09,331 : INFO : worker thread finished; awaiting finish of 3 more threads\n",
      "2019-07-19 04:21:09,377 : INFO : worker thread finished; awaiting finish of 2 more threads\n",
      "2019-07-19 04:21:09,433 : INFO : worker thread finished; awaiting finish of 1 more threads\n",
      "2019-07-19 04:21:09,448 : INFO : worker thread finished; awaiting finish of 0 more threads\n",
      "2019-07-19 04:21:09,449 : INFO : EPOCH - 19 : training on 21967 raw words (12633 effective words) took 0.1s, 101622 effective words/s\n",
      "2019-07-19 04:21:09,463 : INFO : worker thread finished; awaiting finish of 3 more threads\n",
      "2019-07-19 04:21:09,502 : INFO : worker thread finished; awaiting finish of 2 more threads\n",
      "2019-07-19 04:21:09,566 : INFO : worker thread finished; awaiting finish of 1 more threads\n",
      "2019-07-19 04:21:09,573 : INFO : worker thread finished; awaiting finish of 0 more threads\n",
      "2019-07-19 04:21:09,574 : INFO : EPOCH - 20 : training on 21967 raw words (12530 effective words) took 0.1s, 109561 effective words/s\n",
      "2019-07-19 04:21:09,589 : INFO : worker thread finished; awaiting finish of 3 more threads\n",
      "2019-07-19 04:21:09,628 : INFO : worker thread finished; awaiting finish of 2 more threads\n",
      "2019-07-19 04:21:09,689 : INFO : worker thread finished; awaiting finish of 1 more threads\n",
      "2019-07-19 04:21:09,706 : INFO : worker thread finished; awaiting finish of 0 more threads\n",
      "2019-07-19 04:21:09,707 : INFO : EPOCH - 21 : training on 21967 raw words (12554 effective words) took 0.1s, 98383 effective words/s\n",
      "2019-07-19 04:21:09,721 : INFO : worker thread finished; awaiting finish of 3 more threads\n",
      "2019-07-19 04:21:09,761 : INFO : worker thread finished; awaiting finish of 2 more threads\n",
      "2019-07-19 04:21:09,826 : INFO : worker thread finished; awaiting finish of 1 more threads\n",
      "2019-07-19 04:21:09,832 : INFO : worker thread finished; awaiting finish of 0 more threads\n",
      "2019-07-19 04:21:09,833 : INFO : EPOCH - 22 : training on 21967 raw words (12541 effective words) took 0.1s, 106924 effective words/s\n",
      "2019-07-19 04:21:09,848 : INFO : worker thread finished; awaiting finish of 3 more threads\n",
      "2019-07-19 04:21:09,889 : INFO : worker thread finished; awaiting finish of 2 more threads\n",
      "2019-07-19 04:21:09,948 : INFO : worker thread finished; awaiting finish of 1 more threads\n",
      "2019-07-19 04:21:09,962 : INFO : worker thread finished; awaiting finish of 0 more threads\n",
      "2019-07-19 04:21:09,963 : INFO : EPOCH - 23 : training on 21967 raw words (12533 effective words) took 0.1s, 104562 effective words/s\n",
      "2019-07-19 04:21:09,977 : INFO : worker thread finished; awaiting finish of 3 more threads\n",
      "2019-07-19 04:21:10,017 : INFO : worker thread finished; awaiting finish of 2 more threads\n",
      "2019-07-19 04:21:10,083 : INFO : worker thread finished; awaiting finish of 1 more threads\n",
      "2019-07-19 04:21:10,090 : INFO : worker thread finished; awaiting finish of 0 more threads\n",
      "2019-07-19 04:21:10,091 : INFO : EPOCH - 24 : training on 21967 raw words (12516 effective words) took 0.1s, 103306 effective words/s\n",
      "2019-07-19 04:21:10,108 : INFO : worker thread finished; awaiting finish of 3 more threads\n",
      "2019-07-19 04:21:10,148 : INFO : worker thread finished; awaiting finish of 2 more threads\n",
      "2019-07-19 04:21:10,230 : INFO : worker thread finished; awaiting finish of 1 more threads\n",
      "2019-07-19 04:21:10,237 : INFO : worker thread finished; awaiting finish of 0 more threads\n",
      "2019-07-19 04:21:10,238 : INFO : EPOCH - 25 : training on 21967 raw words (12527 effective words) took 0.1s, 90223 effective words/s\n",
      "2019-07-19 04:21:10,250 : INFO : worker thread finished; awaiting finish of 3 more threads\n",
      "2019-07-19 04:21:10,285 : INFO : worker thread finished; awaiting finish of 2 more threads\n",
      "2019-07-19 04:21:10,373 : INFO : worker thread finished; awaiting finish of 1 more threads\n",
      "2019-07-19 04:21:10,375 : INFO : worker thread finished; awaiting finish of 0 more threads\n",
      "2019-07-19 04:21:10,376 : INFO : EPOCH - 26 : training on 21967 raw words (12478 effective words) took 0.1s, 94896 effective words/s\n",
      "2019-07-19 04:21:10,391 : INFO : worker thread finished; awaiting finish of 3 more threads\n",
      "2019-07-19 04:21:10,425 : INFO : worker thread finished; awaiting finish of 2 more threads\n",
      "2019-07-19 04:21:10,509 : INFO : worker thread finished; awaiting finish of 1 more threads\n",
      "2019-07-19 04:21:10,524 : INFO : worker thread finished; awaiting finish of 0 more threads\n",
      "2019-07-19 04:21:10,526 : INFO : EPOCH - 27 : training on 21967 raw words (12511 effective words) took 0.1s, 87319 effective words/s\n",
      "2019-07-19 04:21:10,538 : INFO : worker thread finished; awaiting finish of 3 more threads\n",
      "2019-07-19 04:21:10,573 : INFO : worker thread finished; awaiting finish of 2 more threads\n",
      "2019-07-19 04:21:10,665 : INFO : worker thread finished; awaiting finish of 1 more threads\n",
      "2019-07-19 04:21:10,671 : INFO : worker thread finished; awaiting finish of 0 more threads\n",
      "2019-07-19 04:21:10,672 : INFO : EPOCH - 28 : training on 21967 raw words (12484 effective words) took 0.1s, 88977 effective words/s\n",
      "2019-07-19 04:21:10,681 : INFO : worker thread finished; awaiting finish of 3 more threads\n",
      "2019-07-19 04:21:10,713 : INFO : worker thread finished; awaiting finish of 2 more threads\n",
      "2019-07-19 04:21:10,788 : INFO : worker thread finished; awaiting finish of 1 more threads\n",
      "2019-07-19 04:21:10,795 : INFO : worker thread finished; awaiting finish of 0 more threads\n",
      "2019-07-19 04:21:10,796 : INFO : EPOCH - 29 : training on 21967 raw words (12478 effective words) took 0.1s, 104894 effective words/s\n",
      "2019-07-19 04:21:10,808 : INFO : worker thread finished; awaiting finish of 3 more threads\n",
      "2019-07-19 04:21:10,850 : INFO : worker thread finished; awaiting finish of 2 more threads\n",
      "2019-07-19 04:21:10,913 : INFO : worker thread finished; awaiting finish of 1 more threads\n",
      "2019-07-19 04:21:10,922 : INFO : worker thread finished; awaiting finish of 0 more threads\n",
      "2019-07-19 04:21:10,924 : INFO : EPOCH - 30 : training on 21967 raw words (12483 effective words) took 0.1s, 104081 effective words/s\n",
      "2019-07-19 04:21:10,936 : INFO : worker thread finished; awaiting finish of 3 more threads\n",
      "2019-07-19 04:21:10,984 : INFO : worker thread finished; awaiting finish of 2 more threads\n",
      "2019-07-19 04:21:11,046 : INFO : worker thread finished; awaiting finish of 1 more threads\n",
      "2019-07-19 04:21:11,049 : INFO : worker thread finished; awaiting finish of 0 more threads\n",
      "2019-07-19 04:21:11,050 : INFO : EPOCH - 31 : training on 21967 raw words (12497 effective words) took 0.1s, 104830 effective words/s\n",
      "2019-07-19 04:21:11,061 : INFO : worker thread finished; awaiting finish of 3 more threads\n",
      "2019-07-19 04:21:11,099 : INFO : worker thread finished; awaiting finish of 2 more threads\n",
      "2019-07-19 04:21:11,161 : INFO : worker thread finished; awaiting finish of 1 more threads\n",
      "2019-07-19 04:21:11,183 : INFO : worker thread finished; awaiting finish of 0 more threads\n",
      "2019-07-19 04:21:11,184 : INFO : EPOCH - 32 : training on 21967 raw words (12488 effective words) took 0.1s, 98075 effective words/s\n",
      "2019-07-19 04:21:11,196 : INFO : worker thread finished; awaiting finish of 3 more threads\n",
      "2019-07-19 04:21:11,234 : INFO : worker thread finished; awaiting finish of 2 more threads\n",
      "2019-07-19 04:21:11,298 : INFO : worker thread finished; awaiting finish of 1 more threads\n"
     ]
    },
    {
     "name": "stderr",
     "output_type": "stream",
     "text": [
      "2019-07-19 04:21:11,308 : INFO : worker thread finished; awaiting finish of 0 more threads\n",
      "2019-07-19 04:21:11,309 : INFO : EPOCH - 33 : training on 21967 raw words (12518 effective words) took 0.1s, 105944 effective words/s\n",
      "2019-07-19 04:21:11,319 : INFO : worker thread finished; awaiting finish of 3 more threads\n",
      "2019-07-19 04:21:11,363 : INFO : worker thread finished; awaiting finish of 2 more threads\n",
      "2019-07-19 04:21:11,429 : INFO : worker thread finished; awaiting finish of 1 more threads\n",
      "2019-07-19 04:21:11,432 : INFO : worker thread finished; awaiting finish of 0 more threads\n",
      "2019-07-19 04:21:11,433 : INFO : EPOCH - 34 : training on 21967 raw words (12499 effective words) took 0.1s, 105921 effective words/s\n",
      "2019-07-19 04:21:11,444 : INFO : worker thread finished; awaiting finish of 3 more threads\n",
      "2019-07-19 04:21:11,483 : INFO : worker thread finished; awaiting finish of 2 more threads\n",
      "2019-07-19 04:21:11,544 : INFO : worker thread finished; awaiting finish of 1 more threads\n",
      "2019-07-19 04:21:11,562 : INFO : worker thread finished; awaiting finish of 0 more threads\n",
      "2019-07-19 04:21:11,563 : INFO : EPOCH - 35 : training on 21967 raw words (12573 effective words) took 0.1s, 102385 effective words/s\n",
      "2019-07-19 04:21:11,575 : INFO : worker thread finished; awaiting finish of 3 more threads\n",
      "2019-07-19 04:21:11,609 : INFO : worker thread finished; awaiting finish of 2 more threads\n",
      "2019-07-19 04:21:11,693 : INFO : worker thread finished; awaiting finish of 1 more threads\n",
      "2019-07-19 04:21:11,701 : INFO : worker thread finished; awaiting finish of 0 more threads\n",
      "2019-07-19 04:21:11,702 : INFO : EPOCH - 36 : training on 21967 raw words (12540 effective words) took 0.1s, 94993 effective words/s\n",
      "2019-07-19 04:21:11,715 : INFO : worker thread finished; awaiting finish of 3 more threads\n",
      "2019-07-19 04:21:11,756 : INFO : worker thread finished; awaiting finish of 2 more threads\n",
      "2019-07-19 04:21:11,822 : INFO : worker thread finished; awaiting finish of 1 more threads\n",
      "2019-07-19 04:21:11,825 : INFO : worker thread finished; awaiting finish of 0 more threads\n",
      "2019-07-19 04:21:11,826 : INFO : EPOCH - 37 : training on 21967 raw words (12481 effective words) took 0.1s, 108301 effective words/s\n",
      "2019-07-19 04:21:11,839 : INFO : worker thread finished; awaiting finish of 3 more threads\n",
      "2019-07-19 04:21:11,881 : INFO : worker thread finished; awaiting finish of 2 more threads\n",
      "2019-07-19 04:21:11,945 : INFO : worker thread finished; awaiting finish of 1 more threads\n",
      "2019-07-19 04:21:11,951 : INFO : worker thread finished; awaiting finish of 0 more threads\n",
      "2019-07-19 04:21:11,952 : INFO : EPOCH - 38 : training on 21967 raw words (12546 effective words) took 0.1s, 103945 effective words/s\n",
      "2019-07-19 04:21:11,968 : INFO : worker thread finished; awaiting finish of 3 more threads\n",
      "2019-07-19 04:21:12,006 : INFO : worker thread finished; awaiting finish of 2 more threads\n",
      "2019-07-19 04:21:12,071 : INFO : worker thread finished; awaiting finish of 1 more threads\n",
      "2019-07-19 04:21:12,076 : INFO : worker thread finished; awaiting finish of 0 more threads\n",
      "2019-07-19 04:21:12,077 : INFO : EPOCH - 39 : training on 21967 raw words (12479 effective words) took 0.1s, 108798 effective words/s\n",
      "2019-07-19 04:21:12,089 : INFO : worker thread finished; awaiting finish of 3 more threads\n",
      "2019-07-19 04:21:12,129 : INFO : worker thread finished; awaiting finish of 2 more threads\n",
      "2019-07-19 04:21:12,191 : INFO : worker thread finished; awaiting finish of 1 more threads\n",
      "2019-07-19 04:21:12,205 : INFO : worker thread finished; awaiting finish of 0 more threads\n",
      "2019-07-19 04:21:12,206 : INFO : EPOCH - 40 : training on 21967 raw words (12509 effective words) took 0.1s, 102108 effective words/s\n",
      "2019-07-19 04:21:12,218 : INFO : worker thread finished; awaiting finish of 3 more threads\n",
      "2019-07-19 04:21:12,258 : INFO : worker thread finished; awaiting finish of 2 more threads\n",
      "2019-07-19 04:21:12,318 : INFO : worker thread finished; awaiting finish of 1 more threads\n",
      "2019-07-19 04:21:12,329 : INFO : worker thread finished; awaiting finish of 0 more threads\n",
      "2019-07-19 04:21:12,330 : INFO : EPOCH - 41 : training on 21967 raw words (12522 effective words) took 0.1s, 107834 effective words/s\n",
      "2019-07-19 04:21:12,345 : INFO : worker thread finished; awaiting finish of 3 more threads\n",
      "2019-07-19 04:21:12,388 : INFO : worker thread finished; awaiting finish of 2 more threads\n",
      "2019-07-19 04:21:12,451 : INFO : worker thread finished; awaiting finish of 1 more threads\n",
      "2019-07-19 04:21:12,452 : INFO : worker thread finished; awaiting finish of 0 more threads\n",
      "2019-07-19 04:21:12,453 : INFO : EPOCH - 42 : training on 21967 raw words (12497 effective words) took 0.1s, 114186 effective words/s\n",
      "2019-07-19 04:21:12,466 : INFO : worker thread finished; awaiting finish of 3 more threads\n",
      "2019-07-19 04:21:12,503 : INFO : worker thread finished; awaiting finish of 2 more threads\n",
      "2019-07-19 04:21:12,565 : INFO : worker thread finished; awaiting finish of 1 more threads\n",
      "2019-07-19 04:21:12,583 : INFO : worker thread finished; awaiting finish of 0 more threads\n",
      "2019-07-19 04:21:12,584 : INFO : EPOCH - 43 : training on 21967 raw words (12555 effective words) took 0.1s, 101437 effective words/s\n",
      "2019-07-19 04:21:12,598 : INFO : worker thread finished; awaiting finish of 3 more threads\n",
      "2019-07-19 04:21:12,633 : INFO : worker thread finished; awaiting finish of 2 more threads\n",
      "2019-07-19 04:21:12,704 : INFO : worker thread finished; awaiting finish of 1 more threads\n",
      "2019-07-19 04:21:12,712 : INFO : worker thread finished; awaiting finish of 0 more threads\n",
      "2019-07-19 04:21:12,713 : INFO : EPOCH - 44 : training on 21967 raw words (12515 effective words) took 0.1s, 103941 effective words/s\n",
      "2019-07-19 04:21:12,723 : INFO : worker thread finished; awaiting finish of 3 more threads\n",
      "2019-07-19 04:21:12,758 : INFO : worker thread finished; awaiting finish of 2 more threads\n",
      "2019-07-19 04:21:12,830 : INFO : worker thread finished; awaiting finish of 1 more threads\n",
      "2019-07-19 04:21:12,839 : INFO : worker thread finished; awaiting finish of 0 more threads\n",
      "2019-07-19 04:21:12,840 : INFO : EPOCH - 45 : training on 21967 raw words (12525 effective words) took 0.1s, 103068 effective words/s\n",
      "2019-07-19 04:21:12,853 : INFO : worker thread finished; awaiting finish of 3 more threads\n",
      "2019-07-19 04:21:12,897 : INFO : worker thread finished; awaiting finish of 2 more threads\n",
      "2019-07-19 04:21:12,958 : INFO : worker thread finished; awaiting finish of 1 more threads\n",
      "2019-07-19 04:21:12,964 : INFO : worker thread finished; awaiting finish of 0 more threads\n",
      "2019-07-19 04:21:12,966 : INFO : EPOCH - 46 : training on 21967 raw words (12515 effective words) took 0.1s, 106194 effective words/s\n",
      "2019-07-19 04:21:12,979 : INFO : worker thread finished; awaiting finish of 3 more threads\n",
      "2019-07-19 04:21:13,011 : INFO : worker thread finished; awaiting finish of 2 more threads\n",
      "2019-07-19 04:21:13,113 : INFO : worker thread finished; awaiting finish of 1 more threads\n",
      "2019-07-19 04:21:13,121 : INFO : worker thread finished; awaiting finish of 0 more threads\n",
      "2019-07-19 04:21:13,123 : INFO : EPOCH - 47 : training on 21967 raw words (12538 effective words) took 0.1s, 84232 effective words/s\n",
      "2019-07-19 04:21:13,138 : INFO : worker thread finished; awaiting finish of 3 more threads\n",
      "2019-07-19 04:21:13,176 : INFO : worker thread finished; awaiting finish of 2 more threads\n",
      "2019-07-19 04:21:13,244 : INFO : worker thread finished; awaiting finish of 1 more threads\n",
      "2019-07-19 04:21:13,245 : INFO : worker thread finished; awaiting finish of 0 more threads\n",
      "2019-07-19 04:21:13,246 : INFO : EPOCH - 48 : training on 21967 raw words (12526 effective words) took 0.1s, 107653 effective words/s\n",
      "2019-07-19 04:21:13,262 : INFO : worker thread finished; awaiting finish of 3 more threads\n",
      "2019-07-19 04:21:13,303 : INFO : worker thread finished; awaiting finish of 2 more threads\n",
      "2019-07-19 04:21:13,360 : INFO : worker thread finished; awaiting finish of 1 more threads\n",
      "2019-07-19 04:21:13,377 : INFO : worker thread finished; awaiting finish of 0 more threads\n",
      "2019-07-19 04:21:13,379 : INFO : EPOCH - 49 : training on 21967 raw words (12528 effective words) took 0.1s, 101256 effective words/s\n",
      "2019-07-19 04:21:13,392 : INFO : worker thread finished; awaiting finish of 3 more threads\n"
     ]
    },
    {
     "name": "stderr",
     "output_type": "stream",
     "text": [
      "2019-07-19 04:21:13,435 : INFO : worker thread finished; awaiting finish of 2 more threads\n",
      "2019-07-19 04:21:13,494 : INFO : worker thread finished; awaiting finish of 1 more threads\n",
      "2019-07-19 04:21:13,506 : INFO : worker thread finished; awaiting finish of 0 more threads\n",
      "2019-07-19 04:21:13,507 : INFO : EPOCH - 50 : training on 21967 raw words (12458 effective words) took 0.1s, 103160 effective words/s\n",
      "2019-07-19 04:21:13,517 : INFO : worker thread finished; awaiting finish of 3 more threads\n",
      "2019-07-19 04:21:13,558 : INFO : worker thread finished; awaiting finish of 2 more threads\n",
      "2019-07-19 04:21:13,624 : INFO : worker thread finished; awaiting finish of 1 more threads\n",
      "2019-07-19 04:21:13,625 : INFO : worker thread finished; awaiting finish of 0 more threads\n",
      "2019-07-19 04:21:13,626 : INFO : EPOCH - 51 : training on 21967 raw words (12540 effective words) took 0.1s, 111230 effective words/s\n",
      "2019-07-19 04:21:13,645 : INFO : worker thread finished; awaiting finish of 3 more threads\n",
      "2019-07-19 04:21:13,683 : INFO : worker thread finished; awaiting finish of 2 more threads\n",
      "2019-07-19 04:21:13,744 : INFO : worker thread finished; awaiting finish of 1 more threads\n",
      "2019-07-19 04:21:13,758 : INFO : worker thread finished; awaiting finish of 0 more threads\n",
      "2019-07-19 04:21:13,759 : INFO : EPOCH - 52 : training on 21967 raw words (12483 effective words) took 0.1s, 103854 effective words/s\n",
      "2019-07-19 04:21:13,770 : INFO : worker thread finished; awaiting finish of 3 more threads\n",
      "2019-07-19 04:21:13,810 : INFO : worker thread finished; awaiting finish of 2 more threads\n",
      "2019-07-19 04:21:13,873 : INFO : worker thread finished; awaiting finish of 1 more threads\n",
      "2019-07-19 04:21:13,876 : INFO : worker thread finished; awaiting finish of 0 more threads\n",
      "2019-07-19 04:21:13,878 : INFO : EPOCH - 53 : training on 21967 raw words (12479 effective words) took 0.1s, 110268 effective words/s\n",
      "2019-07-19 04:21:13,891 : INFO : worker thread finished; awaiting finish of 3 more threads\n",
      "2019-07-19 04:21:13,932 : INFO : worker thread finished; awaiting finish of 2 more threads\n",
      "2019-07-19 04:21:13,994 : INFO : worker thread finished; awaiting finish of 1 more threads\n",
      "2019-07-19 04:21:13,997 : INFO : worker thread finished; awaiting finish of 0 more threads\n",
      "2019-07-19 04:21:13,998 : INFO : EPOCH - 54 : training on 21967 raw words (12495 effective words) took 0.1s, 109814 effective words/s\n",
      "2019-07-19 04:21:14,007 : INFO : worker thread finished; awaiting finish of 3 more threads\n",
      "2019-07-19 04:21:14,047 : INFO : worker thread finished; awaiting finish of 2 more threads\n",
      "2019-07-19 04:21:14,104 : INFO : worker thread finished; awaiting finish of 1 more threads\n",
      "2019-07-19 04:21:14,122 : INFO : worker thread finished; awaiting finish of 0 more threads\n",
      "2019-07-19 04:21:14,123 : INFO : EPOCH - 55 : training on 21967 raw words (12558 effective words) took 0.1s, 104968 effective words/s\n",
      "2019-07-19 04:21:14,132 : INFO : worker thread finished; awaiting finish of 3 more threads\n",
      "2019-07-19 04:21:14,171 : INFO : worker thread finished; awaiting finish of 2 more threads\n",
      "2019-07-19 04:21:14,237 : INFO : worker thread finished; awaiting finish of 1 more threads\n",
      "2019-07-19 04:21:14,239 : INFO : worker thread finished; awaiting finish of 0 more threads\n",
      "2019-07-19 04:21:14,241 : INFO : EPOCH - 56 : training on 21967 raw words (12586 effective words) took 0.1s, 111738 effective words/s\n",
      "2019-07-19 04:21:14,252 : INFO : worker thread finished; awaiting finish of 3 more threads\n",
      "2019-07-19 04:21:14,280 : INFO : worker thread finished; awaiting finish of 2 more threads\n",
      "2019-07-19 04:21:14,369 : INFO : worker thread finished; awaiting finish of 1 more threads\n",
      "2019-07-19 04:21:14,374 : INFO : worker thread finished; awaiting finish of 0 more threads\n",
      "2019-07-19 04:21:14,376 : INFO : EPOCH - 57 : training on 21967 raw words (12519 effective words) took 0.1s, 97680 effective words/s\n",
      "2019-07-19 04:21:14,390 : INFO : worker thread finished; awaiting finish of 3 more threads\n",
      "2019-07-19 04:21:14,421 : INFO : worker thread finished; awaiting finish of 2 more threads\n",
      "2019-07-19 04:21:14,492 : INFO : worker thread finished; awaiting finish of 1 more threads\n",
      "2019-07-19 04:21:14,503 : INFO : worker thread finished; awaiting finish of 0 more threads\n",
      "2019-07-19 04:21:14,504 : INFO : EPOCH - 58 : training on 21967 raw words (12592 effective words) took 0.1s, 103016 effective words/s\n",
      "2019-07-19 04:21:14,516 : INFO : worker thread finished; awaiting finish of 3 more threads\n",
      "2019-07-19 04:21:14,551 : INFO : worker thread finished; awaiting finish of 2 more threads\n",
      "2019-07-19 04:21:14,637 : INFO : worker thread finished; awaiting finish of 1 more threads\n",
      "2019-07-19 04:21:14,643 : INFO : worker thread finished; awaiting finish of 0 more threads\n",
      "2019-07-19 04:21:14,644 : INFO : EPOCH - 59 : training on 21967 raw words (12506 effective words) took 0.1s, 94805 effective words/s\n",
      "2019-07-19 04:21:14,655 : INFO : worker thread finished; awaiting finish of 3 more threads\n",
      "2019-07-19 04:21:14,686 : INFO : worker thread finished; awaiting finish of 2 more threads\n",
      "2019-07-19 04:21:14,774 : INFO : worker thread finished; awaiting finish of 1 more threads\n",
      "2019-07-19 04:21:14,778 : INFO : worker thread finished; awaiting finish of 0 more threads\n",
      "2019-07-19 04:21:14,780 : INFO : EPOCH - 60 : training on 21967 raw words (12494 effective words) took 0.1s, 96538 effective words/s\n",
      "2019-07-19 04:21:14,793 : INFO : worker thread finished; awaiting finish of 3 more threads\n",
      "2019-07-19 04:21:14,821 : INFO : worker thread finished; awaiting finish of 2 more threads\n",
      "2019-07-19 04:21:14,898 : INFO : worker thread finished; awaiting finish of 1 more threads\n",
      "2019-07-19 04:21:14,902 : INFO : worker thread finished; awaiting finish of 0 more threads\n",
      "2019-07-19 04:21:14,905 : INFO : EPOCH - 61 : training on 21967 raw words (12503 effective words) took 0.1s, 106030 effective words/s\n",
      "2019-07-19 04:21:14,915 : INFO : worker thread finished; awaiting finish of 3 more threads\n",
      "2019-07-19 04:21:14,958 : INFO : worker thread finished; awaiting finish of 2 more threads\n",
      "2019-07-19 04:21:15,037 : INFO : worker thread finished; awaiting finish of 1 more threads\n",
      "2019-07-19 04:21:15,044 : INFO : worker thread finished; awaiting finish of 0 more threads\n",
      "2019-07-19 04:21:15,046 : INFO : EPOCH - 62 : training on 21967 raw words (12534 effective words) took 0.1s, 92847 effective words/s\n",
      "2019-07-19 04:21:15,060 : INFO : worker thread finished; awaiting finish of 3 more threads\n",
      "2019-07-19 04:21:15,093 : INFO : worker thread finished; awaiting finish of 2 more threads\n",
      "2019-07-19 04:21:15,189 : INFO : worker thread finished; awaiting finish of 1 more threads\n",
      "2019-07-19 04:21:15,197 : INFO : worker thread finished; awaiting finish of 0 more threads\n",
      "2019-07-19 04:21:15,198 : INFO : EPOCH - 63 : training on 21967 raw words (12523 effective words) took 0.1s, 89231 effective words/s\n",
      "2019-07-19 04:21:15,209 : INFO : worker thread finished; awaiting finish of 3 more threads\n",
      "2019-07-19 04:21:15,251 : INFO : worker thread finished; awaiting finish of 2 more threads\n",
      "2019-07-19 04:21:15,314 : INFO : worker thread finished; awaiting finish of 1 more threads\n",
      "2019-07-19 04:21:15,322 : INFO : worker thread finished; awaiting finish of 0 more threads\n",
      "2019-07-19 04:21:15,323 : INFO : EPOCH - 64 : training on 21967 raw words (12517 effective words) took 0.1s, 106110 effective words/s\n",
      "2019-07-19 04:21:15,337 : INFO : worker thread finished; awaiting finish of 3 more threads\n",
      "2019-07-19 04:21:15,377 : INFO : worker thread finished; awaiting finish of 2 more threads\n",
      "2019-07-19 04:21:15,439 : INFO : worker thread finished; awaiting finish of 1 more threads\n",
      "2019-07-19 04:21:15,448 : INFO : worker thread finished; awaiting finish of 0 more threads\n",
      "2019-07-19 04:21:15,450 : INFO : EPOCH - 65 : training on 21967 raw words (12497 effective words) took 0.1s, 104081 effective words/s\n",
      "2019-07-19 04:21:15,464 : INFO : worker thread finished; awaiting finish of 3 more threads\n",
      "2019-07-19 04:21:15,505 : INFO : worker thread finished; awaiting finish of 2 more threads\n",
      "2019-07-19 04:21:15,568 : INFO : worker thread finished; awaiting finish of 1 more threads\n",
      "2019-07-19 04:21:15,572 : INFO : worker thread finished; awaiting finish of 0 more threads\n"
     ]
    },
    {
     "name": "stderr",
     "output_type": "stream",
     "text": [
      "2019-07-19 04:21:15,573 : INFO : EPOCH - 66 : training on 21967 raw words (12582 effective words) took 0.1s, 110589 effective words/s\n",
      "2019-07-19 04:21:15,585 : INFO : worker thread finished; awaiting finish of 3 more threads\n",
      "2019-07-19 04:21:15,623 : INFO : worker thread finished; awaiting finish of 2 more threads\n",
      "2019-07-19 04:21:15,691 : INFO : worker thread finished; awaiting finish of 1 more threads\n",
      "2019-07-19 04:21:15,696 : INFO : worker thread finished; awaiting finish of 0 more threads\n",
      "2019-07-19 04:21:15,697 : INFO : EPOCH - 67 : training on 21967 raw words (12560 effective words) took 0.1s, 110259 effective words/s\n",
      "2019-07-19 04:21:15,708 : INFO : worker thread finished; awaiting finish of 3 more threads\n",
      "2019-07-19 04:21:15,747 : INFO : worker thread finished; awaiting finish of 2 more threads\n",
      "2019-07-19 04:21:15,800 : INFO : worker thread finished; awaiting finish of 1 more threads\n",
      "2019-07-19 04:21:15,819 : INFO : worker thread finished; awaiting finish of 0 more threads\n",
      "2019-07-19 04:21:15,821 : INFO : EPOCH - 68 : training on 21967 raw words (12509 effective words) took 0.1s, 107476 effective words/s\n",
      "2019-07-19 04:21:15,833 : INFO : worker thread finished; awaiting finish of 3 more threads\n",
      "2019-07-19 04:21:15,874 : INFO : worker thread finished; awaiting finish of 2 more threads\n",
      "2019-07-19 04:21:15,932 : INFO : worker thread finished; awaiting finish of 1 more threads\n",
      "2019-07-19 04:21:15,944 : INFO : worker thread finished; awaiting finish of 0 more threads\n",
      "2019-07-19 04:21:15,945 : INFO : EPOCH - 69 : training on 21967 raw words (12574 effective words) took 0.1s, 107815 effective words/s\n",
      "2019-07-19 04:21:15,959 : INFO : worker thread finished; awaiting finish of 3 more threads\n",
      "2019-07-19 04:21:15,993 : INFO : worker thread finished; awaiting finish of 2 more threads\n",
      "2019-07-19 04:21:16,083 : INFO : worker thread finished; awaiting finish of 1 more threads\n",
      "2019-07-19 04:21:16,085 : INFO : worker thread finished; awaiting finish of 0 more threads\n",
      "2019-07-19 04:21:16,086 : INFO : EPOCH - 70 : training on 21967 raw words (12518 effective words) took 0.1s, 95195 effective words/s\n",
      "2019-07-19 04:21:16,096 : INFO : worker thread finished; awaiting finish of 3 more threads\n",
      "2019-07-19 04:21:16,140 : INFO : worker thread finished; awaiting finish of 2 more threads\n",
      "2019-07-19 04:21:16,199 : INFO : worker thread finished; awaiting finish of 1 more threads\n",
      "2019-07-19 04:21:16,206 : INFO : worker thread finished; awaiting finish of 0 more threads\n",
      "2019-07-19 04:21:16,207 : INFO : EPOCH - 71 : training on 21967 raw words (12438 effective words) took 0.1s, 108851 effective words/s\n",
      "2019-07-19 04:21:16,224 : INFO : worker thread finished; awaiting finish of 3 more threads\n",
      "2019-07-19 04:21:16,254 : INFO : worker thread finished; awaiting finish of 2 more threads\n",
      "2019-07-19 04:21:16,347 : INFO : worker thread finished; awaiting finish of 1 more threads\n",
      "2019-07-19 04:21:16,348 : INFO : worker thread finished; awaiting finish of 0 more threads\n",
      "2019-07-19 04:21:16,349 : INFO : EPOCH - 72 : training on 21967 raw words (12532 effective words) took 0.1s, 93163 effective words/s\n",
      "2019-07-19 04:21:16,367 : INFO : worker thread finished; awaiting finish of 3 more threads\n",
      "2019-07-19 04:21:16,403 : INFO : worker thread finished; awaiting finish of 2 more threads\n",
      "2019-07-19 04:21:16,471 : INFO : worker thread finished; awaiting finish of 1 more threads\n",
      "2019-07-19 04:21:16,473 : INFO : worker thread finished; awaiting finish of 0 more threads\n",
      "2019-07-19 04:21:16,474 : INFO : EPOCH - 73 : training on 21967 raw words (12524 effective words) took 0.1s, 110449 effective words/s\n",
      "2019-07-19 04:21:16,486 : INFO : worker thread finished; awaiting finish of 3 more threads\n",
      "2019-07-19 04:21:16,516 : INFO : worker thread finished; awaiting finish of 2 more threads\n",
      "2019-07-19 04:21:16,605 : INFO : worker thread finished; awaiting finish of 1 more threads\n",
      "2019-07-19 04:21:16,606 : INFO : worker thread finished; awaiting finish of 0 more threads\n",
      "2019-07-19 04:21:16,607 : INFO : EPOCH - 74 : training on 21967 raw words (12528 effective words) took 0.1s, 100177 effective words/s\n",
      "2019-07-19 04:21:16,618 : INFO : worker thread finished; awaiting finish of 3 more threads\n",
      "2019-07-19 04:21:16,658 : INFO : worker thread finished; awaiting finish of 2 more threads\n",
      "2019-07-19 04:21:16,719 : INFO : worker thread finished; awaiting finish of 1 more threads\n",
      "2019-07-19 04:21:16,725 : INFO : worker thread finished; awaiting finish of 0 more threads\n",
      "2019-07-19 04:21:16,726 : INFO : EPOCH - 75 : training on 21967 raw words (12548 effective words) took 0.1s, 111826 effective words/s\n",
      "2019-07-19 04:21:16,741 : INFO : worker thread finished; awaiting finish of 3 more threads\n",
      "2019-07-19 04:21:16,778 : INFO : worker thread finished; awaiting finish of 2 more threads\n",
      "2019-07-19 04:21:16,842 : INFO : worker thread finished; awaiting finish of 1 more threads\n",
      "2019-07-19 04:21:16,853 : INFO : worker thread finished; awaiting finish of 0 more threads\n",
      "2019-07-19 04:21:16,854 : INFO : EPOCH - 76 : training on 21967 raw words (12446 effective words) took 0.1s, 101994 effective words/s\n",
      "2019-07-19 04:21:16,864 : INFO : worker thread finished; awaiting finish of 3 more threads\n",
      "2019-07-19 04:21:16,904 : INFO : worker thread finished; awaiting finish of 2 more threads\n",
      "2019-07-19 04:21:16,966 : INFO : worker thread finished; awaiting finish of 1 more threads\n",
      "2019-07-19 04:21:16,972 : INFO : worker thread finished; awaiting finish of 0 more threads\n",
      "2019-07-19 04:21:16,973 : INFO : EPOCH - 77 : training on 21967 raw words (12481 effective words) took 0.1s, 114014 effective words/s\n",
      "2019-07-19 04:21:16,986 : INFO : worker thread finished; awaiting finish of 3 more threads\n",
      "2019-07-19 04:21:17,027 : INFO : worker thread finished; awaiting finish of 2 more threads\n",
      "2019-07-19 04:21:17,090 : INFO : worker thread finished; awaiting finish of 1 more threads\n",
      "2019-07-19 04:21:17,095 : INFO : worker thread finished; awaiting finish of 0 more threads\n",
      "2019-07-19 04:21:17,096 : INFO : EPOCH - 78 : training on 21967 raw words (12534 effective words) took 0.1s, 107456 effective words/s\n",
      "2019-07-19 04:21:17,108 : INFO : worker thread finished; awaiting finish of 3 more threads\n",
      "2019-07-19 04:21:17,140 : INFO : worker thread finished; awaiting finish of 2 more threads\n",
      "2019-07-19 04:21:17,210 : INFO : worker thread finished; awaiting finish of 1 more threads\n",
      "2019-07-19 04:21:17,218 : INFO : worker thread finished; awaiting finish of 0 more threads\n",
      "2019-07-19 04:21:17,219 : INFO : EPOCH - 79 : training on 21967 raw words (12495 effective words) took 0.1s, 107938 effective words/s\n",
      "2019-07-19 04:21:17,233 : INFO : worker thread finished; awaiting finish of 3 more threads\n",
      "2019-07-19 04:21:17,271 : INFO : worker thread finished; awaiting finish of 2 more threads\n",
      "2019-07-19 04:21:17,334 : INFO : worker thread finished; awaiting finish of 1 more threads\n",
      "2019-07-19 04:21:17,342 : INFO : worker thread finished; awaiting finish of 0 more threads\n",
      "2019-07-19 04:21:17,343 : INFO : EPOCH - 80 : training on 21967 raw words (12493 effective words) took 0.1s, 108615 effective words/s\n",
      "2019-07-19 04:21:17,357 : INFO : worker thread finished; awaiting finish of 3 more threads\n",
      "2019-07-19 04:21:17,388 : INFO : worker thread finished; awaiting finish of 2 more threads\n",
      "2019-07-19 04:21:17,464 : INFO : worker thread finished; awaiting finish of 1 more threads\n",
      "2019-07-19 04:21:17,467 : INFO : worker thread finished; awaiting finish of 0 more threads\n",
      "2019-07-19 04:21:17,468 : INFO : EPOCH - 81 : training on 21967 raw words (12557 effective words) took 0.1s, 105661 effective words/s\n",
      "2019-07-19 04:21:17,478 : INFO : worker thread finished; awaiting finish of 3 more threads\n",
      "2019-07-19 04:21:17,517 : INFO : worker thread finished; awaiting finish of 2 more threads\n",
      "2019-07-19 04:21:17,588 : INFO : worker thread finished; awaiting finish of 1 more threads\n",
      "2019-07-19 04:21:17,592 : INFO : worker thread finished; awaiting finish of 0 more threads\n",
      "2019-07-19 04:21:17,593 : INFO : EPOCH - 82 : training on 21967 raw words (12530 effective words) took 0.1s, 105361 effective words/s\n",
      "2019-07-19 04:21:17,603 : INFO : worker thread finished; awaiting finish of 3 more threads\n",
      "2019-07-19 04:21:17,645 : INFO : worker thread finished; awaiting finish of 2 more threads\n"
     ]
    },
    {
     "name": "stderr",
     "output_type": "stream",
     "text": [
      "2019-07-19 04:21:17,701 : INFO : worker thread finished; awaiting finish of 1 more threads\n",
      "2019-07-19 04:21:17,717 : INFO : worker thread finished; awaiting finish of 0 more threads\n",
      "2019-07-19 04:21:17,719 : INFO : EPOCH - 83 : training on 21967 raw words (12521 effective words) took 0.1s, 105256 effective words/s\n",
      "2019-07-19 04:21:17,735 : INFO : worker thread finished; awaiting finish of 3 more threads\n",
      "2019-07-19 04:21:17,777 : INFO : worker thread finished; awaiting finish of 2 more threads\n",
      "2019-07-19 04:21:17,837 : INFO : worker thread finished; awaiting finish of 1 more threads\n",
      "2019-07-19 04:21:17,841 : INFO : worker thread finished; awaiting finish of 0 more threads\n",
      "2019-07-19 04:21:17,842 : INFO : EPOCH - 84 : training on 21967 raw words (12538 effective words) took 0.1s, 115441 effective words/s\n",
      "2019-07-19 04:21:17,853 : INFO : worker thread finished; awaiting finish of 3 more threads\n",
      "2019-07-19 04:21:17,883 : INFO : worker thread finished; awaiting finish of 2 more threads\n",
      "2019-07-19 04:21:17,974 : INFO : worker thread finished; awaiting finish of 1 more threads\n",
      "2019-07-19 04:21:17,984 : INFO : worker thread finished; awaiting finish of 0 more threads\n",
      "2019-07-19 04:21:17,986 : INFO : EPOCH - 85 : training on 21967 raw words (12500 effective words) took 0.1s, 90016 effective words/s\n",
      "2019-07-19 04:21:17,997 : INFO : worker thread finished; awaiting finish of 3 more threads\n",
      "2019-07-19 04:21:18,027 : INFO : worker thread finished; awaiting finish of 2 more threads\n",
      "2019-07-19 04:21:18,115 : INFO : worker thread finished; awaiting finish of 1 more threads\n",
      "2019-07-19 04:21:18,124 : INFO : worker thread finished; awaiting finish of 0 more threads\n",
      "2019-07-19 04:21:18,125 : INFO : EPOCH - 86 : training on 21967 raw words (12465 effective words) took 0.1s, 94347 effective words/s\n",
      "2019-07-19 04:21:18,141 : INFO : worker thread finished; awaiting finish of 3 more threads\n",
      "2019-07-19 04:21:18,167 : INFO : worker thread finished; awaiting finish of 2 more threads\n",
      "2019-07-19 04:21:18,247 : INFO : worker thread finished; awaiting finish of 1 more threads\n",
      "2019-07-19 04:21:18,256 : INFO : worker thread finished; awaiting finish of 0 more threads\n",
      "2019-07-19 04:21:18,257 : INFO : EPOCH - 87 : training on 21967 raw words (12441 effective words) took 0.1s, 98986 effective words/s\n",
      "2019-07-19 04:21:18,271 : INFO : worker thread finished; awaiting finish of 3 more threads\n",
      "2019-07-19 04:21:18,313 : INFO : worker thread finished; awaiting finish of 2 more threads\n",
      "2019-07-19 04:21:18,369 : INFO : worker thread finished; awaiting finish of 1 more threads\n",
      "2019-07-19 04:21:18,389 : INFO : worker thread finished; awaiting finish of 0 more threads\n",
      "2019-07-19 04:21:18,390 : INFO : EPOCH - 88 : training on 21967 raw words (12581 effective words) took 0.1s, 101388 effective words/s\n",
      "2019-07-19 04:21:18,401 : INFO : worker thread finished; awaiting finish of 3 more threads\n",
      "2019-07-19 04:21:18,442 : INFO : worker thread finished; awaiting finish of 2 more threads\n",
      "2019-07-19 04:21:18,514 : INFO : worker thread finished; awaiting finish of 1 more threads\n",
      "2019-07-19 04:21:18,523 : INFO : worker thread finished; awaiting finish of 0 more threads\n",
      "2019-07-19 04:21:18,524 : INFO : EPOCH - 89 : training on 21967 raw words (12493 effective words) took 0.1s, 98793 effective words/s\n",
      "2019-07-19 04:21:18,536 : INFO : worker thread finished; awaiting finish of 3 more threads\n",
      "2019-07-19 04:21:18,577 : INFO : worker thread finished; awaiting finish of 2 more threads\n",
      "2019-07-19 04:21:18,641 : INFO : worker thread finished; awaiting finish of 1 more threads\n",
      "2019-07-19 04:21:18,642 : INFO : worker thread finished; awaiting finish of 0 more threads\n",
      "2019-07-19 04:21:18,643 : INFO : EPOCH - 90 : training on 21967 raw words (12537 effective words) took 0.1s, 110000 effective words/s\n",
      "2019-07-19 04:21:18,660 : INFO : worker thread finished; awaiting finish of 3 more threads\n",
      "2019-07-19 04:21:18,698 : INFO : worker thread finished; awaiting finish of 2 more threads\n",
      "2019-07-19 04:21:18,754 : INFO : worker thread finished; awaiting finish of 1 more threads\n",
      "2019-07-19 04:21:18,776 : INFO : worker thread finished; awaiting finish of 0 more threads\n",
      "2019-07-19 04:21:18,777 : INFO : EPOCH - 91 : training on 21967 raw words (12543 effective words) took 0.1s, 102089 effective words/s\n",
      "2019-07-19 04:21:18,791 : INFO : worker thread finished; awaiting finish of 3 more threads\n",
      "2019-07-19 04:21:18,829 : INFO : worker thread finished; awaiting finish of 2 more threads\n",
      "2019-07-19 04:21:18,892 : INFO : worker thread finished; awaiting finish of 1 more threads\n",
      "2019-07-19 04:21:18,895 : INFO : worker thread finished; awaiting finish of 0 more threads\n",
      "2019-07-19 04:21:18,896 : INFO : EPOCH - 92 : training on 21967 raw words (12529 effective words) took 0.1s, 113910 effective words/s\n",
      "2019-07-19 04:21:18,910 : INFO : worker thread finished; awaiting finish of 3 more threads\n",
      "2019-07-19 04:21:18,947 : INFO : worker thread finished; awaiting finish of 2 more threads\n",
      "2019-07-19 04:21:19,010 : INFO : worker thread finished; awaiting finish of 1 more threads\n",
      "2019-07-19 04:21:19,012 : INFO : worker thread finished; awaiting finish of 0 more threads\n",
      "2019-07-19 04:21:19,013 : INFO : EPOCH - 93 : training on 21967 raw words (12474 effective words) took 0.1s, 116432 effective words/s\n",
      "2019-07-19 04:21:19,027 : INFO : worker thread finished; awaiting finish of 3 more threads\n",
      "2019-07-19 04:21:19,064 : INFO : worker thread finished; awaiting finish of 2 more threads\n",
      "2019-07-19 04:21:19,125 : INFO : worker thread finished; awaiting finish of 1 more threads\n",
      "2019-07-19 04:21:19,132 : INFO : worker thread finished; awaiting finish of 0 more threads\n",
      "2019-07-19 04:21:19,134 : INFO : EPOCH - 94 : training on 21967 raw words (12554 effective words) took 0.1s, 116358 effective words/s\n",
      "2019-07-19 04:21:19,146 : INFO : worker thread finished; awaiting finish of 3 more threads\n",
      "2019-07-19 04:21:19,187 : INFO : worker thread finished; awaiting finish of 2 more threads\n",
      "2019-07-19 04:21:19,249 : INFO : worker thread finished; awaiting finish of 1 more threads\n",
      "2019-07-19 04:21:19,253 : INFO : worker thread finished; awaiting finish of 0 more threads\n",
      "2019-07-19 04:21:19,254 : INFO : EPOCH - 95 : training on 21967 raw words (12565 effective words) took 0.1s, 111539 effective words/s\n",
      "2019-07-19 04:21:19,266 : INFO : worker thread finished; awaiting finish of 3 more threads\n",
      "2019-07-19 04:21:19,298 : INFO : worker thread finished; awaiting finish of 2 more threads\n",
      "2019-07-19 04:21:19,378 : INFO : worker thread finished; awaiting finish of 1 more threads\n",
      "2019-07-19 04:21:19,400 : INFO : worker thread finished; awaiting finish of 0 more threads\n",
      "2019-07-19 04:21:19,401 : INFO : EPOCH - 96 : training on 21967 raw words (12505 effective words) took 0.1s, 88794 effective words/s\n",
      "2019-07-19 04:21:19,414 : INFO : worker thread finished; awaiting finish of 3 more threads\n",
      "2019-07-19 04:21:19,452 : INFO : worker thread finished; awaiting finish of 2 more threads\n",
      "2019-07-19 04:21:19,521 : INFO : worker thread finished; awaiting finish of 1 more threads\n",
      "2019-07-19 04:21:19,531 : INFO : worker thread finished; awaiting finish of 0 more threads\n",
      "2019-07-19 04:21:19,532 : INFO : EPOCH - 97 : training on 21967 raw words (12564 effective words) took 0.1s, 101685 effective words/s\n",
      "2019-07-19 04:21:19,549 : INFO : worker thread finished; awaiting finish of 3 more threads\n",
      "2019-07-19 04:21:19,587 : INFO : worker thread finished; awaiting finish of 2 more threads\n",
      "2019-07-19 04:21:19,652 : INFO : worker thread finished; awaiting finish of 1 more threads\n",
      "2019-07-19 04:21:19,663 : INFO : worker thread finished; awaiting finish of 0 more threads\n",
      "2019-07-19 04:21:19,665 : INFO : EPOCH - 98 : training on 21967 raw words (12549 effective words) took 0.1s, 108472 effective words/s\n",
      "2019-07-19 04:21:19,678 : INFO : worker thread finished; awaiting finish of 3 more threads\n",
      "2019-07-19 04:21:19,709 : INFO : worker thread finished; awaiting finish of 2 more threads\n",
      "2019-07-19 04:21:19,802 : INFO : worker thread finished; awaiting finish of 1 more threads\n",
      "2019-07-19 04:21:19,805 : INFO : worker thread finished; awaiting finish of 0 more threads\n",
      "2019-07-19 04:21:19,806 : INFO : EPOCH - 99 : training on 21967 raw words (12506 effective words) took 0.1s, 92829 effective words/s\n"
     ]
    },
    {
     "name": "stderr",
     "output_type": "stream",
     "text": [
      "2019-07-19 04:21:19,820 : INFO : worker thread finished; awaiting finish of 3 more threads\n",
      "2019-07-19 04:21:19,850 : INFO : worker thread finished; awaiting finish of 2 more threads\n",
      "2019-07-19 04:21:19,913 : INFO : worker thread finished; awaiting finish of 1 more threads\n",
      "2019-07-19 04:21:19,933 : INFO : worker thread finished; awaiting finish of 0 more threads\n",
      "2019-07-19 04:21:19,934 : INFO : EPOCH - 100 : training on 21967 raw words (12550 effective words) took 0.1s, 103357 effective words/s\n",
      "2019-07-19 04:21:19,935 : INFO : training on a 2196700 raw words (1252083 effective words) took 15.1s, 82738 effective words/s\n"
     ]
    },
    {
     "data": {
      "text/plain": [
       "(1252083, 2196700)"
      ]
     },
     "execution_count": 34,
     "metadata": {},
     "output_type": "execute_result"
    }
   ],
   "source": [
    "# Start training, this might take a minute or two...\n",
    "# train model on sentences\n",
    "thrones2vec.train(sentences, total_words=token_count, epochs=100)"
   ]
  },
  {
   "cell_type": "code",
   "execution_count": 35,
   "metadata": {},
   "outputs": [],
   "source": [
    "# Save model to file, can be useful later\n",
    "if not os.path.exists(\"trained\"):\n",
    "    os.makedirs(\"trained\")"
   ]
  },
  {
   "cell_type": "code",
   "execution_count": 36,
   "metadata": {},
   "outputs": [
    {
     "name": "stderr",
     "output_type": "stream",
     "text": [
      "2019-07-19 04:22:00,433 : INFO : saving Word2Vec object under trained/thrones2vec.w2v, separately None\n",
      "2019-07-19 04:22:00,435 : INFO : not storing attribute vectors_norm\n",
      "2019-07-19 04:22:00,439 : INFO : not storing attribute cum_table\n",
      "/home/fgbxub/anaconda3/envs/word2vec/lib/python3.6/site-packages/smart_open/smart_open_lib.py:398: UserWarning: This function is deprecated, use smart_open.open instead. See the migration notes for details: https://github.com/RaRe-Technologies/smart_open/blob/master/README.rst#migrating-to-the-new-open-function\n",
      "  'See the migration notes for details: %s' % _MIGRATION_NOTES_URL\n",
      "2019-07-19 04:22:00,588 : INFO : saved trained/thrones2vec.w2v\n"
     ]
    }
   ],
   "source": [
    "thrones2vec.save(os.path.join(\"trained\", \"thrones2vec.w2v\"))"
   ]
  },
  {
   "cell_type": "markdown",
   "metadata": {},
   "source": [
    "# Explore the trained model"
   ]
  },
  {
   "cell_type": "code",
   "execution_count": 5,
   "metadata": {},
   "outputs": [],
   "source": [
    "#load model\n",
    "#thrones2vec = w2v.Word2Vec.load('bnc_w2v_binary.txt', binary=True)\n",
    "from gensim.models import KeyedVectors\n",
    "thrones2vec = KeyedVectors.load_word2vec_format('bnc_w2v_binary.txt', binary=True)"
   ]
  },
  {
   "cell_type": "markdown",
   "metadata": {},
   "source": [
    "## Compress the word vectors into 2D space and plot them"
   ]
  },
  {
   "cell_type": "code",
   "execution_count": 38,
   "metadata": {},
   "outputs": [],
   "source": [
    "# visualize a dataset easily\n",
    "# squash dimensionality to 2D\n",
    "# https://www.oreilly.com/learning/an-illustrated-introduction-to-the-t-sne-algorithm\n",
    "tsne = sklearn.manifold.TSNE(n_components=2, random_state=0)\n"
   ]
  },
  {
   "cell_type": "code",
   "execution_count": 39,
   "metadata": {},
   "outputs": [
    {
     "name": "stderr",
     "output_type": "stream",
     "text": [
      "/home/fgbxub/anaconda3/envs/word2vec/lib/python3.6/site-packages/ipykernel_launcher.py:2: DeprecationWarning: Call to deprecated `syn0` (Attribute will be removed in 4.0.0, use self.wv.vectors instead).\n",
      "  \n"
     ]
    }
   ],
   "source": [
    "# put it all into a giant matrix\n",
    "all_word_vectors_matrix = thrones2vec.wv.syn0\n"
   ]
  },
  {
   "cell_type": "code",
   "execution_count": 40,
   "metadata": {},
   "outputs": [],
   "source": [
    "# Train t-SNE, this could take a minute or two...\n",
    "all_word_vectors_matrix_2d = tsne.fit_transform(all_word_vectors_matrix)\n"
   ]
  },
  {
   "cell_type": "code",
   "execution_count": 41,
   "metadata": {},
   "outputs": [],
   "source": [
    "# Plot the big picture in 2D\n",
    "points = pd.DataFrame(\n",
    "    [\n",
    "        (word, coords[0], coords[1])\n",
    "        for word, coords in [\n",
    "            (word, all_word_vectors_matrix_2d[thrones2vec.wv.vocab[word].index])\n",
    "            for word in thrones2vec.wv.vocab\n",
    "        ]\n",
    "    ],\n",
    "    columns=[\"word\", \"x\", \"y\"]\n",
    ")"
   ]
  },
  {
   "cell_type": "code",
   "execution_count": 42,
   "metadata": {},
   "outputs": [
    {
     "data": {
      "text/html": [
       "<div>\n",
       "<style scoped>\n",
       "    .dataframe tbody tr th:only-of-type {\n",
       "        vertical-align: middle;\n",
       "    }\n",
       "\n",
       "    .dataframe tbody tr th {\n",
       "        vertical-align: top;\n",
       "    }\n",
       "\n",
       "    .dataframe thead th {\n",
       "        text-align: right;\n",
       "    }\n",
       "</style>\n",
       "<table border=\"1\" class=\"dataframe\">\n",
       "  <thead>\n",
       "    <tr style=\"text-align: right;\">\n",
       "      <th></th>\n",
       "      <th>word</th>\n",
       "      <th>x</th>\n",
       "      <th>y</th>\n",
       "    </tr>\n",
       "  </thead>\n",
       "  <tbody>\n",
       "    <tr>\n",
       "      <th>0</th>\n",
       "      <td>My</td>\n",
       "      <td>-4.494191</td>\n",
       "      <td>10.523704</td>\n",
       "    </tr>\n",
       "    <tr>\n",
       "      <th>1</th>\n",
       "      <td>Lords</td>\n",
       "      <td>29.447269</td>\n",
       "      <td>-25.674013</td>\n",
       "    </tr>\n",
       "    <tr>\n",
       "      <th>2</th>\n",
       "      <td>and</td>\n",
       "      <td>-4.890016</td>\n",
       "      <td>9.402596</td>\n",
       "    </tr>\n",
       "    <tr>\n",
       "      <th>3</th>\n",
       "      <td>Members</td>\n",
       "      <td>30.302896</td>\n",
       "      <td>-27.126211</td>\n",
       "    </tr>\n",
       "    <tr>\n",
       "      <th>4</th>\n",
       "      <td>of</td>\n",
       "      <td>-4.970850</td>\n",
       "      <td>9.020165</td>\n",
       "    </tr>\n",
       "    <tr>\n",
       "      <th>5</th>\n",
       "      <td>the</td>\n",
       "      <td>-4.845783</td>\n",
       "      <td>9.084978</td>\n",
       "    </tr>\n",
       "    <tr>\n",
       "      <th>6</th>\n",
       "      <td>House</td>\n",
       "      <td>29.560938</td>\n",
       "      <td>-25.754572</td>\n",
       "    </tr>\n",
       "    <tr>\n",
       "      <th>7</th>\n",
       "      <td>Commons</td>\n",
       "      <td>29.882877</td>\n",
       "      <td>-26.220873</td>\n",
       "    </tr>\n",
       "    <tr>\n",
       "      <th>8</th>\n",
       "      <td>The</td>\n",
       "      <td>23.318419</td>\n",
       "      <td>-33.690754</td>\n",
       "    </tr>\n",
       "    <tr>\n",
       "      <th>9</th>\n",
       "      <td>Duke</td>\n",
       "      <td>19.661680</td>\n",
       "      <td>-31.505299</td>\n",
       "    </tr>\n",
       "    <tr>\n",
       "      <th>10</th>\n",
       "      <td>Edinburgh</td>\n",
       "      <td>19.632339</td>\n",
       "      <td>-31.515642</td>\n",
       "    </tr>\n",
       "    <tr>\n",
       "      <th>11</th>\n",
       "      <td>I</td>\n",
       "      <td>21.134541</td>\n",
       "      <td>-30.989498</td>\n",
       "    </tr>\n",
       "    <tr>\n",
       "      <th>12</th>\n",
       "      <td>look</td>\n",
       "      <td>17.824507</td>\n",
       "      <td>-33.474384</td>\n",
       "    </tr>\n",
       "    <tr>\n",
       "      <th>13</th>\n",
       "      <td>forward</td>\n",
       "      <td>8.081488</td>\n",
       "      <td>36.621544</td>\n",
       "    </tr>\n",
       "    <tr>\n",
       "      <th>14</th>\n",
       "      <td>to</td>\n",
       "      <td>-4.402084</td>\n",
       "      <td>9.167120</td>\n",
       "    </tr>\n",
       "    <tr>\n",
       "      <th>15</th>\n",
       "      <td>receiving</td>\n",
       "      <td>16.363344</td>\n",
       "      <td>-32.065063</td>\n",
       "    </tr>\n",
       "    <tr>\n",
       "      <th>16</th>\n",
       "      <td>State</td>\n",
       "      <td>18.064425</td>\n",
       "      <td>-35.049923</td>\n",
       "    </tr>\n",
       "    <tr>\n",
       "      <th>17</th>\n",
       "      <td>by</td>\n",
       "      <td>-9.673346</td>\n",
       "      <td>38.097374</td>\n",
       "    </tr>\n",
       "    <tr>\n",
       "      <th>18</th>\n",
       "      <td>His</td>\n",
       "      <td>15.386697</td>\n",
       "      <td>-32.379528</td>\n",
       "    </tr>\n",
       "    <tr>\n",
       "      <th>19</th>\n",
       "      <td>Excellency</td>\n",
       "      <td>15.075261</td>\n",
       "      <td>-32.559525</td>\n",
       "    </tr>\n",
       "    <tr>\n",
       "      <th>20</th>\n",
       "      <td>President</td>\n",
       "      <td>15.036993</td>\n",
       "      <td>-32.773056</td>\n",
       "    </tr>\n",
       "    <tr>\n",
       "      <th>21</th>\n",
       "      <td>in</td>\n",
       "      <td>-3.713086</td>\n",
       "      <td>8.770280</td>\n",
       "    </tr>\n",
       "    <tr>\n",
       "      <th>22</th>\n",
       "      <td>December</td>\n",
       "      <td>15.931506</td>\n",
       "      <td>-28.881701</td>\n",
       "    </tr>\n",
       "    <tr>\n",
       "      <th>23</th>\n",
       "      <td>Their</td>\n",
       "      <td>16.359602</td>\n",
       "      <td>-31.105963</td>\n",
       "    </tr>\n",
       "    <tr>\n",
       "      <th>24</th>\n",
       "      <td>Majesties</td>\n",
       "      <td>16.268425</td>\n",
       "      <td>-31.005106</td>\n",
       "    </tr>\n",
       "    <tr>\n",
       "      <th>25</th>\n",
       "      <td>next</td>\n",
       "      <td>17.575581</td>\n",
       "      <td>-27.128777</td>\n",
       "    </tr>\n",
       "    <tr>\n",
       "      <th>26</th>\n",
       "      <td>year</td>\n",
       "      <td>13.256806</td>\n",
       "      <td>-29.938749</td>\n",
       "    </tr>\n",
       "    <tr>\n",
       "      <th>27</th>\n",
       "      <td>We</td>\n",
       "      <td>16.992260</td>\n",
       "      <td>-32.351128</td>\n",
       "    </tr>\n",
       "    <tr>\n",
       "      <th>28</th>\n",
       "      <td>also</td>\n",
       "      <td>-4.048076</td>\n",
       "      <td>7.403922</td>\n",
       "    </tr>\n",
       "    <tr>\n",
       "      <th>29</th>\n",
       "      <td>our</td>\n",
       "      <td>20.239597</td>\n",
       "      <td>-34.077023</td>\n",
       "    </tr>\n",
       "    <tr>\n",
       "      <th>...</th>\n",
       "      <td>...</td>\n",
       "      <td>...</td>\n",
       "      <td>...</td>\n",
       "    </tr>\n",
       "    <tr>\n",
       "      <th>70</th>\n",
       "      <td>Bill</td>\n",
       "      <td>-4.998115</td>\n",
       "      <td>5.762742</td>\n",
       "    </tr>\n",
       "    <tr>\n",
       "      <th>71</th>\n",
       "      <td>measures</td>\n",
       "      <td>10.814560</td>\n",
       "      <td>28.661455</td>\n",
       "    </tr>\n",
       "    <tr>\n",
       "      <th>72</th>\n",
       "      <td>educational</td>\n",
       "      <td>-12.180023</td>\n",
       "      <td>2.904490</td>\n",
       "    </tr>\n",
       "    <tr>\n",
       "      <th>73</th>\n",
       "      <td>develop</td>\n",
       "      <td>-10.711622</td>\n",
       "      <td>4.358760</td>\n",
       "    </tr>\n",
       "    <tr>\n",
       "      <th>74</th>\n",
       "      <td>new</td>\n",
       "      <td>-7.410312</td>\n",
       "      <td>9.742899</td>\n",
       "    </tr>\n",
       "    <tr>\n",
       "      <th>75</th>\n",
       "      <td>role</td>\n",
       "      <td>4.039023</td>\n",
       "      <td>-13.874322</td>\n",
       "    </tr>\n",
       "    <tr>\n",
       "      <th>76</th>\n",
       "      <td>local</td>\n",
       "      <td>-26.563160</td>\n",
       "      <td>-3.075214</td>\n",
       "    </tr>\n",
       "    <tr>\n",
       "      <th>77</th>\n",
       "      <td>authorities</td>\n",
       "      <td>-26.374809</td>\n",
       "      <td>-2.974010</td>\n",
       "    </tr>\n",
       "    <tr>\n",
       "      <th>78</th>\n",
       "      <td>parents</td>\n",
       "      <td>19.395939</td>\n",
       "      <td>19.643476</td>\n",
       "    </tr>\n",
       "    <tr>\n",
       "      <th>79</th>\n",
       "      <td>establish</td>\n",
       "      <td>-9.593095</td>\n",
       "      <td>5.637400</td>\n",
       "    </tr>\n",
       "    <tr>\n",
       "      <th>80</th>\n",
       "      <td>framework</td>\n",
       "      <td>7.556171</td>\n",
       "      <td>19.464329</td>\n",
       "    </tr>\n",
       "    <tr>\n",
       "      <th>81</th>\n",
       "      <td>organisation</td>\n",
       "      <td>-3.500807</td>\n",
       "      <td>2.551342</td>\n",
       "    </tr>\n",
       "    <tr>\n",
       "      <th>82</th>\n",
       "      <td>propose</td>\n",
       "      <td>-0.687890</td>\n",
       "      <td>-4.125811</td>\n",
       "    </tr>\n",
       "    <tr>\n",
       "      <th>83</th>\n",
       "      <td>reforms</td>\n",
       "      <td>19.194683</td>\n",
       "      <td>-3.334564</td>\n",
       "    </tr>\n",
       "    <tr>\n",
       "      <th>84</th>\n",
       "      <td>teaching</td>\n",
       "      <td>18.339111</td>\n",
       "      <td>-3.544813</td>\n",
       "    </tr>\n",
       "    <tr>\n",
       "      <th>85</th>\n",
       "      <td>respond</td>\n",
       "      <td>9.958716</td>\n",
       "      <td>-11.464121</td>\n",
       "    </tr>\n",
       "    <tr>\n",
       "      <th>86</th>\n",
       "      <td>recommendations</td>\n",
       "      <td>-4.386584</td>\n",
       "      <td>-2.293933</td>\n",
       "    </tr>\n",
       "    <tr>\n",
       "      <th>87</th>\n",
       "      <td>from</td>\n",
       "      <td>5.828722</td>\n",
       "      <td>-10.180274</td>\n",
       "    </tr>\n",
       "    <tr>\n",
       "      <th>88</th>\n",
       "      <td>National</td>\n",
       "      <td>-24.226772</td>\n",
       "      <td>28.089933</td>\n",
       "    </tr>\n",
       "    <tr>\n",
       "      <th>89</th>\n",
       "      <td>Committee</td>\n",
       "      <td>-1.321769</td>\n",
       "      <td>-5.666281</td>\n",
       "    </tr>\n",
       "    <tr>\n",
       "      <th>90</th>\n",
       "      <td>into</td>\n",
       "      <td>-5.878843</td>\n",
       "      <td>-3.439990</td>\n",
       "    </tr>\n",
       "    <tr>\n",
       "      <th>91</th>\n",
       "      <td>future</td>\n",
       "      <td>-12.185954</td>\n",
       "      <td>-6.902929</td>\n",
       "    </tr>\n",
       "    <tr>\n",
       "      <th>92</th>\n",
       "      <td>higher</td>\n",
       "      <td>-0.062394</td>\n",
       "      <td>21.510532</td>\n",
       "    </tr>\n",
       "    <tr>\n",
       "      <th>93</th>\n",
       "      <td>central</td>\n",
       "      <td>12.044858</td>\n",
       "      <td>-7.899570</td>\n",
       "    </tr>\n",
       "    <tr>\n",
       "      <th>94</th>\n",
       "      <td>economic</td>\n",
       "      <td>14.656717</td>\n",
       "      <td>-7.589818</td>\n",
       "    </tr>\n",
       "    <tr>\n",
       "      <th>95</th>\n",
       "      <td>objectives</td>\n",
       "      <td>11.977688</td>\n",
       "      <td>-8.150483</td>\n",
       "    </tr>\n",
       "    <tr>\n",
       "      <th>96</th>\n",
       "      <td>are</td>\n",
       "      <td>0.166418</td>\n",
       "      <td>29.873703</td>\n",
       "    </tr>\n",
       "    <tr>\n",
       "      <th>97</th>\n",
       "      <td>high</td>\n",
       "      <td>22.227207</td>\n",
       "      <td>23.253630</td>\n",
       "    </tr>\n",
       "    <tr>\n",
       "      <th>98</th>\n",
       "      <td>stable</td>\n",
       "      <td>-5.289468</td>\n",
       "      <td>-20.800409</td>\n",
       "    </tr>\n",
       "    <tr>\n",
       "      <th>99</th>\n",
       "      <td>levels</td>\n",
       "      <td>22.761887</td>\n",
       "      <td>21.307358</td>\n",
       "    </tr>\n",
       "  </tbody>\n",
       "</table>\n",
       "<p>100 rows × 3 columns</p>\n",
       "</div>"
      ],
      "text/plain": [
       "               word          x          y\n",
       "0                My  -4.494191  10.523704\n",
       "1             Lords  29.447269 -25.674013\n",
       "2               and  -4.890016   9.402596\n",
       "3           Members  30.302896 -27.126211\n",
       "4                of  -4.970850   9.020165\n",
       "5               the  -4.845783   9.084978\n",
       "6             House  29.560938 -25.754572\n",
       "7           Commons  29.882877 -26.220873\n",
       "8               The  23.318419 -33.690754\n",
       "9              Duke  19.661680 -31.505299\n",
       "10        Edinburgh  19.632339 -31.515642\n",
       "11                I  21.134541 -30.989498\n",
       "12             look  17.824507 -33.474384\n",
       "13          forward   8.081488  36.621544\n",
       "14               to  -4.402084   9.167120\n",
       "15        receiving  16.363344 -32.065063\n",
       "16            State  18.064425 -35.049923\n",
       "17               by  -9.673346  38.097374\n",
       "18              His  15.386697 -32.379528\n",
       "19       Excellency  15.075261 -32.559525\n",
       "20        President  15.036993 -32.773056\n",
       "21               in  -3.713086   8.770280\n",
       "22         December  15.931506 -28.881701\n",
       "23            Their  16.359602 -31.105963\n",
       "24        Majesties  16.268425 -31.005106\n",
       "25             next  17.575581 -27.128777\n",
       "26             year  13.256806 -29.938749\n",
       "27               We  16.992260 -32.351128\n",
       "28             also  -4.048076   7.403922\n",
       "29              our  20.239597 -34.077023\n",
       "..              ...        ...        ...\n",
       "70             Bill  -4.998115   5.762742\n",
       "71         measures  10.814560  28.661455\n",
       "72      educational -12.180023   2.904490\n",
       "73          develop -10.711622   4.358760\n",
       "74              new  -7.410312   9.742899\n",
       "75             role   4.039023 -13.874322\n",
       "76            local -26.563160  -3.075214\n",
       "77      authorities -26.374809  -2.974010\n",
       "78          parents  19.395939  19.643476\n",
       "79        establish  -9.593095   5.637400\n",
       "80        framework   7.556171  19.464329\n",
       "81     organisation  -3.500807   2.551342\n",
       "82          propose  -0.687890  -4.125811\n",
       "83          reforms  19.194683  -3.334564\n",
       "84         teaching  18.339111  -3.544813\n",
       "85          respond   9.958716 -11.464121\n",
       "86  recommendations  -4.386584  -2.293933\n",
       "87             from   5.828722 -10.180274\n",
       "88         National -24.226772  28.089933\n",
       "89        Committee  -1.321769  -5.666281\n",
       "90             into  -5.878843  -3.439990\n",
       "91           future -12.185954  -6.902929\n",
       "92           higher  -0.062394  21.510532\n",
       "93          central  12.044858  -7.899570\n",
       "94         economic  14.656717  -7.589818\n",
       "95       objectives  11.977688  -8.150483\n",
       "96              are   0.166418  29.873703\n",
       "97             high  22.227207  23.253630\n",
       "98           stable  -5.289468 -20.800409\n",
       "99           levels  22.761887  21.307358\n",
       "\n",
       "[100 rows x 3 columns]"
      ]
     },
     "execution_count": 42,
     "metadata": {},
     "output_type": "execute_result"
    }
   ],
   "source": [
    "points.head(100)"
   ]
  },
  {
   "cell_type": "code",
   "execution_count": 43,
   "metadata": {},
   "outputs": [],
   "source": [
    "# plot\n",
    "sns.set_context(\"poster\")"
   ]
  },
  {
   "cell_type": "code",
   "execution_count": 44,
   "metadata": {},
   "outputs": [
    {
     "data": {
      "text/plain": [
       "<matplotlib.axes._subplots.AxesSubplot at 0x7f92bee79940>"
      ]
     },
     "execution_count": 44,
     "metadata": {},
     "output_type": "execute_result"
    },
    {
     "data": {
      "image/png": "[encoded data removed]",
      "text/plain": [
       "<Figure size 1440x864 with 1 Axes>"
      ]
     },
     "metadata": {
      "needs_background": "light"
     },
     "output_type": "display_data"
    }
   ],
   "source": [
    "points.plot.scatter(\"x\", \"y\", s=10, figsize=(20, 12))"
   ]
  },
  {
   "cell_type": "markdown",
   "metadata": {},
   "source": [
    "## Zoom in to some interesting places"
   ]
  },
  {
   "cell_type": "code",
   "execution_count": 45,
   "metadata": {},
   "outputs": [],
   "source": [
    "def plot_region(x_bounds, y_bounds):\n",
    "    slice = points[\n",
    "        (x_bounds[0] <= points.x) &\n",
    "        (points.x <= x_bounds[1]) & \n",
    "        (y_bounds[0] <= points.y) &\n",
    "        (points.y <= y_bounds[1])\n",
    "    ]\n",
    "    \n",
    "    ax = slice.plot.scatter(\"x\", \"y\", s=35, figsize=(10, 8))\n",
    "    for i, point in slice.iterrows():\n",
    "        ax.text(point.x + 0.005, point.y + 0.005, point.word, fontsize=11)"
   ]
  },
  {
   "cell_type": "code",
   "execution_count": 46,
   "metadata": {},
   "outputs": [],
   "source": [
    "# uncomment this code for Chinese texts, there is a glitch with matplotlib, so in order to \n",
    "# show embeddings (Chinese characters), we need to change the font at this step\n",
    "# https://jdhao.github.io/2017/05/13/guide-on-how-to-use-chinese-with-matplotlib/\n",
    "\n",
    "## import matplotlib as mpl\n",
    "## font_name = \"Droid Sans Fallback\"\n",
    "## mpl.rcParams['font.family']=font_name\n",
    "## mpl.rcParams['axes.unicode_minus']=False # in case minus sign is shown as box"
   ]
  },
  {
   "cell_type": "code",
   "execution_count": 47,
   "metadata": {},
   "outputs": [
    {
     "data": {
      "image/png": "[encoded data removed]",
      "text/plain": [
       "<Figure size 720x576 with 1 Axes>"
      ]
     },
     "metadata": {
      "needs_background": "light"
     },
     "output_type": "display_data"
    }
   ],
   "source": [
    "plot_region(x_bounds=(-35.0, -25.0), y_bounds=(-5.0, 5.0))"
   ]
  },
  {
   "cell_type": "code",
   "execution_count": 48,
   "metadata": {},
   "outputs": [
    {
     "data": {
      "image/png": "[encoded data removed]",
      "text/plain": [
       "<Figure size 720x576 with 1 Axes>"
      ]
     },
     "metadata": {
      "needs_background": "light"
     },
     "output_type": "display_data"
    }
   ],
   "source": [
    "plot_region(x_bounds=(-20.0, -10.0), y_bounds=(-5.0, 5.0))"
   ]
  },
  {
   "cell_type": "code",
   "execution_count": 49,
   "metadata": {},
   "outputs": [
    {
     "data": {
      "image/png": "[encoded data removed]",
      "text/plain": [
       "<Figure size 720x576 with 1 Axes>"
      ]
     },
     "metadata": {
      "needs_background": "light"
     },
     "output_type": "display_data"
    }
   ],
   "source": [
    "plot_region(x_bounds=(-15.0, -10.0), y_bounds=(-2.5, 2.5))"
   ]
  },
  {
   "cell_type": "code",
   "execution_count": 52,
   "metadata": {},
   "outputs": [
    {
     "data": {
      "image/png": "[encoded data removed]",
      "text/plain": [
       "<Figure size 720x576 with 1 Axes>"
      ]
     },
     "metadata": {
      "needs_background": "light"
     },
     "output_type": "display_data"
    }
   ],
   "source": [
    "plot_region(x_bounds=(-12.5, -10.0), y_bounds=(-2.5, 0.0))"
   ]
  },
  {
   "cell_type": "markdown",
   "metadata": {},
   "source": [
    "## Explore semantic similarities between tokens"
   ]
  },
  {
   "cell_type": "code",
   "execution_count": 6,
   "metadata": {},
   "outputs": [
    {
     "data": {
      "text/plain": [
       "[('regeneration', 0.8089592456817627),\n",
       " ('expansion', 0.7576152086257935),\n",
       " ('growth', 0.7539818286895752),\n",
       " ('diversification', 0.7519700527191162),\n",
       " ('integration', 0.7408984899520874),\n",
       " ('modernization', 0.7232900857925415),\n",
       " ('creation', 0.7194961905479431),\n",
       " ('modernisation', 0.7188524603843689),\n",
       " ('innovation', 0.7143126726150513),\n",
       " ('reconstruction', 0.7139564752578735)]"
      ]
     },
     "execution_count": 6,
     "metadata": {},
     "output_type": "execute_result"
    }
   ],
   "source": [
    "# Words closest to the given word\n",
    "thrones2vec.most_similar(\"development\")"
   ]
  },
  {
   "cell_type": "code",
   "execution_count": 7,
   "metadata": {},
   "outputs": [
    {
     "data": {
      "text/plain": [
       "[('aim', 0.5844428539276123),\n",
       " ('objective', 0.5757354497909546),\n",
       " ('responsibility', 0.5747633576393127),\n",
       " ('requirement', 0.5696966648101807),\n",
       " ('profile', 0.5676635503768921),\n",
       " ('opportunity', 0.5644316673278809),\n",
       " ('status', 0.5583654642105103),\n",
       " ('premium', 0.5520043969154358),\n",
       " ('consideration', 0.5462216138839722),\n",
       " ('prominence', 0.5460208654403687)]"
      ]
     },
     "execution_count": 7,
     "metadata": {},
     "output_type": "execute_result"
    }
   ],
   "source": [
    "thrones2vec.most_similar(\"priority\")"
   ]
  },
  {
   "cell_type": "markdown",
   "metadata": {},
   "source": [
    "## Linear relationships between word pairs"
   ]
  },
  {
   "cell_type": "code",
   "execution_count": 8,
   "metadata": {},
   "outputs": [],
   "source": [
    "# distance, similarity, and ranking\n",
    "def nearest_similarity_cosmul(start1, end1, end2):\n",
    "    similarities = thrones2vec.most_similar_cosmul(\n",
    "        positive=[end2, start1],\n",
    "        negative=[end1]\n",
    "    )\n",
    "    start2 = similarities[0][0]\n",
    "    print(\"{start1} is related to {end1}, as {start2} is related to {end2}\".format(**locals()))\n",
    "    return start2"
   ]
  },
  {
   "cell_type": "code",
   "execution_count": 9,
   "metadata": {},
   "outputs": [
    {
     "ename": "KeyError",
     "evalue": "\"word 'modernización' not in vocabulary\"",
     "output_type": "error",
     "traceback": [
      "\u001b[0;31m---------------------------------------------------------------------------\u001b[0m",
      "\u001b[0;31mKeyError\u001b[0m                                  Traceback (most recent call last)",
      "\u001b[0;32m<ipython-input-9-8db2aa1cec22>\u001b[0m in \u001b[0;36m<module>\u001b[0;34m\u001b[0m\n\u001b[0;32m----> 1\u001b[0;31m \u001b[0mnearest_similarity_cosmul\u001b[0m\u001b[0;34m(\u001b[0m\u001b[0;34m\"desarrollo\"\u001b[0m\u001b[0;34m,\u001b[0m \u001b[0;34m\"prioridad\"\u001b[0m\u001b[0;34m,\u001b[0m \u001b[0;34m\"modernización\"\u001b[0m\u001b[0;34m)\u001b[0m\u001b[0;34m\u001b[0m\u001b[0;34m\u001b[0m\u001b[0m\n\u001b[0m",
      "\u001b[0;32m<ipython-input-8-900c5da6ca95>\u001b[0m in \u001b[0;36mnearest_similarity_cosmul\u001b[0;34m(start1, end1, end2)\u001b[0m\n\u001b[1;32m      3\u001b[0m     similarities = thrones2vec.most_similar_cosmul(\n\u001b[1;32m      4\u001b[0m         \u001b[0mpositive\u001b[0m\u001b[0;34m=\u001b[0m\u001b[0;34m[\u001b[0m\u001b[0mend2\u001b[0m\u001b[0;34m,\u001b[0m \u001b[0mstart1\u001b[0m\u001b[0;34m]\u001b[0m\u001b[0;34m,\u001b[0m\u001b[0;34m\u001b[0m\u001b[0;34m\u001b[0m\u001b[0m\n\u001b[0;32m----> 5\u001b[0;31m         \u001b[0mnegative\u001b[0m\u001b[0;34m=\u001b[0m\u001b[0;34m[\u001b[0m\u001b[0mend1\u001b[0m\u001b[0;34m]\u001b[0m\u001b[0;34m\u001b[0m\u001b[0;34m\u001b[0m\u001b[0m\n\u001b[0m\u001b[1;32m      6\u001b[0m     )\n\u001b[1;32m      7\u001b[0m     \u001b[0mstart2\u001b[0m \u001b[0;34m=\u001b[0m \u001b[0msimilarities\u001b[0m\u001b[0;34m[\u001b[0m\u001b[0;36m0\u001b[0m\u001b[0;34m]\u001b[0m\u001b[0;34m[\u001b[0m\u001b[0;36m0\u001b[0m\u001b[0;34m]\u001b[0m\u001b[0;34m\u001b[0m\u001b[0;34m\u001b[0m\u001b[0m\n",
      "\u001b[0;32m/usr/local/lib64/python3.6/site-packages/gensim/models/keyedvectors.py\u001b[0m in \u001b[0;36mmost_similar_cosmul\u001b[0;34m(self, positive, negative, topn)\u001b[0m\n\u001b[1;32m    810\u001b[0m         positive = [\n\u001b[1;32m    811\u001b[0m             \u001b[0mself\u001b[0m\u001b[0;34m.\u001b[0m\u001b[0mword_vec\u001b[0m\u001b[0;34m(\u001b[0m\u001b[0mword\u001b[0m\u001b[0;34m,\u001b[0m \u001b[0muse_norm\u001b[0m\u001b[0;34m=\u001b[0m\u001b[0;32mTrue\u001b[0m\u001b[0;34m)\u001b[0m \u001b[0;32mif\u001b[0m \u001b[0misinstance\u001b[0m\u001b[0;34m(\u001b[0m\u001b[0mword\u001b[0m\u001b[0;34m,\u001b[0m \u001b[0mstring_types\u001b[0m\u001b[0;34m)\u001b[0m \u001b[0;32melse\u001b[0m \u001b[0mword\u001b[0m\u001b[0;34m\u001b[0m\u001b[0;34m\u001b[0m\u001b[0m\n\u001b[0;32m--> 812\u001b[0;31m             \u001b[0;32mfor\u001b[0m \u001b[0mword\u001b[0m \u001b[0;32min\u001b[0m \u001b[0mpositive\u001b[0m\u001b[0;34m\u001b[0m\u001b[0;34m\u001b[0m\u001b[0m\n\u001b[0m\u001b[1;32m    813\u001b[0m         ]\n\u001b[1;32m    814\u001b[0m         negative = [\n",
      "\u001b[0;32m/usr/local/lib64/python3.6/site-packages/gensim/models/keyedvectors.py\u001b[0m in \u001b[0;36m<listcomp>\u001b[0;34m(.0)\u001b[0m\n\u001b[1;32m    810\u001b[0m         positive = [\n\u001b[1;32m    811\u001b[0m             \u001b[0mself\u001b[0m\u001b[0;34m.\u001b[0m\u001b[0mword_vec\u001b[0m\u001b[0;34m(\u001b[0m\u001b[0mword\u001b[0m\u001b[0;34m,\u001b[0m \u001b[0muse_norm\u001b[0m\u001b[0;34m=\u001b[0m\u001b[0;32mTrue\u001b[0m\u001b[0;34m)\u001b[0m \u001b[0;32mif\u001b[0m \u001b[0misinstance\u001b[0m\u001b[0;34m(\u001b[0m\u001b[0mword\u001b[0m\u001b[0;34m,\u001b[0m \u001b[0mstring_types\u001b[0m\u001b[0;34m)\u001b[0m \u001b[0;32melse\u001b[0m \u001b[0mword\u001b[0m\u001b[0;34m\u001b[0m\u001b[0;34m\u001b[0m\u001b[0m\n\u001b[0;32m--> 812\u001b[0;31m             \u001b[0;32mfor\u001b[0m \u001b[0mword\u001b[0m \u001b[0;32min\u001b[0m \u001b[0mpositive\u001b[0m\u001b[0;34m\u001b[0m\u001b[0;34m\u001b[0m\u001b[0m\n\u001b[0m\u001b[1;32m    813\u001b[0m         ]\n\u001b[1;32m    814\u001b[0m         negative = [\n",
      "\u001b[0;32m/usr/local/lib64/python3.6/site-packages/gensim/models/keyedvectors.py\u001b[0m in \u001b[0;36mword_vec\u001b[0;34m(self, word, use_norm)\u001b[0m\n\u001b[1;32m    462\u001b[0m             \u001b[0;32mreturn\u001b[0m \u001b[0mresult\u001b[0m\u001b[0;34m\u001b[0m\u001b[0;34m\u001b[0m\u001b[0m\n\u001b[1;32m    463\u001b[0m         \u001b[0;32melse\u001b[0m\u001b[0;34m:\u001b[0m\u001b[0;34m\u001b[0m\u001b[0;34m\u001b[0m\u001b[0m\n\u001b[0;32m--> 464\u001b[0;31m             \u001b[0;32mraise\u001b[0m \u001b[0mKeyError\u001b[0m\u001b[0;34m(\u001b[0m\u001b[0;34m\"word '%s' not in vocabulary\"\u001b[0m \u001b[0;34m%\u001b[0m \u001b[0mword\u001b[0m\u001b[0;34m)\u001b[0m\u001b[0;34m\u001b[0m\u001b[0;34m\u001b[0m\u001b[0m\n\u001b[0m\u001b[1;32m    465\u001b[0m \u001b[0;34m\u001b[0m\u001b[0m\n\u001b[1;32m    466\u001b[0m     \u001b[0;32mdef\u001b[0m \u001b[0mget_vector\u001b[0m\u001b[0;34m(\u001b[0m\u001b[0mself\u001b[0m\u001b[0;34m,\u001b[0m \u001b[0mword\u001b[0m\u001b[0;34m)\u001b[0m\u001b[0;34m:\u001b[0m\u001b[0;34m\u001b[0m\u001b[0;34m\u001b[0m\u001b[0m\n",
      "\u001b[0;31mKeyError\u001b[0m: \"word 'modernización' not in vocabulary\""
     ]
    }
   ],
   "source": [
    "nearest_similarity_cosmul(\"desarrollo\", \"prioridad\", \"modernización\")"
   ]
  },
  {
   "cell_type": "code",
   "execution_count": 56,
   "metadata": {},
   "outputs": [
    {
     "name": "stdout",
     "output_type": "stream",
     "text": [
      "presidente is related to bienestar, as ministro is related to Rajoy\n"
     ]
    },
    {
     "name": "stderr",
     "output_type": "stream",
     "text": [
      "/home/fer/anaconda3/lib/python3.6/site-packages/ipykernel_launcher.py:5: DeprecationWarning: Call to deprecated `most_similar_cosmul` (Method will be removed in 4.0.0, use self.wv.most_similar_cosmul() instead).\n",
      "  \"\"\"\n"
     ]
    },
    {
     "data": {
      "text/plain": [
       "'ministro'"
      ]
     },
     "execution_count": 56,
     "metadata": {},
     "output_type": "execute_result"
    }
   ],
   "source": [
    "nearest_similarity_cosmul(\"presidente\", \"bienestar\", \"Rajoy\")"
   ]
  },
  {
   "cell_type": "code",
   "execution_count": 57,
   "metadata": {},
   "outputs": [
    {
     "name": "stdout",
     "output_type": "stream",
     "text": [
      "presidente is related to bienestar, as Rodríguez is related to Zapatero\n"
     ]
    },
    {
     "name": "stderr",
     "output_type": "stream",
     "text": [
      "/home/fer/anaconda3/lib/python3.6/site-packages/ipykernel_launcher.py:5: DeprecationWarning: Call to deprecated `most_similar_cosmul` (Method will be removed in 4.0.0, use self.wv.most_similar_cosmul() instead).\n",
      "  \"\"\"\n"
     ]
    },
    {
     "data": {
      "text/plain": [
       "'Rodríguez'"
      ]
     },
     "execution_count": 57,
     "metadata": {},
     "output_type": "execute_result"
    }
   ],
   "source": [
    "nearest_similarity_cosmul(\"presidente\", \"bienestar\", \"Zapatero\")"
   ]
  },
  {
   "cell_type": "code",
   "execution_count": 58,
   "metadata": {},
   "outputs": [
    {
     "name": "stdout",
     "output_type": "stream",
     "text": [
      "podemos is related to Podemos, as vicepresidente is related to presidente\n"
     ]
    },
    {
     "name": "stderr",
     "output_type": "stream",
     "text": [
      "/home/fer/anaconda3/lib/python3.6/site-packages/ipykernel_launcher.py:5: DeprecationWarning: Call to deprecated `most_similar_cosmul` (Method will be removed in 4.0.0, use self.wv.most_similar_cosmul() instead).\n",
      "  \"\"\"\n"
     ]
    },
    {
     "data": {
      "text/plain": [
       "'vicepresidente'"
      ]
     },
     "execution_count": 58,
     "metadata": {},
     "output_type": "execute_result"
    }
   ],
   "source": [
    "nearest_similarity_cosmul(\"podemos\", \"Podemos\", \"presidente\")"
   ]
  },
  {
   "cell_type": "code",
   "execution_count": 59,
   "metadata": {},
   "outputs": [
    {
     "name": "stdout",
     "output_type": "stream",
     "text": [
      "catalán is related to lengua, as vasco is related to español\n"
     ]
    },
    {
     "name": "stderr",
     "output_type": "stream",
     "text": [
      "/home/fer/anaconda3/lib/python3.6/site-packages/ipykernel_launcher.py:5: DeprecationWarning: Call to deprecated `most_similar_cosmul` (Method will be removed in 4.0.0, use self.wv.most_similar_cosmul() instead).\n",
      "  \"\"\"\n"
     ]
    },
    {
     "data": {
      "text/plain": [
       "'vasco'"
      ]
     },
     "execution_count": 59,
     "metadata": {},
     "output_type": "execute_result"
    }
   ],
   "source": [
    "nearest_similarity_cosmul(\"catalán\", \"lengua\", \"español\")"
   ]
  },
  {
   "cell_type": "code",
   "execution_count": 60,
   "metadata": {},
   "outputs": [
    {
     "name": "stdout",
     "output_type": "stream",
     "text": [
      "bien is related to mejor, as Pues is related to mal\n"
     ]
    },
    {
     "name": "stderr",
     "output_type": "stream",
     "text": [
      "/home/fer/anaconda3/lib/python3.6/site-packages/ipykernel_launcher.py:5: DeprecationWarning: Call to deprecated `most_similar_cosmul` (Method will be removed in 4.0.0, use self.wv.most_similar_cosmul() instead).\n",
      "  \"\"\"\n"
     ]
    },
    {
     "data": {
      "text/plain": [
       "'Pues'"
      ]
     },
     "execution_count": 60,
     "metadata": {},
     "output_type": "execute_result"
    }
   ],
   "source": [
    "nearest_similarity_cosmul(\"bien\", \"mejor\", \"mal\")"
   ]
  },
  {
   "cell_type": "code",
   "execution_count": 61,
   "metadata": {},
   "outputs": [
    {
     "name": "stdout",
     "output_type": "stream",
     "text": [
      "Aplausos is related to presidente, as Rumores is related to Protestas\n"
     ]
    },
    {
     "name": "stderr",
     "output_type": "stream",
     "text": [
      "/home/fer/anaconda3/lib/python3.6/site-packages/ipykernel_launcher.py:5: DeprecationWarning: Call to deprecated `most_similar_cosmul` (Method will be removed in 4.0.0, use self.wv.most_similar_cosmul() instead).\n",
      "  \"\"\"\n"
     ]
    },
    {
     "data": {
      "text/plain": [
       "'Rumores'"
      ]
     },
     "execution_count": 61,
     "metadata": {},
     "output_type": "execute_result"
    }
   ],
   "source": [
    "nearest_similarity_cosmul(\"Aplausos\", \"presidente\", \"Protestas\")"
   ]
  },
  {
   "cell_type": "markdown",
   "metadata": {},
   "source": [
    "# Visualize word2vec embeddings in TensorBoard"
   ]
  },
  {
   "cell_type": "markdown",
   "metadata": {},
   "source": [
    "### Create checkpoint (Ctrl + s)"
   ]
  },
  {
   "cell_type": "markdown",
   "metadata": {},
   "source": [
    "#### Here I had an issue (AttributeError: module 'tensorboard' has no attribute 'lazy')\n",
    "#### To work around it, I need to use the tensorflowenv, where I have installed Python 3.6 with TF 1.9\n",
    "#### ... so, it is better since the beginning to just use the tensorflowenv\n",
    "#### And remember to change the path to the directory path to trained model"
   ]
  },
  {
   "cell_type": "code",
   "execution_count": 65,
   "metadata": {},
   "outputs": [],
   "source": [
    "# visualise-word2vec\n",
    "# visualise word embeddings of the word2vec model using Tensorboard\n",
    "\n",
    "## Video tutorial for this code\n",
    "## https://www.youtube.com/watch?v=BkeQzJt0f5A&t=2s\n",
    "\n",
    "import tensorflow as tf\n",
    "from tensorflow.contrib.tensorboard.plugins import projector\n",
    "\n",
    "# next two imports are commented, as they were imported at the very beginning\n",
    "import numpy as np\n",
    "import gensim\n",
    "\n",
    "import warnings\n",
    "warnings.filterwarnings(action='ignore', category=UserWarning, module='gensim')"
   ]
  },
  {
   "cell_type": "markdown",
   "metadata": {},
   "source": [
    "## Load the saved word2vec model"
   ]
  },
  {
   "cell_type": "code",
   "execution_count": 66,
   "metadata": {},
   "outputs": [
    {
     "name": "stderr",
     "output_type": "stream",
     "text": [
      "2019-07-19 04:30:52,726 : INFO : loading Word2VecKeyedVectors object from /home/fgbxub/Desktop/W2V-20190719/trained/thrones2vec.w2v\n",
      "/home/fgbxub/anaconda3/envs/word2vec/lib/python3.6/site-packages/smart_open/smart_open_lib.py:398: UserWarning: This function is deprecated, use smart_open.open instead. See the migration notes for details: https://github.com/RaRe-Technologies/smart_open/blob/master/README.rst#migrating-to-the-new-open-function\n",
      "  'See the migration notes for details: %s' % _MIGRATION_NOTES_URL\n",
      "2019-07-19 04:30:52,754 : INFO : loading wv recursively from /home/fgbxub/Desktop/W2V-20190719/trained/thrones2vec.w2v.wv.* with mmap=None\n",
      "2019-07-19 04:30:52,755 : INFO : setting ignored attribute vectors_norm to None\n",
      "2019-07-19 04:30:52,757 : INFO : loading vocabulary recursively from /home/fgbxub/Desktop/W2V-20190719/trained/thrones2vec.w2v.vocabulary.* with mmap=None\n",
      "2019-07-19 04:30:52,758 : INFO : loading trainables recursively from /home/fgbxub/Desktop/W2V-20190719/trained/thrones2vec.w2v.trainables.* with mmap=None\n",
      "2019-07-19 04:30:52,758 : INFO : setting ignored attribute cum_table to None\n",
      "2019-07-19 04:30:52,761 : INFO : loaded /home/fgbxub/Desktop/W2V-20190719/trained/thrones2vec.w2v\n"
     ]
    }
   ],
   "source": [
    "thrones2vec = \"/home/fgbxub/Desktop/W2V-20190719/trained/thrones2vec.w2v\"\n",
    "model = gensim.models.keyedvectors.KeyedVectors.load(thrones2vec)"
   ]
  },
  {
   "cell_type": "code",
   "execution_count": 67,
   "metadata": {},
   "outputs": [],
   "source": [
    "max_size = len(model.wv.vocab)-1"
   ]
  },
  {
   "cell_type": "code",
   "execution_count": 68,
   "metadata": {},
   "outputs": [
    {
     "name": "stderr",
     "output_type": "stream",
     "text": [
      "/home/fgbxub/anaconda3/envs/word2vec/lib/python3.6/site-packages/ipykernel_launcher.py:1: DeprecationWarning: Call to deprecated `layer1_size` (Attribute will be removed in 4.0.0, use self.trainables.layer1_size instead).\n",
      "  \"\"\"Entry point for launching an IPython kernel.\n"
     ]
    }
   ],
   "source": [
    "w2v = np.zeros((max_size,model.layer1_size))"
   ]
  },
  {
   "cell_type": "code",
   "execution_count": 69,
   "metadata": {},
   "outputs": [
    {
     "data": {
      "text/plain": [
       "array([[0., 0., 0., ..., 0., 0., 0.],\n",
       "       [0., 0., 0., ..., 0., 0., 0.],\n",
       "       [0., 0., 0., ..., 0., 0., 0.],\n",
       "       ...,\n",
       "       [0., 0., 0., ..., 0., 0., 0.],\n",
       "       [0., 0., 0., ..., 0., 0., 0.],\n",
       "       [0., 0., 0., ..., 0., 0., 0.]])"
      ]
     },
     "execution_count": 69,
     "metadata": {},
     "output_type": "execute_result"
    }
   ],
   "source": [
    "w2v"
   ]
  },
  {
   "cell_type": "code",
   "execution_count": 71,
   "metadata": {},
   "outputs": [],
   "source": [
    "with open(\"/home/fgbxub/Desktop/W2V-20190719/trained/metadata.tsv\", 'w+') as file_metadata:\n",
    "    for i,word in enumerate(model.wv.index2word[:max_size]):\n",
    "        w2v[i] = model.wv[word]\n",
    "        file_metadata.write(word + '\\n')"
   ]
  },
  {
   "cell_type": "code",
   "execution_count": 72,
   "metadata": {},
   "outputs": [
    {
     "data": {
      "text/plain": [
       "array([[-0.39780402,  0.17469235,  0.32568756, ...,  0.1359029 ,\n",
       "        -0.12251054,  0.02526293],\n",
       "       [-0.02129346,  0.09115269,  0.11626378, ...,  0.08102056,\n",
       "        -0.20452486, -0.27921447],\n",
       "       [ 0.06903911,  0.01301376,  0.16080511, ...,  0.01531295,\n",
       "         0.01307869, -0.10650862],\n",
       "       ...,\n",
       "       [-0.24223521,  0.38291004,  0.08318274, ..., -0.10600892,\n",
       "        -0.05186681, -0.09988215],\n",
       "       [-0.092683  ,  0.57307231,  0.04297202, ..., -0.07519681,\n",
       "         0.08679525, -0.12750451],\n",
       "       [ 0.06284991,  0.22569154,  0.0887854 , ..., -0.00677922,\n",
       "         0.04534619,  0.06362052]])"
      ]
     },
     "execution_count": 72,
     "metadata": {},
     "output_type": "execute_result"
    }
   ],
   "source": [
    "w2v"
   ]
  },
  {
   "cell_type": "code",
   "execution_count": 73,
   "metadata": {},
   "outputs": [],
   "source": [
    "sess = tf.InteractiveSession()"
   ]
  },
  {
   "cell_type": "code",
   "execution_count": 74,
   "metadata": {},
   "outputs": [],
   "source": [
    "# Let us create a 2D tensor called embedding that holds our embeddings.\n",
    "with tf.device(\"/cpu:0\"):\n",
    "    embedding = tf.Variable(w2v, trainable=False, name='embedding')"
   ]
  },
  {
   "cell_type": "code",
   "execution_count": 75,
   "metadata": {},
   "outputs": [],
   "source": [
    "tf.global_variables_initializer().run()"
   ]
  },
  {
   "cell_type": "code",
   "execution_count": 76,
   "metadata": {},
   "outputs": [],
   "source": [
    "path = '/home/fgbxub/Desktop/W2V-20190719/trained/'"
   ]
  },
  {
   "cell_type": "code",
   "execution_count": 77,
   "metadata": {},
   "outputs": [],
   "source": [
    "# Let us create an object to Saver class which is actually used to \n",
    "# save and restore variables to and from our checkpoints\n",
    "saver = tf.train.Saver()"
   ]
  },
  {
   "cell_type": "code",
   "execution_count": 78,
   "metadata": {},
   "outputs": [],
   "source": [
    "# Using file writer, we can save our summaries and events to our event file.\n",
    "writer = tf.summary.FileWriter('/home/fgbxub/Desktop/W2V-20190719/trained/', sess.graph)"
   ]
  },
  {
   "cell_type": "code",
   "execution_count": 79,
   "metadata": {},
   "outputs": [],
   "source": [
    "# Adding into projector\n",
    "config = projector.ProjectorConfig()\n",
    "embed = config.embeddings.add()\n",
    "embed.tensor_name = 'embedding'\n",
    "embed.metadata_path = 'metadata.tsv'"
   ]
  },
  {
   "cell_type": "code",
   "execution_count": 80,
   "metadata": {},
   "outputs": [
    {
     "data": {
      "text/plain": [
       "'/home/fgbxub/Desktop/W2V-20190719/trained/model.ckpt-966'"
      ]
     },
     "execution_count": 80,
     "metadata": {},
     "output_type": "execute_result"
    }
   ],
   "source": [
    "# Specify the width and height of a single thumbnail.\n",
    "projector.visualize_embeddings(writer, config)\n",
    "\n",
    "saver.save(sess, '/home/fgbxub/Desktop/W2V-20190719/trained/model.ckpt', global_step=max_size)"
   ]
  },
  {
   "cell_type": "markdown",
   "metadata": {},
   "source": [
    "#### To improve results, the upper-case letters in English and Spanish could be converted into lower-case (e.g. so family and Family become the same token).\n",
    "#### Also I could not find yet a stoplist (.pickle) for Chinese (Chinese is not included in nltk library).\n",
    "#### Link to \"Jupyter notebook cheatsheet\" (https://jupyter.brynmawr.edu/services/public/dblank/Jupyter%20Notebook%20Users%20Manual.ipynb#Header-1)"
   ]
  },
  {
   "cell_type": "markdown",
   "metadata": {},
   "source": [
    "#### Now to activate the TB, fist activate tensorflowenv environment\n",
    "#### conda activate tensorflowenv\n",
    "\n",
    "#### and run tensorboard, e.g.\n",
    "#### (tensorflowenv) tensorboard --logdir=/home/fer/Desktop/word_vector_corpus_ECPC_CD_20190328/trained/"
   ]
  },
  {
   "cell_type": "markdown",
   "metadata": {},
   "source": [
    "### test with ECPC_CD 2004-2014 on 20190328\n",
    "### PC specs intel i5 with 8GB RAM (no GPU)\n",
    "### OS Linux Ubuntu 18.04"
   ]
  },
  {
   "cell_type": "markdown",
   "metadata": {},
   "source": [
    "#####################\n",
    "####### 加油！ ########\n",
    "#####################"
   ]
  },
  {
   "cell_type": "code",
   "execution_count": null,
   "metadata": {},
   "outputs": [],
   "source": []
  }
 ],
 "metadata": {
  "kernelspec": {
   "display_name": "Python 3",
   "language": "python",
   "name": "python3"
  },
  "language_info": {
   "codemirror_mode": {
    "name": "ipython",
    "version": 3
   },
   "file_extension": ".py",
   "mimetype": "text/x-python",
   "name": "python",
   "nbconvert_exporter": "python",
   "pygments_lexer": "ipython3",
   "version": "3.6.8"
  }
 },
 "nbformat": 4,
 "nbformat_minor": 2
}
