{
 "cells": [
  {
   "cell_type": "code",
   "execution_count": 2,
   "metadata": {},
   "outputs": [
    {
     "data": {
      "text/plain": [
       "<module 'kent' from '/data/critt/shared/Spring19/kent.py'>"
      ]
     },
     "execution_count": 2,
     "metadata": {},
     "output_type": "execute_result"
    }
   ],
   "source": [
    "# import kent library\n",
    "import sys\n",
    "sys.path.insert(0, '/data/critt/shared/Spring19/')\n",
    "\n",
    "import kent\n",
    "import importlib\n",
    "importlib.reload(kent)"
   ]
  },
  {
   "cell_type": "code",
   "execution_count": 3,
   "metadata": {},
   "outputs": [],
   "source": [
    "import pandas as pd\n",
    "import numpy as np"
   ]
  },
  {
   "cell_type": "markdown",
   "metadata": {},
   "source": [
    "### Define all the functions for Semantic and Orthographic Neighbors implementation"
   ]
  },
  {
   "cell_type": "code",
   "execution_count": 4,
   "metadata": {},
   "outputs": [
    {
     "name": "stderr",
     "output_type": "stream",
     "text": [
      "[nltk_data] Downloading package stopwords to\n",
      "[nltk_data]     /users/kent/dsahoo/nltk_data...\n",
      "[nltk_data]   Package stopwords is already up-to-date!\n"
     ]
    }
   ],
   "source": [
    "import nltk\n",
    "from nltk.corpus import stopwords\n",
    "nltk.download('stopwords')\n",
    "stop_words = stopwords.words('english')\n",
    "\n",
    "# Returns a list of semantic competitor words based on the score_limit\n",
    "def semantic_competitor(comp_tuple_list, score_limit = 0.7, include_stopwords = False):\n",
    "    comp_list = []\n",
    "    for word,score in comp_tuple_list:\n",
    "        #if word in stop_words:\n",
    "            #return comp_list\n",
    "        if not word.isalpha():\n",
    "            return comp_list\n",
    "        if score > score_limit:\n",
    "            if word.isalpha() and word not in stop_words:\n",
    "                comp_list.append(word)\n",
    "    return comp_list\n",
    "\n",
    "\n",
    "# Creates a dictionary of word to comp_list for each word in the source_words list\n",
    "def find_semantic_word_dic(source_words, model):\n",
    "    token_to_semantic_words_dic = dict()\n",
    "    for word in set(source_words):\n",
    "        try:\n",
    "            # Returns a list of tuple(word, score)\n",
    "            result = model.most_similar(word.lower(), negative=None, topn=100)\n",
    "            # sim_score = 0.7\n",
    "            comp_list = semantic_competitor(result)\n",
    "        except KeyError as ex:\n",
    "            comp_list = []\n",
    "\n",
    "        token_to_semantic_words_dic[word] = comp_list\n",
    "    return token_to_semantic_words_dic\n",
    "\n",
    "def add_column(col_name, word_dic, df, ignoreCase=True):\n",
    "    \"\"\"\n",
    "        Adds a new column to the data-frame\n",
    "        Inputs -->\n",
    "            col_name -> Name of the column to add\n",
    "            word_dic -> Dic containing similar words for STokens\n",
    "            df -> Data frame\n",
    "    \"\"\"\n",
    "    df[col_name] = 0\n",
    "    simword_count = 0\n",
    "    for id in df.index:\n",
    "        if ignoreCase:\n",
    "            word = df.at[id,'SToken'].lower()\n",
    "        else:\n",
    "            word = df.at[id,'SToken']\n",
    "        try: \n",
    "            simword_count = len(word_dic[word])\n",
    "        except:\n",
    "            simword_count = 0\n",
    "        df.at[id, col_name] = simword_count"
   ]
  },
  {
   "cell_type": "code",
   "execution_count": 24,
   "metadata": {},
   "outputs": [],
   "source": [
    "# read BNC word frequency dictionary \n",
    "import re\n",
    "\n",
    "def readFreqDic(dictionary) :\n",
    "    Dic = {}\n",
    "    with open(dictionary,\"r\", encoding=\"utf8\") as file:\n",
    "        for entry in file:\n",
    "            tok, num = re.findall(\"^(.*?)[\\s]+(.*?)$\", entry)[0]\n",
    "            Dic[tok] = int(num)\n",
    "    return (Dic)\n",
    "\n",
    "bnc_freq_dic = readFreqDic('/data/critt/shared/Spring19/lemmaLexicon/BNC.freqLex')"
   ]
  },
  {
   "cell_type": "markdown",
   "metadata": {},
   "source": [
    "### Load glove_model - Word2Vec"
   ]
  },
  {
   "cell_type": "code",
   "execution_count": 5,
   "metadata": {},
   "outputs": [],
   "source": [
    "# Load Glove 6B.100d for Word2Vec\n",
    "from gensim.models import KeyedVectors\n",
    "# load the Stanford GloVe model\n",
    "filename = '/data/critt/shared/Spring19/w2v/glove/glove.6B.100d.word2vec.txt'\n",
    "glove_model = KeyedVectors.load_word2vec_format(filename, binary=False)"
   ]
  },
  {
   "cell_type": "markdown",
   "metadata": {},
   "source": [
    "### Load word_to_lev_dic - Dictionary with Orthographic neighbors for STokens"
   ]
  },
  {
   "cell_type": "code",
   "execution_count": 6,
   "metadata": {},
   "outputs": [],
   "source": [
    "import json\n",
    "# reads a file and load a json object\n",
    "lev1_json = open(\"/users/kent/dsahoo/stoken_lev1_wordlist_new.json\",\"r\").read()\n",
    "# Dic for orthographic similar words\n",
    "word_to_lev_dic = json.loads(lev1_json)"
   ]
  },
  {
   "cell_type": "code",
   "execution_count": 7,
   "metadata": {},
   "outputs": [],
   "source": [
    "# stoken_lev1_wordlist_new contains the dictionary of lev1 competitor set\n",
    "import json\n",
    "# reads a file and load a json object\n",
    "lev_json = open(\"/users/kent/dsahoo/stoken_lev1_with_stopwords.json\",\"r\").read()\n",
    "word_to_lev_dic1 = json.loads(lev_json)"
   ]
  },
  {
   "cell_type": "markdown",
   "metadata": {},
   "source": [
    "### Load the stdf - Data-frame containing all the .st tables for the ENJA Study"
   ]
  },
  {
   "cell_type": "code",
   "execution_count": 8,
   "metadata": {},
   "outputs": [],
   "source": [
    "# read the ENJA study data\n",
    "stdf = kent.readTPDDBtables(['ENJA15/Tables/'], \"*st\", path='/data/critt/tprdb/TPRDB/')\n",
    "source_words = set(stdf['SToken'].tolist())"
   ]
  },
  {
   "cell_type": "code",
   "execution_count": 9,
   "metadata": {},
   "outputs": [],
   "source": [
    "# Dic for semantic similar words\n",
    "word_to_semsim_dic = find_semantic_word_dic(source_words, glove_model)"
   ]
  },
  {
   "cell_type": "markdown",
   "metadata": {},
   "source": [
    "### Salience Score and Entropy of Neighbouring Set"
   ]
  },
  {
   "cell_type": "markdown",
   "metadata": {},
   "source": [
    "Salience = log frequency<br>\n",
    "average salience (log frequency) of competitor words**(Salience Score)** = $1/m \\sum_{s\\in C} log(salience(s))$ <br>\n",
    "m = salience of source word\n",
    "\n",
    "**Entropy** = $ \\sum_{s \\in C} P(s)*(-log(P(s)))$<br>\n",
    "C = Competitor Set"
   ]
  },
  {
   "cell_type": "code",
   "execution_count": 252,
   "metadata": {},
   "outputs": [],
   "source": [
    "import numpy as np\n",
    "def salience_score(token, token_dic=word_to_lev_dic1, frequency_map=bnc_freq_dic,verbose=False):\n",
    "    similar_list = list()\n",
    "\n",
    "    try:\n",
    "        similar_list = token_dic[token]\n",
    "    except KeyError as ex:\n",
    "        return float(0)\n",
    "    try:\n",
    "        token_freq = frequency_map[token]\n",
    "    except KeyError:\n",
    "        token_freq = 20\n",
    "    token_sal = np.log(token_freq)\n",
    "    salience_score = 0\n",
    "    summation = 0.0\n",
    "    sal = 0.0\n",
    "    list_length = len(similar_list)\n",
    "    token_length = len(token)\n",
    "    \n",
    "    #word_frequencies = frequency_map[token_length]\n",
    "    if similar_list:\n",
    "        for word in similar_list:\n",
    "            freq = frequency_map[word]\n",
    "            summation += np.log(freq)\n",
    "        sal = summation/token_sal\n",
    "    if verbose:\n",
    "        print(f\"Salience score of {token} = {sal}\")\n",
    "    return sal\n",
    "\n",
    "def findInDic(key, dictionary, value=None):\n",
    "    try:\n",
    "        value = dictionary[key]\n",
    "    except KeyError:\n",
    "        pass\n",
    "    return value\n",
    "\n",
    "def entropy(stoken, verbose=False):\n",
    "    entropy = 0.0\n",
    "    total_freq = 0\n",
    "    sim_words = []\n",
    "    sim_freq = []\n",
    "    sim_words = findInDic(stoken, word_to_lev_dic1, list())\n",
    "    if verbose:\n",
    "        print(f\"Similar words:\\n\\n{sim_words}\")\n",
    "    sim_freq = [ findInDic(f,bnc_freq_dic,20) for f in sim_words ] \n",
    "    if verbose:\n",
    "        print(f\"Similar words freq:\\n\\n{sim_freq}\")\n",
    "    if sim_freq:\n",
    "        total_freq = sum(sim_freq)\n",
    "        for f in sim_freq:\n",
    "            p = f/total_freq\n",
    "            entropy += p*(-np.log(p))\n",
    "    return entropy\n",
    "\n",
    "def similaritySetSize(stoken):\n",
    "    simList = findInDic(stoken,word_to_lev_dic1,[])\n",
    "    return len(simList)\n",
    "\n",
    "def find_similar_words(word,orthoOnly=False,semanticOnly=False,semantic_dic=word_to_semsim_dic, ortho_dic=word_to_lev_dic1): \n",
    "    word = word\n",
    "    orthoList = []\n",
    "    semanticList = []\n",
    "    print(f\"Word = {word}\\n\")\n",
    "    \n",
    "    if not semanticOnly:\n",
    "        orthoList = findInDic(word, ortho_dic, [])\n",
    "        print(f\"Orthographic Similar Words:\\n\\n{orthoList}\\n\\n\")\n",
    "        \n",
    "    if not orthoOnly:\n",
    "        semanticList = findInDic(word, semantic_dic, [])\n",
    "        print(f\"Semantic Similar Words:\\n\\n{semanticList}\")\n",
    "        \n",
    "    return orthoList,semanticList "
   ]
  },
  {
   "cell_type": "code",
   "execution_count": 251,
   "metadata": {},
   "outputs": [],
   "source": [
    "from scipy import stats\n",
    "\n",
    "def print_pvalue(df, indFeat, depFeat):\n",
    "    stat = stats.linregress(df[indFeat], df[depFeat])\n",
    "    print(f\"P-value = {stat.pvalue: 2.3f}\")\n",
    "\n",
    "def similarity_plot(df, indFeat, depFeat,lengthFilter=2,logScale=True, excOutlier=True,uplengthFilter=20, hue=None):    \n",
    "    # Pre process data for dependent and independent variables\n",
    "    # - take out outliers (-2< and >2 SD)\n",
    "    # - take out values < 0\n",
    "\n",
    "    # independent variable\n",
    "    #indFeat = \"semanticSim\"\n",
    "\n",
    "    # dependent Variable\n",
    "    #depFeat = \"Dur\"\n",
    "\n",
    "\n",
    "    ###########\n",
    "    # pre-process data\n",
    "    data = df\n",
    "\n",
    "    # exclude values <= 0 of independent variable\n",
    "    data = data[(data[indFeat] > 0)]\n",
    "\n",
    "    # exclude outliers of independent variable\n",
    "    data = excludeOutliers(data, indFeat)\n",
    "\n",
    "    # compute log transformation for independent Variable\n",
    "    indFeatL = indFeat + \"Log\"\n",
    "    data[indFeatL] = np.log(data[indFeat])\n",
    "\n",
    "    #######\n",
    "    # exclude outliers for dependent variable\n",
    "    data = data[(data[depFeat] > 0)]\n",
    "    if excOutlier: \n",
    "        data = excludeOutliers(data, depFeat)\n",
    "\n",
    "    # compute log transformation for dependent Variable\n",
    "    depFeatL = depFeat + \"Log\"\n",
    "    data[depFeatL] = np.log(data[depFeat])\n",
    "\n",
    "    #######\n",
    "    # take log-transformation of dependent / indpendent variable\n",
    "    if logScale:\n",
    "        depFeat = depFeatL\n",
    "    #indFeat = indFeatL\n",
    "\n",
    "    # compute \"STlen\" length of SToken\n",
    "    data[\"STlen\"] = data[\"SToken\"].apply(len)\n",
    "\n",
    "   \n",
    "    # apply length-filter\n",
    "    data = data[(data.STlen > lengthFilter)]\n",
    "    \n",
    "    data = data[(data.STlen < uplengthFilter)]\n",
    "\n",
    "    print(data[[ indFeat,depFeat ]].corr())\n",
    "    print_pvalue(data, indFeat, depFeat)\n",
    "    lmplot(data, indFeat, depFeat, hue)"
   ]
  },
  {
   "cell_type": "code",
   "execution_count": 229,
   "metadata": {},
   "outputs": [],
   "source": [
    "cs19['orthoSimSize'] = cs19['SToken'].apply(similaritySetSize)\n",
    "cs19['STlen'] = cs19['SToken'].apply(len)\n",
    "cs19['OrthoSimEntropy'] = cs19['SToken'].apply(entropy)\n",
    "cs19['OrthoSimSalience'] = cs19['SToken'].apply(salience_score)\n",
    "cs19[\"OrthoEntropySalience\"] = cs19[['OrthoSimEntropy','OrthoSimSalience']].prod(axis=1)\n",
    "cs19[\"logDur\"] = cs19['Dur'].apply(np.log)"
   ]
  },
  {
   "cell_type": "code",
   "execution_count": 230,
   "metadata": {},
   "outputs": [
    {
     "data": {
      "text/html": [
       "<div>\n",
       "<style scoped>\n",
       "    .dataframe tbody tr th:only-of-type {\n",
       "        vertical-align: middle;\n",
       "    }\n",
       "\n",
       "    .dataframe tbody tr th {\n",
       "        vertical-align: top;\n",
       "    }\n",
       "\n",
       "    .dataframe thead th {\n",
       "        text-align: right;\n",
       "    }\n",
       "</style>\n",
       "<table border=\"1\" class=\"dataframe\">\n",
       "  <thead>\n",
       "    <tr style=\"text-align: right;\">\n",
       "      <th></th>\n",
       "      <th>Dur</th>\n",
       "      <th>logDur</th>\n",
       "      <th>OrthoSimEntropy</th>\n",
       "      <th>OrthoSimSalience</th>\n",
       "      <th>OrthoEntropySalience</th>\n",
       "    </tr>\n",
       "  </thead>\n",
       "  <tbody>\n",
       "    <tr>\n",
       "      <th>Dur</th>\n",
       "      <td>1.000000</td>\n",
       "      <td>0.662248</td>\n",
       "      <td>-0.146177</td>\n",
       "      <td>-0.098177</td>\n",
       "      <td>-0.099423</td>\n",
       "    </tr>\n",
       "    <tr>\n",
       "      <th>logDur</th>\n",
       "      <td>0.662248</td>\n",
       "      <td>1.000000</td>\n",
       "      <td>-0.385804</td>\n",
       "      <td>-0.286716</td>\n",
       "      <td>-0.295066</td>\n",
       "    </tr>\n",
       "    <tr>\n",
       "      <th>OrthoSimEntropy</th>\n",
       "      <td>-0.146177</td>\n",
       "      <td>-0.385804</td>\n",
       "      <td>1.000000</td>\n",
       "      <td>0.534623</td>\n",
       "      <td>0.593160</td>\n",
       "    </tr>\n",
       "    <tr>\n",
       "      <th>OrthoSimSalience</th>\n",
       "      <td>-0.098177</td>\n",
       "      <td>-0.286716</td>\n",
       "      <td>0.534623</td>\n",
       "      <td>1.000000</td>\n",
       "      <td>0.962046</td>\n",
       "    </tr>\n",
       "    <tr>\n",
       "      <th>OrthoEntropySalience</th>\n",
       "      <td>-0.099423</td>\n",
       "      <td>-0.295066</td>\n",
       "      <td>0.593160</td>\n",
       "      <td>0.962046</td>\n",
       "      <td>1.000000</td>\n",
       "    </tr>\n",
       "  </tbody>\n",
       "</table>\n",
       "</div>"
      ],
      "text/plain": [
       "                           Dur    logDur  OrthoSimEntropy  OrthoSimSalience  \\\n",
       "Dur                   1.000000  0.662248        -0.146177         -0.098177   \n",
       "logDur                0.662248  1.000000        -0.385804         -0.286716   \n",
       "OrthoSimEntropy      -0.146177 -0.385804         1.000000          0.534623   \n",
       "OrthoSimSalience     -0.098177 -0.286716         0.534623          1.000000   \n",
       "OrthoEntropySalience -0.099423 -0.295066         0.593160          0.962046   \n",
       "\n",
       "                      OrthoEntropySalience  \n",
       "Dur                              -0.099423  \n",
       "logDur                           -0.295066  \n",
       "OrthoSimEntropy                   0.593160  \n",
       "OrthoSimSalience                  0.962046  \n",
       "OrthoEntropySalience              1.000000  "
      ]
     },
     "execution_count": 230,
     "metadata": {},
     "output_type": "execute_result"
    }
   ],
   "source": [
    "cs19[['Dur','logDur','OrthoSimEntropy','OrthoSimSalience','OrthoEntropySalience']].corr()"
   ]
  },
  {
   "cell_type": "markdown",
   "metadata": {},
   "source": [
    "### Group-by sort aggregate"
   ]
  },
  {
   "cell_type": "code",
   "execution_count": null,
   "metadata": {
    "scrolled": true
   },
   "outputs": [],
   "source": [
    "cs19[[\"SToken\",\"OrthoSimEntropy\"]].groupby('SToken').aggregate([np.max,np.mean]).sort_values((\"OrthoSimEntropy\",\"mean\"), ascending=False)"
   ]
  },
  {
   "cell_type": "code",
   "execution_count": 70,
   "metadata": {},
   "outputs": [],
   "source": [
    "#cs19df = kent.readTPDDBtables(['ENJA15/Tables/'], \"*st\", path='/data/critt/tprdb/TPRDB/')\n",
    "cs19df = kent.readTPDDBtables([\"PARA19/Tables/\"], \"*st\", path=\"/data/critt/tprdb/KENT/\")"
   ]
  },
  {
   "cell_type": "markdown",
   "metadata": {},
   "source": [
    "### Merge different studies CS19, ENJA15, BML12, RUC17"
   ]
  },
  {
   "cell_type": "code",
   "execution_count": 135,
   "metadata": {},
   "outputs": [
    {
     "name": "stderr",
     "output_type": "stream",
     "text": [
      "/data/critt/shared/Spring19/kent.py:240: FutureWarning: Sorting because non-concatenation axis is not aligned. A future version\n",
      "of pandas will change to not sort by default.\n",
      "\n",
      "To accept the future behavior, pass 'sort=False'.\n",
      "\n",
      "To retain the current behavior and silence the warning, pass 'sort=True'.\n",
      "\n",
      "  df = pd.concat([df, pd.read_csv(fn, sep=\"\\t\", dtype=None)], ignore_index=True)\n"
     ]
    }
   ],
   "source": [
    "cs19 = kent.readTPDDBtables([\"PARA19/Tables/\"], \"*st\", path=\"/data/critt/tprdb/KENT/\")\n",
    "enja = kent.readTPDDBtables(['ENJA15/Tables/'], \"*st\", path='/data/critt/tprdb/TPRDB/')\n",
    "bml = kent.readTPDDBtables(['BML12/Tables/'], \"*st\", path='/data/critt/tprdb/TPRDB/')\n",
    "ruc = kent.readTPDDBtables(['RUC17/Tables/'], \"*st\", path='/data/critt/tprdb/TPRDB/')"
   ]
  },
  {
   "cell_type": "code",
   "execution_count": 370,
   "metadata": {},
   "outputs": [
    {
     "data": {
      "text/html": [
       "<div>\n",
       "<style scoped>\n",
       "    .dataframe tbody tr th:only-of-type {\n",
       "        vertical-align: middle;\n",
       "    }\n",
       "\n",
       "    .dataframe tbody tr th {\n",
       "        vertical-align: top;\n",
       "    }\n",
       "\n",
       "    .dataframe thead th {\n",
       "        text-align: right;\n",
       "    }\n",
       "</style>\n",
       "<table border=\"1\" class=\"dataframe\">\n",
       "  <thead>\n",
       "    <tr style=\"text-align: right;\">\n",
       "      <th></th>\n",
       "      <th>SToken</th>\n",
       "      <th>TGroup</th>\n",
       "    </tr>\n",
       "  </thead>\n",
       "  <tbody>\n",
       "    <tr>\n",
       "      <th>0</th>\n",
       "      <td>Sociology</td>\n",
       "      <td>La_sociología</td>\n",
       "    </tr>\n",
       "    <tr>\n",
       "      <th>1</th>\n",
       "      <td>is</td>\n",
       "      <td>es</td>\n",
       "    </tr>\n",
       "    <tr>\n",
       "      <th>2</th>\n",
       "      <td>a</td>\n",
       "      <td>una</td>\n",
       "    </tr>\n",
       "    <tr>\n",
       "      <th>3</th>\n",
       "      <td>relatively</td>\n",
       "      <td>relativamente</td>\n",
       "    </tr>\n",
       "    <tr>\n",
       "      <th>4</th>\n",
       "      <td>new</td>\n",
       "      <td>nueva</td>\n",
       "    </tr>\n",
       "    <tr>\n",
       "      <th>5</th>\n",
       "      <td>academic</td>\n",
       "      <td>académica</td>\n",
       "    </tr>\n",
       "    <tr>\n",
       "      <th>6</th>\n",
       "      <td>discipline</td>\n",
       "      <td>disciplina</td>\n",
       "    </tr>\n",
       "    <tr>\n",
       "      <th>7</th>\n",
       "      <td>.</td>\n",
       "      <td>.</td>\n",
       "    </tr>\n",
       "    <tr>\n",
       "      <th>8</th>\n",
       "      <td>It</td>\n",
       "      <td>Surgió</td>\n",
       "    </tr>\n",
       "    <tr>\n",
       "      <th>9</th>\n",
       "      <td>emerged</td>\n",
       "      <td>Surgió</td>\n",
       "    </tr>\n",
       "    <tr>\n",
       "      <th>10</th>\n",
       "      <td>in</td>\n",
       "      <td>en</td>\n",
       "    </tr>\n",
       "    <tr>\n",
       "      <th>11</th>\n",
       "      <td>the</td>\n",
       "      <td>el</td>\n",
       "    </tr>\n",
       "    <tr>\n",
       "      <th>12</th>\n",
       "      <td>early</td>\n",
       "      <td>19</td>\n",
       "    </tr>\n",
       "    <tr>\n",
       "      <th>13</th>\n",
       "      <td>19</td>\n",
       "      <td>19</td>\n",
       "    </tr>\n",
       "    <tr>\n",
       "      <th>14</th>\n",
       "      <td>th</td>\n",
       "      <td>19</td>\n",
       "    </tr>\n",
       "    <tr>\n",
       "      <th>15</th>\n",
       "      <td>century</td>\n",
       "      <td>siglo</td>\n",
       "    </tr>\n",
       "    <tr>\n",
       "      <th>16</th>\n",
       "      <td>in</td>\n",
       "      <td>en</td>\n",
       "    </tr>\n",
       "    <tr>\n",
       "      <th>17</th>\n",
       "      <td>response</td>\n",
       "      <td>respuesta</td>\n",
       "    </tr>\n",
       "    <tr>\n",
       "      <th>18</th>\n",
       "      <td>to</td>\n",
       "      <td>a</td>\n",
       "    </tr>\n",
       "    <tr>\n",
       "      <th>19</th>\n",
       "      <td>the</td>\n",
       "      <td>los</td>\n",
       "    </tr>\n",
       "    <tr>\n",
       "      <th>20</th>\n",
       "      <td>challenges</td>\n",
       "      <td>desafíos</td>\n",
       "    </tr>\n",
       "    <tr>\n",
       "      <th>21</th>\n",
       "      <td>of</td>\n",
       "      <td>de</td>\n",
       "    </tr>\n",
       "    <tr>\n",
       "      <th>22</th>\n",
       "      <td>modernity</td>\n",
       "      <td>la_modernidad</td>\n",
       "    </tr>\n",
       "    <tr>\n",
       "      <th>23</th>\n",
       "      <td>.</td>\n",
       "      <td>.</td>\n",
       "    </tr>\n",
       "    <tr>\n",
       "      <th>24</th>\n",
       "      <td>Increasing</td>\n",
       "      <td>El_incremento</td>\n",
       "    </tr>\n",
       "    <tr>\n",
       "      <th>25</th>\n",
       "      <td>mobility</td>\n",
       "      <td>de_la_movilidad</td>\n",
       "    </tr>\n",
       "    <tr>\n",
       "      <th>26</th>\n",
       "      <td>and</td>\n",
       "      <td>y</td>\n",
       "    </tr>\n",
       "    <tr>\n",
       "      <th>27</th>\n",
       "      <td>technological</td>\n",
       "      <td>tecnológicos</td>\n",
       "    </tr>\n",
       "    <tr>\n",
       "      <th>28</th>\n",
       "      <td>advances</td>\n",
       "      <td>de_los_avances</td>\n",
       "    </tr>\n",
       "    <tr>\n",
       "      <th>29</th>\n",
       "      <td>resulted</td>\n",
       "      <td>dio_lugar</td>\n",
       "    </tr>\n",
       "  </tbody>\n",
       "</table>\n",
       "</div>"
      ],
      "text/plain": [
       "           SToken           TGroup\n",
       "0       Sociology    La_sociología\n",
       "1              is               es\n",
       "2               a              una\n",
       "3      relatively    relativamente\n",
       "4             new            nueva\n",
       "5        academic        académica\n",
       "6      discipline       disciplina\n",
       "7               .                .\n",
       "8              It           Surgió\n",
       "9         emerged           Surgió\n",
       "10             in               en\n",
       "11            the               el\n",
       "12          early               19\n",
       "13             19               19\n",
       "14             th               19\n",
       "15        century            siglo\n",
       "16             in               en\n",
       "17       response        respuesta\n",
       "18             to                a\n",
       "19            the              los\n",
       "20     challenges         desafíos\n",
       "21             of               de\n",
       "22      modernity    la_modernidad\n",
       "23              .                .\n",
       "24     Increasing    El_incremento\n",
       "25       mobility  de_la_movilidad\n",
       "26            and                y\n",
       "27  technological     tecnológicos\n",
       "28       advances   de_los_avances\n",
       "29       resulted        dio_lugar"
      ]
     },
     "execution_count": 370,
     "metadata": {},
     "output_type": "execute_result"
    }
   ],
   "source": [
    "bml[['SToken','TGroup']].head(30)"
   ]
  },
  {
   "cell_type": "code",
   "execution_count": 138,
   "metadata": {
    "scrolled": true
   },
   "outputs": [
    {
     "name": "stdout",
     "output_type": "stream",
     "text": [
      "(11011, 66) (32375, 66) (25936, 66) (17509, 72)\n"
     ]
    }
   ],
   "source": [
    "print(f\"{cs19.shape} {enja.shape} {bml.shape} {ruc.shape}\")"
   ]
  },
  {
   "cell_type": "code",
   "execution_count": 136,
   "metadata": {
    "scrolled": true
   },
   "outputs": [
    {
     "name": "stderr",
     "output_type": "stream",
     "text": [
      "/usr/local/lib/python3.6/site-packages/ipykernel_launcher.py:1: FutureWarning: Sorting because non-concatenation axis is not aligned. A future version\n",
      "of pandas will change to not sort by default.\n",
      "\n",
      "To accept the future behavior, pass 'sort=False'.\n",
      "\n",
      "To retain the current behavior and silence the warning, pass 'sort=True'.\n",
      "\n",
      "  \"\"\"Entry point for launching an IPython kernel.\n"
     ]
    }
   ],
   "source": [
    "merged = pd.concat([cs19, enja, bml, ruc])"
   ]
  },
  {
   "cell_type": "code",
   "execution_count": 164,
   "metadata": {},
   "outputs": [
    {
     "data": {
      "text/plain": [
       "(86831, 75)"
      ]
     },
     "execution_count": 164,
     "metadata": {},
     "output_type": "execute_result"
    }
   ],
   "source": [
    "merged.shape"
   ]
  },
  {
   "cell_type": "code",
   "execution_count": 172,
   "metadata": {
    "scrolled": true
   },
   "outputs": [
    {
     "data": {
      "text/plain": [
       "{'STlen', 'logDur', 'orthoSimSalience'}"
      ]
     },
     "execution_count": 172,
     "metadata": {},
     "output_type": "execute_result"
    }
   ],
   "source": [
    "# Find the difference in the columns\n",
    "(set(merged.columns.tolist())).difference(set(ruc.columns.tolist()))"
   ]
  },
  {
   "cell_type": "markdown",
   "metadata": {},
   "source": [
    "### Deep Copy of data-frame"
   ]
  },
  {
   "cell_type": "code",
   "execution_count": 72,
   "metadata": {},
   "outputs": [],
   "source": [
    "newdf = cs19df.copy()"
   ]
  },
  {
   "cell_type": "code",
   "execution_count": 235,
   "metadata": {},
   "outputs": [],
   "source": [
    "## Deprecated\n",
    "def add_competitor_set_count(df, sim_col_name, lev_dic, add_col=False):\n",
    "    if add_col:\n",
    "        df[sim_col_name] = 0\n",
    "        \n",
    "    for id in list(df.index):\n",
    "        stoken = df.at[id,'SToken'] \n",
    "        try:\n",
    "            comp_list = lev_dic[stoken]\n",
    "        except KeyError as ex:\n",
    "            comp_list = []\n",
    "        df.at[id, sim_col_name] = len(comp_list)\n",
    "        \n",
    "    print(f\"The column {sim_col_name} updated successfully\")"
   ]
  },
  {
   "cell_type": "code",
   "execution_count": 73,
   "metadata": {},
   "outputs": [
    {
     "name": "stdout",
     "output_type": "stream",
     "text": [
      "The column orthoSimSize updated successfully\n"
     ]
    }
   ],
   "source": [
    "add_competitor_set_count(newdf, \"orthoSimSize\", word_to_lev_dic1, True)"
   ]
  },
  {
   "cell_type": "code",
   "execution_count": 140,
   "metadata": {},
   "outputs": [],
   "source": [
    "merged['orthoSimSalience'] = merged['SToken'].apply(lambda w: salience_score(w, word_to_lev_dic1, bnc_freq_dic,False))\n",
    "merged['STlen'] = merged['SToken'].apply(len)\n",
    "merged['logDur'] = merged['Dur'].apply(np.log)"
   ]
  },
  {
   "cell_type": "code",
   "execution_count": 159,
   "metadata": {},
   "outputs": [
    {
     "data": {
      "text/html": [
       "<div>\n",
       "<style scoped>\n",
       "    .dataframe tbody tr th:only-of-type {\n",
       "        vertical-align: middle;\n",
       "    }\n",
       "\n",
       "    .dataframe tbody tr th {\n",
       "        vertical-align: top;\n",
       "    }\n",
       "\n",
       "    .dataframe thead th {\n",
       "        text-align: right;\n",
       "    }\n",
       "</style>\n",
       "<table border=\"1\" class=\"dataframe\">\n",
       "  <thead>\n",
       "    <tr style=\"text-align: right;\">\n",
       "      <th></th>\n",
       "      <th>Dur</th>\n",
       "      <th>orthoSimSalience</th>\n",
       "      <th>logDur</th>\n",
       "    </tr>\n",
       "  </thead>\n",
       "  <tbody>\n",
       "    <tr>\n",
       "      <th>Dur</th>\n",
       "      <td>1.000000</td>\n",
       "      <td>-0.007906</td>\n",
       "      <td>0.388121</td>\n",
       "    </tr>\n",
       "    <tr>\n",
       "      <th>orthoSimSalience</th>\n",
       "      <td>-0.007906</td>\n",
       "      <td>1.000000</td>\n",
       "      <td>0.040710</td>\n",
       "    </tr>\n",
       "    <tr>\n",
       "      <th>logDur</th>\n",
       "      <td>0.388121</td>\n",
       "      <td>0.040710</td>\n",
       "      <td>1.000000</td>\n",
       "    </tr>\n",
       "  </tbody>\n",
       "</table>\n",
       "</div>"
      ],
      "text/plain": [
       "                       Dur  orthoSimSalience    logDur\n",
       "Dur               1.000000         -0.007906  0.388121\n",
       "orthoSimSalience -0.007906          1.000000  0.040710\n",
       "logDur            0.388121          0.040710  1.000000"
      ]
     },
     "execution_count": 159,
     "metadata": {},
     "output_type": "execute_result"
    }
   ],
   "source": [
    "merged[(merged.STlen >= 4) & (merged.STlen < 8) & (merged.PoS.str.match(r\"^N\"))][[\"Dur\",\"orthoSimSalience\",\"logDur\"]].corr()"
   ]
  },
  {
   "cell_type": "code",
   "execution_count": 162,
   "metadata": {},
   "outputs": [
    {
     "name": "stdout",
     "output_type": "stream",
     "text": [
      "                  orthoSimSalience   DurLog\n",
      "orthoSimSalience           1.00000  0.03403\n",
      "DurLog                     0.03403  1.00000\n",
      "P-value =  0.000\n",
      "                            OLS Regression Results                            \n",
      "==============================================================================\n",
      "Dep. Variable:                 DurLog   R-squared:                       0.001\n",
      "Model:                            OLS   Adj. R-squared:                  0.001\n",
      "Method:                 Least Squares   F-statistic:                     15.64\n",
      "Date:                Wed, 14 Aug 2019   Prob (F-statistic):           7.69e-05\n",
      "Time:                        16:32:13   Log-Likelihood:                -31010.\n",
      "No. Observations:               13494   AIC:                         6.202e+04\n",
      "Df Residuals:                   13492   BIC:                         6.204e+04\n",
      "Df Model:                           1                                         \n",
      "Covariance Type:            nonrobust                                         \n",
      "====================================================================================\n",
      "                       coef    std err          t      P>|t|      [0.025      0.975]\n",
      "------------------------------------------------------------------------------------\n",
      "Intercept            6.6043      0.025    259.132      0.000       6.554       6.654\n",
      "orthoSimSalience     0.0260      0.007      3.955      0.000       0.013       0.039\n",
      "==============================================================================\n",
      "Omnibus:                     3454.358   Durbin-Watson:                   1.111\n",
      "Prob(Omnibus):                  0.000   Jarque-Bera (JB):             7049.006\n",
      "Skew:                          -1.549   Prob(JB):                         0.00\n",
      "Kurtosis:                       4.716   Cond. No.                         4.87\n",
      "==============================================================================\n",
      "\n",
      "Warnings:\n",
      "[1] Standard Errors assume that the covariance matrix of the errors is correctly specified.\n"
     ]
    },
    {
     "data": {
      "image/png": "[encoded data removed]",
      "text/plain": [
       "<Figure size 360x360 with 1 Axes>"
      ]
     },
     "metadata": {
      "needs_background": "light"
     },
     "output_type": "display_data"
    }
   ],
   "source": [
    "data = merged[(merged.STlen >= 4) & (merged.STlen < 8)]\n",
    "similarity_plot(data, \"orthoSimSalience\", \"Dur\",lengthFilter=2,logScale=True, hue=None )"
   ]
  },
  {
   "cell_type": "markdown",
   "metadata": {},
   "source": [
    "### Add columns to the DataFrame"
   ]
  },
  {
   "cell_type": "code",
   "execution_count": 9,
   "metadata": {},
   "outputs": [],
   "source": [
    "add_column(\"orthoSim\", word_to_lev_dic, stdf, ignoreCase=False)\n",
    "add_column(\"semanticSim\", word_to_semsim_dic, stdf)"
   ]
  },
  {
   "cell_type": "code",
   "execution_count": 101,
   "metadata": {},
   "outputs": [],
   "source": [
    "import statsmodels.formula.api as smf\n",
    "import statsmodels.api as sma\n",
    "import numpy as np\n",
    "import seaborn as sns\n",
    "import matplotlib.pyplot as plt\n",
    "\n",
    "def lmplot(data, indFeat, depFeat, hue=None):\n",
    "    \"\"\"\n",
    "        Plots a Linear Regression plot\n",
    "        Input:\n",
    "            data -> Data frame\n",
    "            depFeat -> dependent feature to be plotted on Y axis\n",
    "            indFeat -> independent feature to be plotted on X axis\n",
    "            hue -> category to split the plot into multiple sub-plots\n",
    "    \"\"\"\n",
    "    form =depFeat + \"~\" + indFeat \n",
    "    # Add multiple variables\n",
    "\n",
    "    if hue:\n",
    "        form =depFeat + \"~\" + indFeat + \"* \" + hue\n",
    "        \n",
    "    lmf = smf.ols(formula=form, data=data).fit()\n",
    "\n",
    "    print(lmf.summary())\n",
    "\n",
    "    sns.lmplot(y=depFeat, x=indFeat, hue=hue, x_estimator=np.mean, data=data);\n",
    "\n",
    "    plt.show()\n",
    "\n",
    "# exclude outliers in dataframe df \n",
    "def excludeOutliers(df, col) :\n",
    "    \n",
    "    mean = np.mean(np.array(df[col]), axis=0)\n",
    "    sd = np.std(np.array(df[col]), axis=0)\n",
    "    \n",
    "    return(df[(df[col] > mean - 2 * sd) & (df[col] < mean + 2 * sd)])"
   ]
  },
  {
   "cell_type": "code",
   "execution_count": 49,
   "metadata": {},
   "outputs": [
    {
     "data": {
      "text/html": [
       "<div>\n",
       "<style scoped>\n",
       "    .dataframe tbody tr th:only-of-type {\n",
       "        vertical-align: middle;\n",
       "    }\n",
       "\n",
       "    .dataframe tbody tr th {\n",
       "        vertical-align: top;\n",
       "    }\n",
       "\n",
       "    .dataframe thead th {\n",
       "        text-align: right;\n",
       "    }\n",
       "</style>\n",
       "<table border=\"1\" class=\"dataframe\">\n",
       "  <thead>\n",
       "    <tr style=\"text-align: right;\">\n",
       "      <th></th>\n",
       "      <th>Text</th>\n",
       "      <th>SToken</th>\n",
       "      <th>orthoSim</th>\n",
       "      <th>semanticSim</th>\n",
       "    </tr>\n",
       "  </thead>\n",
       "  <tbody>\n",
       "    <tr>\n",
       "      <th>0</th>\n",
       "      <td>3</td>\n",
       "      <td>Spielberg</td>\n",
       "      <td>0</td>\n",
       "      <td>0</td>\n",
       "    </tr>\n",
       "    <tr>\n",
       "      <th>1</th>\n",
       "      <td>3</td>\n",
       "      <td>shows</td>\n",
       "      <td>12</td>\n",
       "      <td>16</td>\n",
       "    </tr>\n",
       "    <tr>\n",
       "      <th>2</th>\n",
       "      <td>3</td>\n",
       "      <td>Beijing</td>\n",
       "      <td>0</td>\n",
       "      <td>0</td>\n",
       "    </tr>\n",
       "    <tr>\n",
       "      <th>3</th>\n",
       "      <td>3</td>\n",
       "      <td>red</td>\n",
       "      <td>55</td>\n",
       "      <td>8</td>\n",
       "    </tr>\n",
       "    <tr>\n",
       "      <th>4</th>\n",
       "      <td>3</td>\n",
       "      <td>card</td>\n",
       "      <td>31</td>\n",
       "      <td>1</td>\n",
       "    </tr>\n",
       "    <tr>\n",
       "      <th>5</th>\n",
       "      <td>3</td>\n",
       "      <td>over</td>\n",
       "      <td>0</td>\n",
       "      <td>12</td>\n",
       "    </tr>\n",
       "    <tr>\n",
       "      <th>6</th>\n",
       "      <td>3</td>\n",
       "      <td>Darfur</td>\n",
       "      <td>0</td>\n",
       "      <td>0</td>\n",
       "    </tr>\n",
       "    <tr>\n",
       "      <th>7</th>\n",
       "      <td>3</td>\n",
       "      <td>In</td>\n",
       "      <td>0</td>\n",
       "      <td>1</td>\n",
       "    </tr>\n",
       "    <tr>\n",
       "      <th>8</th>\n",
       "      <td>3</td>\n",
       "      <td>a</td>\n",
       "      <td>0</td>\n",
       "      <td>30</td>\n",
       "    </tr>\n",
       "    <tr>\n",
       "      <th>9</th>\n",
       "      <td>3</td>\n",
       "      <td>gesture</td>\n",
       "      <td>2</td>\n",
       "      <td>1</td>\n",
       "    </tr>\n",
       "  </tbody>\n",
       "</table>\n",
       "</div>"
      ],
      "text/plain": [
       "   Text     SToken  orthoSim  semanticSim\n",
       "0     3  Spielberg         0            0\n",
       "1     3      shows        12           16\n",
       "2     3    Beijing         0            0\n",
       "3     3        red        55            8\n",
       "4     3       card        31            1\n",
       "5     3       over         0           12\n",
       "6     3     Darfur         0            0\n",
       "7     3         In         0            1\n",
       "8     3          a         0           30\n",
       "9     3    gesture         2            1"
      ]
     },
     "execution_count": 49,
     "metadata": {},
     "output_type": "execute_result"
    }
   ],
   "source": [
    "col_list = \"Text SToken orthoSim semanticSim\".split()\n",
    "stdf[[col for col in col_list]].head(10)"
   ]
  },
  {
   "cell_type": "code",
   "execution_count": 482,
   "metadata": {},
   "outputs": [
    {
     "name": "stdout",
     "output_type": "stream",
     "text": [
      "             semanticSim       Dur\n",
      "semanticSim     1.000000  0.008411\n",
      "Dur             0.008411  1.000000\n",
      "P-value =  0.439\n",
      "                            OLS Regression Results                            \n",
      "==============================================================================\n",
      "Dep. Variable:                    Dur   R-squared:                       0.000\n",
      "Model:                            OLS   Adj. R-squared:                 -0.000\n",
      "Method:                 Least Squares   F-statistic:                    0.5994\n",
      "Date:                Wed, 07 Aug 2019   Prob (F-statistic):              0.439\n",
      "Time:                        15:10:32   Log-Likelihood:                -86369.\n",
      "No. Observations:                8474   AIC:                         1.727e+05\n",
      "Df Residuals:                    8472   BIC:                         1.728e+05\n",
      "Df Model:                           1                                         \n",
      "Covariance Type:            nonrobust                                         \n",
      "===============================================================================\n",
      "                  coef    std err          t      P>|t|      [0.025      0.975]\n",
      "-------------------------------------------------------------------------------\n",
      "Intercept    4046.2247    103.178     39.216      0.000    3843.970    4248.479\n",
      "semanticSim     6.4032      8.271      0.774      0.439      -9.809      22.615\n",
      "==============================================================================\n",
      "Omnibus:                     4416.415   Durbin-Watson:                   1.854\n",
      "Prob(Omnibus):                  0.000   Jarque-Bera (JB):            25813.749\n",
      "Skew:                           2.537   Prob(JB):                         0.00\n",
      "Kurtosis:                       9.882   Cond. No.                         18.4\n",
      "==============================================================================\n",
      "\n",
      "Warnings:\n",
      "[1] Standard Errors assume that the covariance matrix of the errors is correctly specified.\n"
     ]
    },
    {
     "data": {
      "image/png": "[encoded data removed]",
      "text/plain": [
       "<Figure size 360x360 with 1 Axes>"
      ]
     },
     "metadata": {
      "needs_background": "light"
     },
     "output_type": "display_data"
    }
   ],
   "source": [
    "similarity_plot(stdf, \"semanticSim\", \"Dur\",lengthFilter=2,logScale=False)"
   ]
  },
  {
   "cell_type": "code",
   "execution_count": 478,
   "metadata": {},
   "outputs": [
    {
     "name": "stdout",
     "output_type": "stream",
     "text": [
      "          orthoSim    DurLog\n",
      "orthoSim  1.000000 -0.023556\n",
      "DurLog   -0.023556  1.000000\n",
      "P-value =  0.052\n",
      "                            OLS Regression Results                            \n",
      "==============================================================================\n",
      "Dep. Variable:                 DurLog   R-squared:                       0.001\n",
      "Model:                            OLS   Adj. R-squared:                  0.000\n",
      "Method:                 Least Squares   F-statistic:                     3.785\n",
      "Date:                Wed, 07 Aug 2019   Prob (F-statistic):             0.0518\n",
      "Time:                        15:05:32   Log-Likelihood:                -18042.\n",
      "No. Observations:                6819   AIC:                         3.609e+04\n",
      "Df Residuals:                    6817   BIC:                         3.610e+04\n",
      "Df Model:                           1                                         \n",
      "Covariance Type:            nonrobust                                         \n",
      "==============================================================================\n",
      "                 coef    std err          t      P>|t|      [0.025      0.975]\n",
      "------------------------------------------------------------------------------\n",
      "Intercept      6.1301      0.057    108.474      0.000       6.019       6.241\n",
      "orthoSim      -0.0112      0.006     -1.945      0.052      -0.022    8.59e-05\n",
      "==============================================================================\n",
      "Omnibus:                     2189.029   Durbin-Watson:                   1.084\n",
      "Prob(Omnibus):                  0.000   Jarque-Bera (JB):              944.516\n",
      "Skew:                          -0.758   Prob(JB):                    7.96e-206\n",
      "Kurtosis:                       1.987   Cond. No.                         13.5\n",
      "==============================================================================\n",
      "\n",
      "Warnings:\n",
      "[1] Standard Errors assume that the covariance matrix of the errors is correctly specified.\n"
     ]
    },
    {
     "name": "stderr",
     "output_type": "stream",
     "text": [
      "/usr/local/lib64/python3.6/site-packages/scipy/stats/stats.py:1713: FutureWarning: Using a non-tuple sequence for multidimensional indexing is deprecated; use `arr[tuple(seq)]` instead of `arr[seq]`. In the future this will be interpreted as an array index, `arr[np.array(seq)]`, which will result either in an error or a different result.\n",
      "  return np.add.reduce(sorted[indexer] * weights, axis=axis) / sumval\n"
     ]
    },
    {
     "data": {
      "image/png": "[encoded data removed]",
      "text/plain": [
       "<Figure size 360x360 with 1 Axes>"
      ]
     },
     "metadata": {
      "needs_background": "light"
     },
     "output_type": "display_data"
    }
   ],
   "source": [
    "similarity_plot(stdf, \"orthoSim\", \"Dur\",lengthFilter=2,logScale=True)"
   ]
  },
  {
   "cell_type": "markdown",
   "metadata": {},
   "source": [
    "### Creates a pivot table for ST dataframe"
   ]
  },
  {
   "cell_type": "code",
   "execution_count": 369,
   "metadata": {},
   "outputs": [],
   "source": [
    "pivot = stdf.pivot_table(index=[\"Text\",\"Id\",\"SToken\"],values=['HTra','Dur','semanticSim','orthoSim'],aggfunc={'HTra':[np.max, np.mean,np.count_nonzero],'semanticSim':np.count_nonzero,'orthoSim':[np.min,np.max,np.count_nonzero],'Dur':[np.min,np.max,np.mean]})\n",
    "#np.max"
   ]
  },
  {
   "cell_type": "code",
   "execution_count": 166,
   "metadata": {},
   "outputs": [
    {
     "data": {
      "text/html": [
       "<div>\n",
       "<style scoped>\n",
       "    .dataframe tbody tr th:only-of-type {\n",
       "        vertical-align: middle;\n",
       "    }\n",
       "\n",
       "    .dataframe tbody tr th {\n",
       "        vertical-align: top;\n",
       "    }\n",
       "\n",
       "    .dataframe thead tr th {\n",
       "        text-align: left;\n",
       "    }\n",
       "\n",
       "    .dataframe thead tr:last-of-type th {\n",
       "        text-align: right;\n",
       "    }\n",
       "</style>\n",
       "<table border=\"1\" class=\"dataframe\">\n",
       "  <thead>\n",
       "    <tr>\n",
       "      <th></th>\n",
       "      <th></th>\n",
       "      <th colspan=\"3\" halign=\"left\">Dur</th>\n",
       "      <th colspan=\"3\" halign=\"left\">HTra</th>\n",
       "      <th colspan=\"2\" halign=\"left\">orthoSim</th>\n",
       "      <th>semanticSim</th>\n",
       "    </tr>\n",
       "    <tr>\n",
       "      <th></th>\n",
       "      <th></th>\n",
       "      <th>amax</th>\n",
       "      <th>amin</th>\n",
       "      <th>mean</th>\n",
       "      <th>amax</th>\n",
       "      <th>count_nonzero</th>\n",
       "      <th>mean</th>\n",
       "      <th>amax</th>\n",
       "      <th>amin</th>\n",
       "      <th>count_nonzero</th>\n",
       "    </tr>\n",
       "    <tr>\n",
       "      <th>Id</th>\n",
       "      <th>SToken</th>\n",
       "      <th></th>\n",
       "      <th></th>\n",
       "      <th></th>\n",
       "      <th></th>\n",
       "      <th></th>\n",
       "      <th></th>\n",
       "      <th></th>\n",
       "      <th></th>\n",
       "      <th></th>\n",
       "    </tr>\n",
       "  </thead>\n",
       "  <tbody>\n",
       "    <tr>\n",
       "      <th>1</th>\n",
       "      <th>Killer</th>\n",
       "      <td>115456.0</td>\n",
       "      <td>0.0</td>\n",
       "      <td>9034.923077</td>\n",
       "      <td>3.0328</td>\n",
       "      <td>39.0</td>\n",
       "      <td>3.0328</td>\n",
       "      <td>12</td>\n",
       "      <td>12</td>\n",
       "      <td>0</td>\n",
       "    </tr>\n",
       "    <tr>\n",
       "      <th>2</th>\n",
       "      <th>nurse</th>\n",
       "      <td>138638.0</td>\n",
       "      <td>0.0</td>\n",
       "      <td>10668.820513</td>\n",
       "      <td>3.3776</td>\n",
       "      <td>39.0</td>\n",
       "      <td>3.3776</td>\n",
       "      <td>7</td>\n",
       "      <td>7</td>\n",
       "      <td>39</td>\n",
       "    </tr>\n",
       "    <tr>\n",
       "      <th>3</th>\n",
       "      <th>receives</th>\n",
       "      <td>92836.0</td>\n",
       "      <td>0.0</td>\n",
       "      <td>4678.717949</td>\n",
       "      <td>3.5791</td>\n",
       "      <td>39.0</td>\n",
       "      <td>3.5791</td>\n",
       "      <td>5</td>\n",
       "      <td>5</td>\n",
       "      <td>39</td>\n",
       "    </tr>\n",
       "    <tr>\n",
       "      <th>4</th>\n",
       "      <th>four</th>\n",
       "      <td>16047.0</td>\n",
       "      <td>0.0</td>\n",
       "      <td>1853.282051</td>\n",
       "      <td>3.5210</td>\n",
       "      <td>39.0</td>\n",
       "      <td>3.5210</td>\n",
       "      <td>17</td>\n",
       "      <td>17</td>\n",
       "      <td>39</td>\n",
       "    </tr>\n",
       "    <tr>\n",
       "      <th>5</th>\n",
       "      <th>life</th>\n",
       "      <td>0.0</td>\n",
       "      <td>0.0</td>\n",
       "      <td>0.000000</td>\n",
       "      <td>1.4596</td>\n",
       "      <td>39.0</td>\n",
       "      <td>1.4596</td>\n",
       "      <td>18</td>\n",
       "      <td>18</td>\n",
       "      <td>39</td>\n",
       "    </tr>\n",
       "  </tbody>\n",
       "</table>\n",
       "</div>"
      ],
      "text/plain": [
       "                  Dur                       HTra                        \\\n",
       "                 amax amin          mean    amax count_nonzero    mean   \n",
       "Id SToken                                                                \n",
       "1  Killer    115456.0  0.0   9034.923077  3.0328          39.0  3.0328   \n",
       "2  nurse     138638.0  0.0  10668.820513  3.3776          39.0  3.3776   \n",
       "3  receives   92836.0  0.0   4678.717949  3.5791          39.0  3.5791   \n",
       "4  four       16047.0  0.0   1853.282051  3.5210          39.0  3.5210   \n",
       "5  life           0.0  0.0      0.000000  1.4596          39.0  1.4596   \n",
       "\n",
       "            orthoSim        semanticSim  \n",
       "                amax amin count_nonzero  \n",
       "Id SToken                                \n",
       "1  Killer         12   12             0  \n",
       "2  nurse           7    7            39  \n",
       "3  receives        5    5            39  \n",
       "4  four           17   17            39  \n",
       "5  life           18   18            39  "
      ]
     },
     "execution_count": 166,
     "metadata": {},
     "output_type": "execute_result"
    }
   ],
   "source": [
    "pivot.loc[1,:].head()"
   ]
  },
  {
   "cell_type": "markdown",
   "metadata": {},
   "source": [
    "Multi-indexes can be accessed using the following methods\n",
    "- Using .loc\n",
    "- Using slice()\n",
    "- multi-index indices can be converted to tuples by using df.index.tolist()\n",
    "- multi-index columns can also be read as tuples. For e.g. ('HTra','mean')\n",
    "\n",
    "Examples\n",
    "- pivot.loc[(slice(1,2), slice(1,5)),((slice('semanticSim'),slice('amin')))]\n",
    "- pivot.loc[[i for i in multi_index if i[0]==3]][['HTra','Dur']]\n",
    "- pivot.loc[2,[('HTra','amax'),('Dur','amax')]]"
   ]
  },
  {
   "cell_type": "code",
   "execution_count": null,
   "metadata": {
    "scrolled": false
   },
   "outputs": [],
   "source": [
    "# multi-indexes are represented as tuples\n",
    "multi_index =  pivot.index.tolist()\n",
    "col_multi_index = list(pivot.columns.values)\n",
    "#pivot.loc[[i for i in multi_index if i[0]==3]][['HTra','Dur']]\n",
    "pivot.loc[[i for i in multi_index if i[0]==3]][[j for j in col_multi_index if j[1] == 'mean']]"
   ]
  },
  {
   "cell_type": "code",
   "execution_count": null,
   "metadata": {
    "scrolled": false
   },
   "outputs": [],
   "source": [
    "\n",
    "pivot.loc[2,[('HTra','amax'),('Dur','amax')]]"
   ]
  },
  {
   "cell_type": "code",
   "execution_count": null,
   "metadata": {
    "scrolled": false
   },
   "outputs": [],
   "source": [
    "# Heirarchical column index using IndexSlice\n",
    "idx = pd.IndexSlice\n",
    "#pivot.loc[1,idx[:'semanticSim','amax':'count_nonzero']]\n",
    "pivot.loc[idx[:3,2:5],idx[:'semanticSim','amax':'count_nonzero']]"
   ]
  },
  {
   "cell_type": "code",
   "execution_count": null,
   "metadata": {
    "scrolled": true
   },
   "outputs": [],
   "source": [
    "# Use slice() for multi-index on both rows and columns\n",
    "pivot.loc[(slice(1,2), slice(1,5)),((slice('semanticSim'),slice('amin')))]"
   ]
  },
  {
   "cell_type": "code",
   "execution_count": null,
   "metadata": {
    "scrolled": true
   },
   "outputs": [],
   "source": [
    "# select heirarchical columns as tuples.\n",
    "\n",
    "pivot.loc[(slice(1,2), slice(1,5)),:][[('HTra','amax'),('Dur','amax'),('semanticSim','count_nonzero')]]"
   ]
  },
  {
   "cell_type": "markdown",
   "metadata": {},
   "source": [
    "### Sorting in Pivot Table"
   ]
  },
  {
   "cell_type": "code",
   "execution_count": null,
   "metadata": {},
   "outputs": [],
   "source": [
    "# Sort multi-index by level\n",
    "pivot.sort_index(level='Id',ascending=False)"
   ]
  },
  {
   "cell_type": "code",
   "execution_count": 375,
   "metadata": {},
   "outputs": [],
   "source": [
    "aa = pivot.loc[:][[('HTra','mean'),('orthoSim','count_nonzero'),('semanticSim','count_nonzero')]]"
   ]
  },
  {
   "cell_type": "code",
   "execution_count": 388,
   "metadata": {},
   "outputs": [
    {
     "data": {
      "text/html": [
       "<div>\n",
       "<style scoped>\n",
       "    .dataframe tbody tr th:only-of-type {\n",
       "        vertical-align: middle;\n",
       "    }\n",
       "\n",
       "    .dataframe tbody tr th {\n",
       "        vertical-align: top;\n",
       "    }\n",
       "\n",
       "    .dataframe thead tr th {\n",
       "        text-align: left;\n",
       "    }\n",
       "\n",
       "    .dataframe thead tr:last-of-type th {\n",
       "        text-align: right;\n",
       "    }\n",
       "</style>\n",
       "<table border=\"1\" class=\"dataframe\">\n",
       "  <thead>\n",
       "    <tr>\n",
       "      <th></th>\n",
       "      <th></th>\n",
       "      <th></th>\n",
       "      <th>HTra</th>\n",
       "      <th>orthoSim</th>\n",
       "      <th>semanticSim</th>\n",
       "    </tr>\n",
       "    <tr>\n",
       "      <th></th>\n",
       "      <th></th>\n",
       "      <th></th>\n",
       "      <th>mean</th>\n",
       "      <th>count_nonzero</th>\n",
       "      <th>count_nonzero</th>\n",
       "    </tr>\n",
       "    <tr>\n",
       "      <th>Text</th>\n",
       "      <th>Id</th>\n",
       "      <th>SToken</th>\n",
       "      <th></th>\n",
       "      <th></th>\n",
       "      <th></th>\n",
       "    </tr>\n",
       "  </thead>\n",
       "  <tbody>\n",
       "    <tr>\n",
       "      <th>2</th>\n",
       "      <th>115</th>\n",
       "      <th>those</th>\n",
       "      <td>5.2479</td>\n",
       "      <td>0</td>\n",
       "      <td>38</td>\n",
       "    </tr>\n",
       "    <tr>\n",
       "      <th rowspan=\"2\" valign=\"top\">1</th>\n",
       "      <th>102</th>\n",
       "      <th>the</th>\n",
       "      <td>5.2341</td>\n",
       "      <td>0</td>\n",
       "      <td>39</td>\n",
       "    </tr>\n",
       "    <tr>\n",
       "      <th>103</th>\n",
       "      <th>awareness</th>\n",
       "      <td>5.2341</td>\n",
       "      <td>0</td>\n",
       "      <td>0</td>\n",
       "    </tr>\n",
       "    <tr>\n",
       "      <th rowspan=\"2\" valign=\"top\">4</th>\n",
       "      <th>69</th>\n",
       "      <th>contributed</th>\n",
       "      <td>5.2095</td>\n",
       "      <td>37</td>\n",
       "      <td>0</td>\n",
       "    </tr>\n",
       "    <tr>\n",
       "      <th>68</th>\n",
       "      <th>have</th>\n",
       "      <td>5.2095</td>\n",
       "      <td>0</td>\n",
       "      <td>37</td>\n",
       "    </tr>\n",
       "  </tbody>\n",
       "</table>\n",
       "</div>"
      ],
      "text/plain": [
       "                        HTra      orthoSim   semanticSim\n",
       "                        mean count_nonzero count_nonzero\n",
       "Text Id  SToken                                         \n",
       "2    115 those        5.2479             0            38\n",
       "1    102 the          5.2341             0            39\n",
       "     103 awareness    5.2341             0             0\n",
       "4    69  contributed  5.2095            37             0\n",
       "     68  have         5.2095             0            37"
      ]
     },
     "execution_count": 388,
     "metadata": {},
     "output_type": "execute_result"
    }
   ],
   "source": [
    "# Sort by value\n",
    "aa.sort_values(('HTra','mean'),ascending=False).head()"
   ]
  },
  {
   "cell_type": "code",
   "execution_count": 356,
   "metadata": {},
   "outputs": [],
   "source": [
    "a = np.random.randint(1,100,15)\n",
    "b = np.random.randint(1,100,15)\n",
    "c = np.random.randint(1,100,15)\n",
    "dff = pd.DataFrame(index=[i for i in range(15)], columns=[\"A\",\"B\",\"C\"], data={\"A\":a,\"B\":b,\"C\":c}, dtype=str)"
   ]
  },
  {
   "cell_type": "markdown",
   "metadata": {},
   "source": [
    "### RUC17 Study"
   ]
  },
  {
   "cell_type": "code",
   "execution_count": 390,
   "metadata": {},
   "outputs": [],
   "source": [
    "# read the ENJA study data\n",
    "rucdf = kent.readTPDDBtables(['RUC17/Tables/'], \"*st\", path='/data/critt/tprdb/TPRDB/')\n",
    "ruc_source_words = set(rucdf['SToken'].tolist())"
   ]
  },
  {
   "cell_type": "code",
   "execution_count": 391,
   "metadata": {},
   "outputs": [],
   "source": [
    "add_column(\"orthoSim\", word_to_lev_dic, rucdf, ignoreCase=False)\n",
    "add_column(\"semanticSim\", word_to_semsim_dic, rucdf)"
   ]
  },
  {
   "cell_type": "code",
   "execution_count": 392,
   "metadata": {},
   "outputs": [
    {
     "name": "stdout",
     "output_type": "stream",
     "text": [
      "             semanticSim    DurLog\n",
      "semanticSim     1.000000  0.048044\n",
      "DurLog          0.048044  1.000000\n",
      "P-value =  0.002\n",
      "                            OLS Regression Results                            \n",
      "==============================================================================\n",
      "Dep. Variable:                 DurLog   R-squared:                       0.002\n",
      "Model:                            OLS   Adj. R-squared:                  0.002\n",
      "Method:                 Least Squares   F-statistic:                     9.735\n",
      "Date:                Mon, 05 Aug 2019   Prob (F-statistic):            0.00182\n",
      "Time:                        15:36:36   Log-Likelihood:                -7647.8\n",
      "No. Observations:                4210   AIC:                         1.530e+04\n",
      "Df Residuals:                    4208   BIC:                         1.531e+04\n",
      "Df Model:                           1                                         \n",
      "Covariance Type:            nonrobust                                         \n",
      "===============================================================================\n",
      "                  coef    std err          t      P>|t|      [0.025      0.975]\n",
      "-------------------------------------------------------------------------------\n",
      "Intercept       7.0459      0.033    210.708      0.000       6.980       7.111\n",
      "semanticSim     0.0084      0.003      3.120      0.002       0.003       0.014\n",
      "==============================================================================\n",
      "Omnibus:                     1621.608   Durbin-Watson:                   1.623\n",
      "Prob(Omnibus):                  0.000   Jarque-Bera (JB):             9379.987\n",
      "Skew:                          -1.738   Prob(JB):                         0.00\n",
      "Kurtosis:                       9.434   Cond. No.                         18.1\n",
      "==============================================================================\n",
      "\n",
      "Warnings:\n",
      "[1] Standard Errors assume that the covariance matrix of the errors is correctly specified.\n"
     ]
    },
    {
     "data": {
      "image/png": "[encoded data removed]",
      "text/plain": [
       "<Figure size 360x360 with 1 Axes>"
      ]
     },
     "metadata": {
      "needs_background": "light"
     },
     "output_type": "display_data"
    }
   ],
   "source": [
    "similarity_plot(rucdf, \"semanticSim\", \"Dur\")"
   ]
  },
  {
   "cell_type": "code",
   "execution_count": 488,
   "metadata": {},
   "outputs": [
    {
     "name": "stdout",
     "output_type": "stream",
     "text": [
      "             semanticSim     HTra\n",
      "semanticSim      1.00000  0.08633\n",
      "HTra             0.08633  1.00000\n",
      "P-value =  0.000\n",
      "                            OLS Regression Results                            \n",
      "==============================================================================\n",
      "Dep. Variable:                   HTra   R-squared:                       0.007\n",
      "Model:                            OLS   Adj. R-squared:                  0.007\n",
      "Method:                 Least Squares   F-statistic:                     76.15\n",
      "Date:                Wed, 07 Aug 2019   Prob (F-statistic):           3.05e-18\n",
      "Time:                        15:41:18   Log-Likelihood:                -13878.\n",
      "No. Observations:               10143   AIC:                         2.776e+04\n",
      "Df Residuals:                   10141   BIC:                         2.777e+04\n",
      "Df Model:                           1                                         \n",
      "Covariance Type:            nonrobust                                         \n",
      "===============================================================================\n",
      "                  coef    std err          t      P>|t|      [0.025      0.975]\n",
      "-------------------------------------------------------------------------------\n",
      "Intercept       2.1783      0.014    155.127      0.000       2.151       2.206\n",
      "semanticSim     0.0102      0.001      8.726      0.000       0.008       0.012\n",
      "==============================================================================\n",
      "Omnibus:                     1026.637   Durbin-Watson:                   1.306\n",
      "Prob(Omnibus):                  0.000   Jarque-Bera (JB):              296.570\n",
      "Skew:                          -0.008   Prob(JB):                     3.99e-65\n",
      "Kurtosis:                       2.162   Cond. No.                         17.9\n",
      "==============================================================================\n",
      "\n",
      "Warnings:\n",
      "[1] Standard Errors assume that the covariance matrix of the errors is correctly specified.\n"
     ]
    },
    {
     "name": "stderr",
     "output_type": "stream",
     "text": [
      "/usr/local/lib64/python3.6/site-packages/scipy/stats/stats.py:1713: FutureWarning: Using a non-tuple sequence for multidimensional indexing is deprecated; use `arr[tuple(seq)]` instead of `arr[seq]`. In the future this will be interpreted as an array index, `arr[np.array(seq)]`, which will result either in an error or a different result.\n",
      "  return np.add.reduce(sorted[indexer] * weights, axis=axis) / sumval\n"
     ]
    },
    {
     "data": {
      "image/png": "[encoded data removed]",
      "text/plain": [
       "<Figure size 360x360 with 1 Axes>"
      ]
     },
     "metadata": {
      "needs_background": "light"
     },
     "output_type": "display_data"
    }
   ],
   "source": [
    "similarity_plot(rucdf, \"semanticSim\", \"HTra\",lengthFilter=2,logScale=False)"
   ]
  },
  {
   "cell_type": "code",
   "execution_count": 393,
   "metadata": {
    "scrolled": true
   },
   "outputs": [
    {
     "name": "stdout",
     "output_type": "stream",
     "text": [
      "          orthoSim    DurLog\n",
      "orthoSim  1.000000 -0.045996\n",
      "DurLog   -0.045996  1.000000\n",
      "P-value =  0.008\n",
      "                            OLS Regression Results                            \n",
      "==============================================================================\n",
      "Dep. Variable:                 DurLog   R-squared:                       0.002\n",
      "Model:                            OLS   Adj. R-squared:                  0.002\n",
      "Method:                 Least Squares   F-statistic:                     7.026\n",
      "Date:                Mon, 05 Aug 2019   Prob (F-statistic):            0.00807\n",
      "Time:                        15:37:06   Log-Likelihood:                -6063.5\n",
      "No. Observations:                3316   AIC:                         1.213e+04\n",
      "Df Residuals:                    3314   BIC:                         1.214e+04\n",
      "Df Model:                           1                                         \n",
      "Covariance Type:            nonrobust                                         \n",
      "==============================================================================\n",
      "                 coef    std err          t      P>|t|      [0.025      0.975]\n",
      "------------------------------------------------------------------------------\n",
      "Intercept      7.2691      0.036    202.679      0.000       7.199       7.339\n",
      "orthoSim      -0.0099      0.004     -2.651      0.008      -0.017      -0.003\n",
      "==============================================================================\n",
      "Omnibus:                     1449.203   Durbin-Watson:                   1.522\n",
      "Prob(Omnibus):                  0.000   Jarque-Bera (JB):             9676.730\n",
      "Skew:                          -1.956   Prob(JB):                         0.00\n",
      "Kurtosis:                      10.398   Cond. No.                         13.3\n",
      "==============================================================================\n",
      "\n",
      "Warnings:\n",
      "[1] Standard Errors assume that the covariance matrix of the errors is correctly specified.\n"
     ]
    },
    {
     "data": {
      "image/png": "[encoded data removed]",
      "text/plain": [
       "<Figure size 360x360 with 1 Axes>"
      ]
     },
     "metadata": {
      "needs_background": "light"
     },
     "output_type": "display_data"
    }
   ],
   "source": [
    "similarity_plot(rucdf, \"orthoSim\", \"Dur\")"
   ]
  },
  {
   "cell_type": "markdown",
   "metadata": {},
   "source": [
    "### BML12 Study"
   ]
  },
  {
   "cell_type": "code",
   "execution_count": 394,
   "metadata": {},
   "outputs": [],
   "source": [
    "# read the ENJA study data\n",
    "bmldf = kent.readTPDDBtables(['BML12/Tables/'], \"*st\", path='/data/critt/tprdb/TPRDB/')\n",
    "bml_source_words = set(bmldf['SToken'].tolist())"
   ]
  },
  {
   "cell_type": "code",
   "execution_count": 405,
   "metadata": {},
   "outputs": [],
   "source": [
    "add_column(\"orthoSim\", word_to_lev_dic, bmldf, ignoreCase=False)\n",
    "add_column(\"semanticSim\", word_to_semsim_dic, bmldf)"
   ]
  },
  {
   "cell_type": "code",
   "execution_count": 396,
   "metadata": {},
   "outputs": [
    {
     "name": "stdout",
     "output_type": "stream",
     "text": [
      "             semanticSim    DurLog\n",
      "semanticSim     1.000000  0.062752\n",
      "DurLog          0.062752  1.000000\n",
      "P-value =  0.000\n",
      "                            OLS Regression Results                            \n",
      "==============================================================================\n",
      "Dep. Variable:                 DurLog   R-squared:                       0.004\n",
      "Model:                            OLS   Adj. R-squared:                  0.004\n",
      "Method:                 Least Squares   F-statistic:                     22.18\n",
      "Date:                Mon, 05 Aug 2019   Prob (F-statistic):           2.54e-06\n",
      "Time:                        16:12:15   Log-Likelihood:                -10069.\n",
      "No. Observations:                5613   AIC:                         2.014e+04\n",
      "Df Residuals:                    5611   BIC:                         2.016e+04\n",
      "Df Model:                           1                                         \n",
      "Covariance Type:            nonrobust                                         \n",
      "===============================================================================\n",
      "                  coef    std err          t      P>|t|      [0.025      0.975]\n",
      "-------------------------------------------------------------------------------\n",
      "Intercept       6.8877      0.029    240.810      0.000       6.832       6.944\n",
      "semanticSim     0.0111      0.002      4.710      0.000       0.006       0.016\n",
      "==============================================================================\n",
      "Omnibus:                     1814.783   Durbin-Watson:                   1.836\n",
      "Prob(Omnibus):                  0.000   Jarque-Bera (JB):             7035.089\n",
      "Skew:                          -1.570   Prob(JB):                         0.00\n",
      "Kurtosis:                       7.497   Cond. No.                         17.9\n",
      "==============================================================================\n",
      "\n",
      "Warnings:\n",
      "[1] Standard Errors assume that the covariance matrix of the errors is correctly specified.\n"
     ]
    },
    {
     "name": "stderr",
     "output_type": "stream",
     "text": [
      "/usr/local/lib64/python3.6/site-packages/scipy/stats/stats.py:1713: FutureWarning: Using a non-tuple sequence for multidimensional indexing is deprecated; use `arr[tuple(seq)]` instead of `arr[seq]`. In the future this will be interpreted as an array index, `arr[np.array(seq)]`, which will result either in an error or a different result.\n",
      "  return np.add.reduce(sorted[indexer] * weights, axis=axis) / sumval\n"
     ]
    },
    {
     "data": {
      "image/png": "[encoded data removed]",
      "text/plain": [
       "<Figure size 360x360 with 1 Axes>"
      ]
     },
     "metadata": {
      "needs_background": "light"
     },
     "output_type": "display_data"
    }
   ],
   "source": [
    "similarity_plot(bmldf, \"semanticSim\", \"Dur\")"
   ]
  },
  {
   "cell_type": "code",
   "execution_count": 406,
   "metadata": {
    "scrolled": true
   },
   "outputs": [
    {
     "name": "stdout",
     "output_type": "stream",
     "text": [
      "          orthoSim    DurLog\n",
      "orthoSim  1.000000 -0.039806\n",
      "DurLog   -0.039806  1.000000\n",
      "P-value =  0.024\n",
      "                            OLS Regression Results                            \n",
      "==============================================================================\n",
      "Dep. Variable:                 DurLog   R-squared:                       0.002\n",
      "Model:                            OLS   Adj. R-squared:                  0.001\n",
      "Method:                 Least Squares   F-statistic:                     5.102\n",
      "Date:                Mon, 05 Aug 2019   Prob (F-statistic):             0.0240\n",
      "Time:                        16:55:35   Log-Likelihood:                -5409.1\n",
      "No. Observations:                3217   AIC:                         1.082e+04\n",
      "Df Residuals:                    3215   BIC:                         1.083e+04\n",
      "Df Model:                           1                                         \n",
      "Covariance Type:            nonrobust                                         \n",
      "==============================================================================\n",
      "                 coef    std err          t      P>|t|      [0.025      0.975]\n",
      "------------------------------------------------------------------------------\n",
      "Intercept      7.3698      0.032    227.180      0.000       7.306       7.433\n",
      "orthoSim      -0.0114      0.005     -2.259      0.024      -0.021      -0.002\n",
      "==============================================================================\n",
      "Omnibus:                     1686.772   Durbin-Watson:                   1.745\n",
      "Prob(Omnibus):                  0.000   Jarque-Bera (JB):            13931.646\n",
      "Skew:                          -2.366   Prob(JB):                         0.00\n",
      "Kurtosis:                      12.030   Cond. No.                         9.22\n",
      "==============================================================================\n",
      "\n",
      "Warnings:\n",
      "[1] Standard Errors assume that the covariance matrix of the errors is correctly specified.\n"
     ]
    },
    {
     "data": {
      "image/png": "[encoded data removed]",
      "text/plain": [
       "<Figure size 360x360 with 1 Axes>"
      ]
     },
     "metadata": {
      "needs_background": "light"
     },
     "output_type": "display_data"
    }
   ],
   "source": [
    "similarity_plot(bmldf, \"orthoSim\", \"Dur\",lengthFilter=4)"
   ]
  },
  {
   "cell_type": "code",
   "execution_count": 543,
   "metadata": {
    "scrolled": true
   },
   "outputs": [
    {
     "name": "stdout",
     "output_type": "stream",
     "text": [
      "             semanticSim   DurLog\n",
      "semanticSim      1.00000  0.07666\n",
      "DurLog           0.07666  1.00000\n",
      "P-value =  0.000\n",
      "                            OLS Regression Results                            \n",
      "==============================================================================\n",
      "Dep. Variable:                 DurLog   R-squared:                       0.006\n",
      "Model:                            OLS   Adj. R-squared:                  0.006\n",
      "Method:                 Least Squares   F-statistic:                     24.17\n",
      "Date:                Wed, 07 Aug 2019   Prob (F-statistic):           9.15e-07\n",
      "Time:                        16:15:51   Log-Likelihood:                -7444.5\n",
      "No. Observations:                4091   AIC:                         1.489e+04\n",
      "Df Residuals:                    4089   BIC:                         1.491e+04\n",
      "Df Model:                           1                                         \n",
      "Covariance Type:            nonrobust                                         \n",
      "===============================================================================\n",
      "                  coef    std err          t      P>|t|      [0.025      0.975]\n",
      "-------------------------------------------------------------------------------\n",
      "Intercept       6.6900      0.034    194.768      0.000       6.623       6.757\n",
      "semanticSim     0.0142      0.003      4.917      0.000       0.009       0.020\n",
      "==============================================================================\n",
      "Omnibus:                     1153.797   Durbin-Watson:                   1.866\n",
      "Prob(Omnibus):                  0.000   Jarque-Bera (JB):             3947.146\n",
      "Skew:                          -1.397   Prob(JB):                         0.00\n",
      "Kurtosis:                       6.917   Cond. No.                         17.5\n",
      "==============================================================================\n",
      "\n",
      "Warnings:\n",
      "[1] Standard Errors assume that the covariance matrix of the errors is correctly specified.\n"
     ]
    },
    {
     "data": {
      "image/png": "[encoded data removed]",
      "text/plain": [
       "<Figure size 421.375x360 with 1 Axes>"
      ]
     },
     "metadata": {
      "needs_background": "light"
     },
     "output_type": "display_data"
    }
   ],
   "source": [
    "similarity_plot(bmldf, \"semanticSim\", \"Dur\",lengthFilter=2,logScale=True, uplengthFilter=8)"
   ]
  },
  {
   "cell_type": "markdown",
   "metadata": {},
   "source": [
    "### Word2Vec Implementation"
   ]
  },
  {
   "cell_type": "code",
   "execution_count": null,
   "metadata": {},
   "outputs": [],
   "source": [
    "# for each word in the semantic similarity list\n",
    "    # find frequency from bmc, take its log, multiply it with similarity score.\n",
    "# Sum of all such score.\n",
    "\n",
    "\n",
    "# sum of all similarity scores of the similar set\n",
    "\n",
    "# \n",
    "\n",
    "#precision and recall\n",
    "\n"
   ]
  },
  {
   "cell_type": "code",
   "execution_count": 341,
   "metadata": {},
   "outputs": [],
   "source": [
    "import nltk\n",
    "import numpy as np\n",
    "\n",
    "# Returns a list of semantic competitor words based on the score_limit\n",
    "def semantic_sim_set(comp_tuple_list, score_limit = 0.7, include_stopwords = False):\n",
    "    comp_list = []\n",
    "    \n",
    "    comp_list = [(word,score) for word,score in comp_tuple_list if word.isalpha() and score >= score_limit ]\n",
    "    return comp_list\n",
    "\n",
    "\n",
    "# Creates a dictionary of word to comp_list for each word in the source_words list\n",
    "def semantic_similar_words_dic(stoken_list, model, topn=100, score_limit=0.7):\n",
    "    token_to_semantic_words_dic = dict()\n",
    "    for stoken in set(stoken_list):\n",
    "        token_to_semantic_words_dic[stoken] = get_semantic_similar_word_list(stoken, model)\n",
    "        \n",
    "    return token_to_semantic_words_dic\n",
    "\n",
    "def get_semantic_similar_word_list(stoken, model=glove_model, topn=100, score_limit=0.7):\n",
    "    \"\"\"\n",
    "    This function gets the semantic similar words of the input stoken\n",
    "    Input\n",
    "        stoken - source token from tpr db\n",
    "        model - word2vec model\n",
    "        topn - maximum number of words to find from the model ( default = 100)\n",
    "        score_limit - threshold similarity score(default = 0.7)\n",
    "    \"\"\"\n",
    "    # Throws KeyError if word not in vocabulary\n",
    "    try:\n",
    "        result = model.most_similar(stoken.lower(), negative=None, topn=topn)\n",
    "    except KeyError:\n",
    "        result = []\n",
    "    comp_list = semantic_sim_set(result,score_limit=score_limit)\n",
    "    \n",
    "    return comp_list\n",
    "\n",
    "## To be used by function summation_freq_simscore()\n",
    "def eval_freq_score(word, score, log_scale, min_freq=20, freq_dic=bnc_freq_dic):\n",
    "    freq = bnc_freq_dic.get(word)\n",
    "    if not freq:\n",
    "        freq = min_freq\n",
    "    if log_scale:\n",
    "        return np.log2(freq)*score\n",
    "    else:\n",
    "        return freq*score\n",
    "    \n",
    "# Calculates entropy given an input of list containing frequency\n",
    "def calc_entropy(freq_list):\n",
    "    entropy = 0.0\n",
    "    if freq_list: \n",
    "        total_freq = sum(freq_list)\n",
    "        prob_list = [f/total_freq for f in freq_list]\n",
    "        entropy = sum([-p*np.log(p) for p in prob_list])\n",
    "    return entropy\n",
    "\n",
    "## Below functions can be applied to a column using .apply() function\n",
    "    \n",
    "def summation_freq_simscore(stoken, freq_dic=bnc_freq_dic, model=glove_model, min_freq=20,log_scale=True):\n",
    "    score = 0.0\n",
    "    sim_list = get_semantic_similar_word_list(stoken, model)\n",
    "    if not sim_list:\n",
    "        return score\n",
    "    #summ_list = [score*freq_dic.get(word) if freq_dic.get(word)  else min_freq*score for word,score in sim_list]\n",
    "    summ_list = [eval_freq_score(word,score,log_scale) for word,score in sim_list]\n",
    "        \n",
    "    return sum(summ_list)\n",
    "\n",
    "def sum_sim_scores(stoken, model=glove_model):\n",
    "    score_sum = 0.0\n",
    "    sim_list = get_semantic_similar_word_list(stoken, model)\n",
    "    if sim_list:\n",
    "        score_list = [score for word,score in sim_list]\n",
    "        score_sum = sum(score_list)\n",
    "    return(score_sum)\n",
    "\n",
    "\n",
    "def entropy_semantic_sim(stoken, model=glove_model, freq_dic=bnc_freq_dic, min_freq=20):\n",
    "    entropy = 0.0\n",
    "    sim_list = get_semantic_similar_word_list(stoken, model)\n",
    "    if sim_list:\n",
    "        freq_list = [ freq_dic.get(word) if freq_dic.get(word) else min_freq for word,freq in sim_list ]\n",
    "        entropy = calc_entropy(freq_list) \n",
    "    \n",
    "    return entropy\n",
    "    \n",
    "def entropy_ortho_sim(stoken, lev_dic=word_to_lev_dic1, freq_dic=bnc_freq_dic, min_freq=20, verbose=False):\n",
    "    \"\"\"\n",
    "    Calculates the entropy of the orthographic similar words(SS) of an input stoken taking into consideration\n",
    "    the frequency of the SS in the freq_dic\n",
    "    Input\n",
    "        stoken - source token from TPR db\n",
    "        lev_dic - dictionary with levenshtein's distance=1\n",
    "        freq_dic - dictionary containing words with its frequency\n",
    "        min_freq - min freq of the word (default=20)\n",
    "    \"\"\"\n",
    "    entropy = 0.0\n",
    "    \n",
    "    sim_words = lev_dic.get(stoken)\n",
    "    if sim_words: \n",
    "        if verbose:\n",
    "            print(f\"Similar words:\\n\\n{sim_words}\")\n",
    "        freq_list = [ freq_dic.get(word) if freq_dic.get(word) else min_freq for word in sim_words ]\n",
    "        if verbose:\n",
    "            print(f\"Similar words freq:\\n\\n{freq_list}\")\n",
    "        entropy = calc_entropy(freq_list) \n",
    "    return entropy\n",
    "    "
   ]
  },
  {
   "cell_type": "code",
   "execution_count": 327,
   "metadata": {},
   "outputs": [
    {
     "name": "stdout",
     "output_type": "stream",
     "text": [
      "['administration', 'governments', 'officials', 'authorities', 'opposition', 'saying', 'official', 'country', 'promised', 'military', 'backed', 'ministry', 'office', 'support', 'federal', 'state', 'security', 'foreign', 'that', 'would', 'public', 'demanded']\n",
      "SemanticSim Length: 22\n",
      "Entropy: 1.3257510608034644\n",
      "Sum Sim Scores: 16.002248167991638\n",
      "Summation Freq*Score: 221.34830182160542\n",
      "Summation log_Freq*Score: 1175768.391202569\n"
     ]
    }
   ],
   "source": [
    "token = \"Government\"\n",
    "print([word for word,score in get_semantic_similar_word_list(token)])\n",
    "print(f\"SemanticSim Length: {len(get_semantic_similar_word_list(token))}\")\n",
    "print(f\"Entropy: {entropy_semantic_sim(token)}\")\n",
    "print(f\"Sum Sim Scores: {sum_sim_scores(token)}\")\n",
    "print(f\"Summation Freq*Score: {summation_freq_simscore(token)}\")\n",
    "print(f\"Summation log_Freq*Score: {summation_freq_simscore(token,log_scale=False)}\")"
   ]
  },
  {
   "cell_type": "markdown",
   "metadata": {},
   "source": [
    "### stokens_sim_similar_words_dic \n",
    "\n",
    "- It contains a dictionary of semantically similar words for each source tokens\n",
    "- Hyper parameters: topn=100 score_limit=0.7"
   ]
  },
  {
   "cell_type": "code",
   "execution_count": 272,
   "metadata": {},
   "outputs": [],
   "source": [
    "stokens_sim_similar_words_dic = semantic_similar_words_dic(source_words,glove_model)"
   ]
  },
  {
   "cell_type": "code",
   "execution_count": 175,
   "metadata": {},
   "outputs": [],
   "source": [
    "# Creates a frequency dictionary with key as the lenght of the string and value as a list of key:value containing word:frequency\n",
    "# It eliminates the numerical, alphanumerical and special characters containing strings\n",
    "import re\n",
    "def create_freq_dic(dic):\n",
    "    new_dic = dict()\n",
    "    new_dic.setdefault(1,dict())\n",
    "    for key in dic.keys():\n",
    "        l = len(key)\n",
    "        #if l> 20:\n",
    "            #print(str(key) + \"   \" + str(dic[key]))\n",
    "        #new_dic.setdefault(l,dict())\n",
    "        pattern = r\"[a-zA-Z]{\"+str(l)+\"}\"\n",
    "        is_alpha = re.fullmatch(pattern, key)\n",
    "        if l == 1: \n",
    "            continue\n",
    "        else:\n",
    "            if is_alpha:\n",
    "                try:\n",
    "                    new_dic[l][key] = dic[key]\n",
    "                except KeyError as er:\n",
    "                    new_dic.setdefault(l,dict())\n",
    "                    new_dic[l][key] = dic[key]\n",
    "    return new_dic  "
   ]
  },
  {
   "cell_type": "code",
   "execution_count": null,
   "metadata": {},
   "outputs": [],
   "source": [
    "%%time\n",
    "length_"
   ]
  },
  {
   "cell_type": "markdown",
   "metadata": {},
   "source": [
    "### Analysis of BNC freq dictionary"
   ]
  },
  {
   "cell_type": "code",
   "execution_count": 345,
   "metadata": {},
   "outputs": [
    {
     "data": {
      "text/html": [
       "<div>\n",
       "<style scoped>\n",
       "    .dataframe tbody tr th:only-of-type {\n",
       "        vertical-align: middle;\n",
       "    }\n",
       "\n",
       "    .dataframe tbody tr th {\n",
       "        vertical-align: top;\n",
       "    }\n",
       "\n",
       "    .dataframe thead th {\n",
       "        text-align: right;\n",
       "    }\n",
       "</style>\n",
       "<table border=\"1\" class=\"dataframe\">\n",
       "  <thead>\n",
       "    <tr style=\"text-align: right;\">\n",
       "      <th></th>\n",
       "      <th>Id</th>\n",
       "      <th>STseg</th>\n",
       "      <th>Study</th>\n",
       "      <th>Session</th>\n",
       "      <th>SL</th>\n",
       "      <th>TL</th>\n",
       "      <th>Task</th>\n",
       "      <th>Text</th>\n",
       "      <th>Part</th>\n",
       "      <th>SToken</th>\n",
       "      <th>...</th>\n",
       "      <th>HSeg</th>\n",
       "      <th>HCross</th>\n",
       "      <th>STlen</th>\n",
       "      <th>OrthoSimEntropy</th>\n",
       "      <th>OrthoSimSalience</th>\n",
       "      <th>OrthoEntropySalience</th>\n",
       "      <th>logDur</th>\n",
       "      <th>orthoSimSize</th>\n",
       "      <th>orthoSimSize_N</th>\n",
       "      <th>OrthoSim</th>\n",
       "    </tr>\n",
       "  </thead>\n",
       "  <tbody>\n",
       "    <tr>\n",
       "      <th>0</th>\n",
       "      <td>1</td>\n",
       "      <td>1</td>\n",
       "      <td>PARA19</td>\n",
       "      <td>P01_C1</td>\n",
       "      <td>en</td>\n",
       "      <td>en</td>\n",
       "      <td>C</td>\n",
       "      <td>1</td>\n",
       "      <td>P01</td>\n",
       "      <td>Killer</td>\n",
       "      <td>...</td>\n",
       "      <td>1.2389</td>\n",
       "      <td>1.8920</td>\n",
       "      <td>6</td>\n",
       "      <td>0.913315</td>\n",
       "      <td>18.341656</td>\n",
       "      <td>16.751713</td>\n",
       "      <td>8.339979</td>\n",
       "      <td>12</td>\n",
       "      <td>12</td>\n",
       "      <td>0.913315</td>\n",
       "    </tr>\n",
       "    <tr>\n",
       "      <th>1</th>\n",
       "      <td>2</td>\n",
       "      <td>1</td>\n",
       "      <td>PARA19</td>\n",
       "      <td>P01_C1</td>\n",
       "      <td>en</td>\n",
       "      <td>en</td>\n",
       "      <td>C</td>\n",
       "      <td>1</td>\n",
       "      <td>P01</td>\n",
       "      <td>nurse</td>\n",
       "      <td>...</td>\n",
       "      <td>0.7793</td>\n",
       "      <td>1.8230</td>\n",
       "      <td>5</td>\n",
       "      <td>1.201237</td>\n",
       "      <td>4.639932</td>\n",
       "      <td>5.573658</td>\n",
       "      <td>6.997596</td>\n",
       "      <td>7</td>\n",
       "      <td>7</td>\n",
       "      <td>1.201237</td>\n",
       "    </tr>\n",
       "    <tr>\n",
       "      <th>2</th>\n",
       "      <td>3</td>\n",
       "      <td>1</td>\n",
       "      <td>PARA19</td>\n",
       "      <td>P01_C1</td>\n",
       "      <td>en</td>\n",
       "      <td>en</td>\n",
       "      <td>C</td>\n",
       "      <td>1</td>\n",
       "      <td>P01</td>\n",
       "      <td>receives</td>\n",
       "      <td>...</td>\n",
       "      <td>1.1401</td>\n",
       "      <td>1.8230</td>\n",
       "      <td>8</td>\n",
       "      <td>0.938670</td>\n",
       "      <td>4.857581</td>\n",
       "      <td>4.559664</td>\n",
       "      <td>7.440147</td>\n",
       "      <td>5</td>\n",
       "      <td>5</td>\n",
       "      <td>0.938670</td>\n",
       "    </tr>\n",
       "    <tr>\n",
       "      <th>3</th>\n",
       "      <td>4</td>\n",
       "      <td>1</td>\n",
       "      <td>PARA19</td>\n",
       "      <td>P01_C1</td>\n",
       "      <td>en</td>\n",
       "      <td>en</td>\n",
       "      <td>C</td>\n",
       "      <td>1</td>\n",
       "      <td>P01</td>\n",
       "      <td>four</td>\n",
       "      <td>...</td>\n",
       "      <td>0.7793</td>\n",
       "      <td>1.4885</td>\n",
       "      <td>4</td>\n",
       "      <td>0.764883</td>\n",
       "      <td>11.086801</td>\n",
       "      <td>8.480101</td>\n",
       "      <td>7.393263</td>\n",
       "      <td>17</td>\n",
       "      <td>17</td>\n",
       "      <td>0.764883</td>\n",
       "    </tr>\n",
       "    <tr>\n",
       "      <th>4</th>\n",
       "      <td>5</td>\n",
       "      <td>1</td>\n",
       "      <td>PARA19</td>\n",
       "      <td>P01_C1</td>\n",
       "      <td>en</td>\n",
       "      <td>en</td>\n",
       "      <td>C</td>\n",
       "      <td>1</td>\n",
       "      <td>P01</td>\n",
       "      <td>life</td>\n",
       "      <td>...</td>\n",
       "      <td>0.8905</td>\n",
       "      <td>0.8905</td>\n",
       "      <td>4</td>\n",
       "      <td>1.131293</td>\n",
       "      <td>10.436465</td>\n",
       "      <td>11.806704</td>\n",
       "      <td>6.756932</td>\n",
       "      <td>18</td>\n",
       "      <td>18</td>\n",
       "      <td>1.131293</td>\n",
       "    </tr>\n",
       "  </tbody>\n",
       "</table>\n",
       "<p>5 rows × 74 columns</p>\n",
       "</div>"
      ],
      "text/plain": [
       "   Id  STseg   Study Session  SL  TL Task  Text Part    SToken    ...     \\\n",
       "0   1      1  PARA19  P01_C1  en  en    C     1  P01    Killer    ...      \n",
       "1   2      1  PARA19  P01_C1  en  en    C     1  P01     nurse    ...      \n",
       "2   3      1  PARA19  P01_C1  en  en    C     1  P01  receives    ...      \n",
       "3   4      1  PARA19  P01_C1  en  en    C     1  P01      four    ...      \n",
       "4   5      1  PARA19  P01_C1  en  en    C     1  P01      life    ...      \n",
       "\n",
       "     HSeg  HCross  STlen  OrthoSimEntropy  OrthoSimSalience  \\\n",
       "0  1.2389  1.8920      6         0.913315         18.341656   \n",
       "1  0.7793  1.8230      5         1.201237          4.639932   \n",
       "2  1.1401  1.8230      8         0.938670          4.857581   \n",
       "3  0.7793  1.4885      4         0.764883         11.086801   \n",
       "4  0.8905  0.8905      4         1.131293         10.436465   \n",
       "\n",
       "  OrthoEntropySalience    logDur orthoSimSize orthoSimSize_N  OrthoSim  \n",
       "0            16.751713  8.339979           12             12  0.913315  \n",
       "1             5.573658  6.997596            7              7  1.201237  \n",
       "2             4.559664  7.440147            5              5  0.938670  \n",
       "3             8.480101  7.393263           17             17  0.764883  \n",
       "4            11.806704  6.756932           18             18  1.131293  \n",
       "\n",
       "[5 rows x 74 columns]"
      ]
     },
     "execution_count": 345,
     "metadata": {},
     "output_type": "execute_result"
    }
   ],
   "source": [
    "cs19.head()"
   ]
  },
  {
   "cell_type": "code",
   "execution_count": 256,
   "metadata": {
    "scrolled": true
   },
   "outputs": [
    {
     "name": "stdout",
     "output_type": "stream",
     "text": [
      "Total words: 333261\tMax freq: 6054522\t Min freq: 0\n",
      "Max freq word: the\n"
     ]
    }
   ],
   "source": [
    "num_words = 0\n",
    "max_freq = 0\n",
    "min_freq = 0\n",
    "max_freq_word = ''\n",
    "for key in len_words_dic.keys():\n",
    "    len_map = len_words_dic[key]\n",
    "    keys = len_map.keys()\n",
    "    num_words += len(keys)\n",
    "    for k in keys:\n",
    "        #max_freq = max(max_freq, len_map[k])\n",
    "        if len_map[k] > max_freq:\n",
    "            max_freq_word = k\n",
    "            max_freq = len_map[k]\n",
    "        min_freq = min(min_freq, len_map[k])\n",
    "        \n",
    "print(f\"Total words: {num_words}\\tMax freq: {max_freq}\\t Min freq: {min_freq}\")\n",
    "print(f\"Max freq word: {max_freq_word}\")"
   ]
  },
  {
   "cell_type": "code",
   "execution_count": 350,
   "metadata": {},
   "outputs": [],
   "source": [
    "sorted_bnc_freq_dic = sorted(bnc_freq_dic.items(), key=lambda x: x[1], reverse=True)"
   ]
  },
  {
   "cell_type": "code",
   "execution_count": 357,
   "metadata": {},
   "outputs": [],
   "source": [
    "n=5000\n",
    "i=0\n",
    "top_500_freq = []\n",
    "for item in sorted_bnc_freq_dic:\n",
    "    if i < n:\n",
    "        if item[0].isalpha():\n",
    "            top_500_freq.append(item)\n",
    "            i+=1"
   ]
  },
  {
   "cell_type": "code",
   "execution_count": 362,
   "metadata": {},
   "outputs": [],
   "source": [
    "import json"
   ]
  },
  {
   "cell_type": "code",
   "execution_count": 367,
   "metadata": {},
   "outputs": [],
   "source": [
    "top_5000_words_dic = {a[0]:a[1] for a in top_500_freq}\n",
    "top_5000_words_json = json.dumps(top_5000_words_dic)\n",
    "f = open('top_5000_freq_eng_words.txt','w')\n",
    "f.write(top_5000_words_json)\n",
    "f.close()"
   ]
  },
  {
   "cell_type": "code",
   "execution_count": null,
   "metadata": {},
   "outputs": [],
   "source": []
  }
 ],
 "metadata": {
  "kernelspec": {
   "display_name": "Python 3",
   "language": "python",
   "name": "python3"
  },
  "language_info": {
   "codemirror_mode": {
    "name": "ipython",
    "version": 3
   },
   "file_extension": ".py",
   "mimetype": "text/x-python",
   "name": "python",
   "nbconvert_exporter": "python",
   "pygments_lexer": "ipython3",
   "version": "3.6.8"
  }
 },
 "nbformat": 4,
 "nbformat_minor": 2
}
