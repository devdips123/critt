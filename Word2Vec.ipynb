{
 "cells": [
  {
   "cell_type": "markdown",
   "metadata": {},
   "source": [
    "### Word2Vec\n"
   ]
  },
  {
   "cell_type": "markdown",
   "metadata": {},
   "source": [
    "- Word2Vec is a 2-layer neural network that processes text. Its input is a text corpus and output is a set of vectors.\n",
    "\n",
    "- Input layer, neural layer(300 neurons recommended by Google), output layer\n",
    "- Vocabulary size = V, No. of Neurons = N. Input weight matrix(W) = N\\*V. Output weight Matrix(W') = V\\*N \n",
    "- Input Layer\n",
    " - Each vector represented as 1 hot encoding vector(u). i.e. all entries in the vector are 0 except one entry(k) against that word is 1\n",
    " - Random weights are assigned to W at the start of the training.\n",
    " - The $k^{th}$ row of the W represents the word-embedding vector for that word\n",
    " \n",
    "- Neural Layer\n",
    " - No activation function is used in Neural Layer\n",
    " - Number of Neurons = N\n",
    " \n",
    "- Output Layer\n",
    " - We represent the output vector as v\n",
    " - Output weight matrix is $VXN$\n",
    " - Softmax Activation function is used at output layer.\n",
    " - Softmax converts the Output vector to a probability distribution. The sum of all the V entries of the output vector = 1\n",
    " - Error is calculated by subtracting output vector from input vector $ \\vec{v} - \\vec{u} $\n",
    " - Error is propagated and weights W and W' are adjusted by Back Propagation algorithm\n",
    " \n",
    "- After the training is complete the input weight matrix(W) is saved as the trained model. Each row of the matrix represents one *N-dim word-embeddings* of the V input words.\n",
    "   \n",
    "\n",
    "- Word2Vec vectorizes words and by doing so it makes Natural Language computer readeable. We can start to perform powerful mathematical operations on words to detect their similarities.\n",
    "\n",
    "- Word2vec is a method of computing vector representations of words introduced by a team of researchers at Google led by Tomas Mikolov. Google hosts an open-source version of Word2vec released under an Apache 2.0 license\n",
    "\n",
    "- Word2Vec works under the principle that words are just discrete states and we are looking for simply transitional probabilities between those states: the likelyhood that they will co-occur\n",
    "\n",
    "- The purpose and usefulness of Word2vec is to group the vectors of similar words together in vectorspace. That way it can detect similarity mathematically. It makes use of word features - like the context of the word (other words surrounding a word)\n",
    "\n",
    "- Given enough data, usage and contexts, Word2vec can make highly accurate guesses about a word’s meaning based on past appearances. Those guesses can be used to establish a word’s association with other words (e.g. “man” is to “boy” what “woman” is to “girl”), or cluster documents and classify them by topic\n",
    "\n",
    "- The output of the Word2vec neural net is a vocabulary in which each item has a vector attached to it, which can be fed into a deep-learning net or simply queried to detect relationships between words.\n",
    "\n"
   ]
  },
  {
   "cell_type": "markdown",
   "metadata": {},
   "source": [
    "### Working of Word2Vec\n",
    "\n",
    "- Word2Vec encodes each word as a vector and then trains the word against other words that neighbours them in the input corpus\n",
    "- It does so by one of the two ways\n",
    " - Continuous Bag of Words (CBOW): It uses a context to predict a single word between them.\n",
    " - Skip Gram: It uses one word, to predict a context surrounding that word\n",
    " \n",
    "- It has been observed Skip-Gram provides more accurate results when trained with a large input corpus\n",
    "\n",
    "### Cosine Similarity\n",
    "\n",
    "- Cosine Similarity is used to compute the similarity between 2 vectors.\n",
    "- Value of Cosine varies between [-1, 1]"
   ]
  },
  {
   "cell_type": "markdown",
   "metadata": {},
   "source": [
    "### Word Embeddings\n",
    "\n",
    "- The vectors we use to represent words are called *Neural Word Embeddings*"
   ]
  },
  {
   "cell_type": "markdown",
   "metadata": {},
   "source": [
    "## Import Gensim library for Word2Vec"
   ]
  },
  {
   "cell_type": "code",
   "execution_count": 24,
   "metadata": {},
   "outputs": [],
   "source": [
    "import gensim \n",
    "from gensim.models import Word2Vec \n",
    "from nltk import word_tokenize, sent_tokenize"
   ]
  },
  {
   "cell_type": "markdown",
   "metadata": {},
   "source": [
    "### Load pre-trained Glove Models"
   ]
  },
  {
   "cell_type": "code",
   "execution_count": null,
   "metadata": {},
   "outputs": [],
   "source": [
    "# Import gensim libraries\n",
    "from gensim.models import KeyedVectors"
   ]
  },
  {
   "cell_type": "code",
   "execution_count": null,
   "metadata": {},
   "outputs": [],
   "source": [
    "# Import pre-trained Glove Word2Vec file\n",
    "filename = '/data/critt/shared/Spring19/w2v/glove/glove.6B.200d.word2vec.txt'\n",
    "# Load the model\n",
    "modelGV = KeyedVectors.load_word2vec_format(filename, binary=False)"
   ]
  },
  {
   "cell_type": "markdown",
   "metadata": {},
   "source": [
    "### Train using BNC segments"
   ]
  },
  {
   "cell_type": "code",
   "execution_count": 140,
   "metadata": {},
   "outputs": [],
   "source": [
    "class MySentences(object):\n",
    "    \n",
    "    def __init__(self, dirname):\n",
    "        self.dirname = dirname\n",
    " \n",
    "    def __iter__(self):\n",
    "        #ml = [\"q\",\"m\",\"t\"]\n",
    "        for line in open('/data/critt/shared/Spring19/lemmaLexicon/BNC.seg'):\n",
    "            #print(line)\n",
    "            yield word_tokenize(line)\n",
    " "
   ]
  },
  {
   "cell_type": "code",
   "execution_count": 141,
   "metadata": {},
   "outputs": [],
   "source": [
    "sent = MySentences('/data/critt/shared/Spring19/lemmaLexicon/BNC.seg')\n",
    "#sent"
   ]
  },
  {
   "cell_type": "code",
   "execution_count": 149,
   "metadata": {},
   "outputs": [
    {
     "name": "stdout",
     "output_type": "stream",
     "text": [
      "['FACTSHEET', 'WHAT', 'IS', 'AIDS', '?']\n",
      "['AIDS', '(', 'Acquired', 'Immune', 'Deficiency', 'Syndrome', ')', 'is', 'a', 'condition', 'caused', 'by', 'a', 'virus', 'called', 'HIV', '(', 'Human', 'Immuno', 'Deficiency', 'Virus', ')', '.']\n",
      "['This', 'virus', 'affects', 'the', 'body', \"'s\", 'defence', 'system', 'so', 'that', 'it', 'can', 'not', 'fight', 'infection', '.']\n",
      "['How', 'is', 'infection', 'transmitted', '?']\n",
      "['through', 'unprotected', 'sexual', 'intercourse', 'with', 'an', 'infected', 'partner', '.']\n",
      "['through', 'infected', 'blood', 'or', 'blood', 'products', '.']\n",
      "['from', 'an', 'infected', 'mother', 'to', 'her', 'baby', '.']\n"
     ]
    }
   ],
   "source": [
    "i=0\n",
    "for s in sent:\n",
    "    i+=1\n",
    "    if i < 8:\n",
    "        print(s)\n",
    "    else:    \n",
    "        break"
   ]
  },
  {
   "cell_type": "code",
   "execution_count": 92,
   "metadata": {},
   "outputs": [
    {
     "name": "stdout",
     "output_type": "stream",
     "text": [
      " FACTSHEET WHAT IS AIDS ? \n",
      "\n",
      "AIDS ( Acquired Immune Deficiency Syndrome ) is a condition caused by a virus called HIV ( Human Immuno Deficiency Virus ) . \n",
      "\n",
      "This virus affects the body 's defence system so that it can not fight infection . \n",
      "\n",
      "How is infection transmitted ? \n",
      "\n",
      "through unprotected sexual intercourse with an infected partner . \n",
      "\n"
     ]
    }
   ],
   "source": [
    "i = 0 \n",
    "for line in open('/data/critt/shared/Spring19/lemmaLexicon/BNC.seg','r').readlines():\n",
    "    if i < 5:\n",
    "        print(line)\n",
    "        i+=1"
   ]
  },
  {
   "cell_type": "code",
   "execution_count": 89,
   "metadata": {},
   "outputs": [
    {
     "data": {
      "text/plain": [
       "<__main__.MySentences at 0x7ff96e416cc0>"
      ]
     },
     "execution_count": 89,
     "metadata": {},
     "output_type": "execute_result"
    }
   ],
   "source": [
    "sent"
   ]
  },
  {
   "cell_type": "code",
   "execution_count": 25,
   "metadata": {},
   "outputs": [],
   "source": [
    "bnc = open('/data/critt/shared/Spring19/lemmaLexicon/BNC.seg','r').readlines()"
   ]
  },
  {
   "cell_type": "code",
   "execution_count": 26,
   "metadata": {},
   "outputs": [
    {
     "name": "stdout",
     "output_type": "stream",
     "text": [
      "CPU times: user 4min 50s, sys: 2.54 s, total: 4min 53s\n",
      "Wall time: 4min 53s\n"
     ]
    }
   ],
   "source": [
    "%%time\n",
    "# Train our Word2Vec on 1 million bnc segments\n",
    "articles = [word_tokenize(s) for s in sent_tokenize(' '.join(bnc[:1000000]))]"
   ]
  },
  {
   "cell_type": "code",
   "execution_count": 150,
   "metadata": {},
   "outputs": [
    {
     "name": "stdout",
     "output_type": "stream",
     "text": [
      "CPU times: user 3h 1min 35s, sys: 17.7 s, total: 3h 1min 53s\n",
      "Wall time: 2h 46min 17s\n"
     ]
    }
   ],
   "source": [
    "%%time\n",
    "model_bnc = gensim.models.Word2Vec(sent, min_count = 1, size = 100, window = 5) "
   ]
  },
  {
   "cell_type": "code",
   "execution_count": 161,
   "metadata": {},
   "outputs": [
    {
     "data": {
      "text/plain": [
       "117314327"
      ]
     },
     "execution_count": 161,
     "metadata": {},
     "output_type": "execute_result"
    }
   ],
   "source": [
    "model_bnc.corpus_total_words"
   ]
  },
  {
   "cell_type": "code",
   "execution_count": 160,
   "metadata": {},
   "outputs": [],
   "source": [
    "model_bnc.wv.save_word2vec_format('bnc_w2v.txt_binary',binary=True)"
   ]
  },
  {
   "cell_type": "code",
   "execution_count": null,
   "metadata": {},
   "outputs": [],
   "source": [
    "model_bnc.wv.save_word2vec_format('bnc_w2v.txt_binary',binary=True)"
   ]
  },
  {
   "cell_type": "code",
   "execution_count": 163,
   "metadata": {
    "scrolled": true
   },
   "outputs": [
    {
     "data": {
      "text/plain": [
       "[('seat', 0.7962860465049744),\n",
       " ('sofa', 0.7366054058074951),\n",
       " ('couch', 0.728851318359375),\n",
       " ('desk', 0.7240298390388489),\n",
       " ('armchair', 0.7151702046394348),\n",
       " ('bench', 0.7016005516052246),\n",
       " ('doorway', 0.6909934282302856),\n",
       " ('bed', 0.6848758459091187),\n",
       " ('head', 0.6763295531272888),\n",
       " ('bunk', 0.6759426593780518)]"
      ]
     },
     "execution_count": 163,
     "metadata": {},
     "output_type": "execute_result"
    }
   ],
   "source": [
    "model_bnc.wv.most_similar(positive=\"chair\")"
   ]
  },
  {
   "cell_type": "markdown",
   "metadata": {},
   "source": [
    "### Import TPR ST table"
   ]
  },
  {
   "cell_type": "code",
   "execution_count": 28,
   "metadata": {},
   "outputs": [
    {
     "data": {
      "text/plain": [
       "<module 'kent' from '/data/critt/shared/Spring19/kent.py'>"
      ]
     },
     "execution_count": 28,
     "metadata": {},
     "output_type": "execute_result"
    }
   ],
   "source": [
    "# import kent library\n",
    "import sys\n",
    "sys.path.insert(0, '/data/critt/shared/Spring19/')\n",
    "\n",
    "import kent\n",
    "import importlib\n",
    "importlib.reload(kent)"
   ]
  },
  {
   "cell_type": "code",
   "execution_count": 33,
   "metadata": {},
   "outputs": [],
   "source": [
    "# read the PARA19 study data\n",
    "STdf = kent.readTPDDBtables([\"PARA19/Tables/\"], \"*st\", path=\"/data/critt/tprdb/KENT/\")\n",
    "# All the words in SToken of STdf\n",
    "source_words = list(set(STdf['SToken'].tolist()))"
   ]
  },
  {
   "cell_type": "code",
   "execution_count": 30,
   "metadata": {},
   "outputs": [],
   "source": [
    "source_words_synonym_dic = {}\n",
    "for word in source_words:\n",
    "    if word in model_bnc.wv.vocab:\n",
    "        source_words_synonym_dic[word] = model_bnc.wv.most_similar(positive=word)\n",
    "        "
   ]
  },
  {
   "cell_type": "code",
   "execution_count": 31,
   "metadata": {},
   "outputs": [],
   "source": [
    "source_word_syn = {}\n",
    "for w in source_words_synonym_dic:\n",
    "    source_word_syn[w] = [s[0] for s in source_words_synonym_dic[w]]"
   ]
  },
  {
   "cell_type": "code",
   "execution_count": 37,
   "metadata": {},
   "outputs": [
    {
     "data": {
      "text/html": [
       "<div>\n",
       "<style scoped>\n",
       "    .dataframe tbody tr th:only-of-type {\n",
       "        vertical-align: middle;\n",
       "    }\n",
       "\n",
       "    .dataframe tbody tr th {\n",
       "        vertical-align: top;\n",
       "    }\n",
       "\n",
       "    .dataframe thead th {\n",
       "        text-align: right;\n",
       "    }\n",
       "</style>\n",
       "<table border=\"1\" class=\"dataframe\">\n",
       "  <thead>\n",
       "    <tr style=\"text-align: right;\">\n",
       "      <th></th>\n",
       "      <th>Task</th>\n",
       "      <th>SToken</th>\n",
       "    </tr>\n",
       "  </thead>\n",
       "  <tbody>\n",
       "    <tr>\n",
       "      <th>0</th>\n",
       "      <td>C</td>\n",
       "      <td>Killer</td>\n",
       "    </tr>\n",
       "    <tr>\n",
       "      <th>1</th>\n",
       "      <td>C</td>\n",
       "      <td>nurse</td>\n",
       "    </tr>\n",
       "    <tr>\n",
       "      <th>2</th>\n",
       "      <td>C</td>\n",
       "      <td>receives</td>\n",
       "    </tr>\n",
       "    <tr>\n",
       "      <th>3</th>\n",
       "      <td>C</td>\n",
       "      <td>four</td>\n",
       "    </tr>\n",
       "    <tr>\n",
       "      <th>4</th>\n",
       "      <td>C</td>\n",
       "      <td>life</td>\n",
       "    </tr>\n",
       "    <tr>\n",
       "      <th>5</th>\n",
       "      <td>C</td>\n",
       "      <td>sentences</td>\n",
       "    </tr>\n",
       "    <tr>\n",
       "      <th>6</th>\n",
       "      <td>C</td>\n",
       "      <td>Hospital</td>\n",
       "    </tr>\n",
       "    <tr>\n",
       "      <th>7</th>\n",
       "      <td>C</td>\n",
       "      <td>nurse</td>\n",
       "    </tr>\n",
       "    <tr>\n",
       "      <th>8</th>\n",
       "      <td>C</td>\n",
       "      <td>Colin</td>\n",
       "    </tr>\n",
       "    <tr>\n",
       "      <th>9</th>\n",
       "      <td>C</td>\n",
       "      <td>Norris</td>\n",
       "    </tr>\n",
       "  </tbody>\n",
       "</table>\n",
       "</div>"
      ],
      "text/plain": [
       "  Task     SToken\n",
       "0    C     Killer\n",
       "1    C      nurse\n",
       "2    C   receives\n",
       "3    C       four\n",
       "4    C       life\n",
       "5    C  sentences\n",
       "6    C   Hospital\n",
       "7    C      nurse\n",
       "8    C      Colin\n",
       "9    C     Norris"
      ]
     },
     "execution_count": 37,
     "metadata": {},
     "output_type": "execute_result"
    }
   ],
   "source": [
    "STdf[:10][['Task','SToken']]"
   ]
  },
  {
   "cell_type": "code",
   "execution_count": null,
   "metadata": {},
   "outputs": [],
   "source": []
  },
  {
   "cell_type": "code",
   "execution_count": 43,
   "metadata": {
    "scrolled": true
   },
   "outputs": [
    {
     "name": "stdout",
     "output_type": "stream",
     "text": [
      "Killer: ['Ninja', 'avellana', 'Ads', 'Steak', 'Camera', 'Dwarf', 'Jolly', 'ORKNEY', 'Corylus', \"s'il\"]\n",
      "receives: ['pays', 'collects', 'gives', 'carries', 'delivers', 'earns', 'loses', 'received', 'offers', 'provides']\n",
      "four: ['three', 'five', 'six', 'seven', 'eight', 'two', 'ten', 'nine', 'twelve', 'fifteen']\n",
      "life: ['lifestyle', 'lives', 'childhood', 'experience', 'society', 'adolescence', 'humanity', 'enjoyment', 'consciousness', 'happiness']\n"
     ]
    }
   ],
   "source": [
    "print(f\"Killer: {source_word_syn['Killer']}\")\n",
    "print(f\"receives: {source_word_syn['receives']}\")\n",
    "print(f\"four: {source_word_syn['four']}\")\n",
    "print(f\"life: {source_word_syn['life']}\")"
   ]
  },
  {
   "cell_type": "markdown",
   "metadata": {},
   "source": [
    "#### Find Top-10 Similar words"
   ]
  },
  {
   "cell_type": "code",
   "execution_count": 45,
   "metadata": {},
   "outputs": [
    {
     "data": {
      "text/plain": [
       "[('queen', 0.6978678703308105),\n",
       " ('princess', 0.6081745028495789),\n",
       " ('monarch', 0.5889754295349121),\n",
       " ('throne', 0.5775109529495239),\n",
       " ('prince', 0.5750998258590698),\n",
       " ('elizabeth', 0.5463595986366272),\n",
       " ('daughter', 0.5399126410484314),\n",
       " ('kingdom', 0.5318052768707275),\n",
       " ('mother', 0.5168544054031372),\n",
       " ('crown', 0.5164473056793213)]"
      ]
     },
     "execution_count": 45,
     "metadata": {},
     "output_type": "execute_result"
    }
   ],
   "source": [
    "modelGV.most_similar(positive=['woman', 'king'], negative=['man'], topn=10)"
   ]
  },
  {
   "cell_type": "code",
   "execution_count": 46,
   "metadata": {},
   "outputs": [
    {
     "name": "stderr",
     "output_type": "stream",
     "text": [
      "/usr/local/lib/python3.6/site-packages/ipykernel_launcher.py:1: DeprecationWarning: Call to deprecated `most_similar` (Method will be removed in 4.0.0, use self.wv.most_similar() instead).\n",
      "  \"\"\"Entry point for launching an IPython kernel.\n"
     ]
    },
    {
     "data": {
      "text/plain": [
       "[('widow', 0.7012261748313904),\n",
       " ('deceased', 0.6782904863357544),\n",
       " ('daughter', 0.6751697063446045),\n",
       " ('queen', 0.6750183701515198),\n",
       " ('lord', 0.6652630567550659),\n",
       " ('Queen', 0.6567853093147278),\n",
       " ('bishop', 0.6557954549789429),\n",
       " ('emperor', 0.6454355716705322),\n",
       " ('King', 0.6448272466659546),\n",
       " ('son', 0.6447246074676514)]"
      ]
     },
     "execution_count": 46,
     "metadata": {},
     "output_type": "execute_result"
    }
   ],
   "source": [
    "model_bnc.most_similar(positive=['woman', 'king'], negative=['man'], topn=10)"
   ]
  },
  {
   "cell_type": "markdown",
   "metadata": {},
   "source": [
    "#### Logical Word Analogies"
   ]
  },
  {
   "cell_type": "code",
   "execution_count": null,
   "metadata": {},
   "outputs": [],
   "source": [
    "from gensim.models import Word2Vec\n",
    "from sklearn.decomposition import PCA\n",
    "from matplotlib import pyplot\n"
   ]
  },
  {
   "cell_type": "code",
   "execution_count": null,
   "metadata": {},
   "outputs": [],
   "source": [
    "def pca(words):\n",
    "    # extract smaller model \n",
    "    X = modelGV[words]\n",
    "\n",
    "    # fit a 2d PCA model to the vectors\n",
    "    pca = PCA(n_components=2)\n",
    "    result = pca.fit_transform(X)\n",
    "\n",
    "    # create a scatter plot of the projection\n",
    "    pyplot.scatter(result[:, 0], result[:, 1])\n",
    "    for i, word in enumerate(words):\n",
    "        pyplot.annotate(word, xy=(result[i, 0], result[i, 1]))\n",
    "    pyplot.show()"
   ]
  },
  {
   "cell_type": "code",
   "execution_count": 47,
   "metadata": {},
   "outputs": [
    {
     "name": "stdout",
     "output_type": "stream",
     "text": [
      "man:woman = king: ('queen', 0.6978678703308105)\n",
      "man:woman = boy: ('girl', 0.869331955909729)\n",
      "man:woman = son: ('daughter', 0.8827179670333862)\n",
      "france:paris = italy: ('rome', 0.758540689945221)\n",
      "france:paris = germany: ('berlin', 0.8416252732276917)\n"
     ]
    }
   ],
   "source": [
    "similarity_list = []\n",
    "results = []\n",
    "similarity_list.append(['woman','king','man'])\n",
    "similarity_list.append(['woman','boy','man'])\n",
    "similarity_list.append(['woman','son','man'])\n",
    "similarity_list.append(['paris','italy','france'])\n",
    "similarity_list.append(['paris','germany','france'])\n",
    "for ll in similarity_list:\n",
    "    result = modelGV.most_similar(positive=[ll[0], ll[1]], negative=[ll[2]], topn=1)\n",
    "    results.append(result[0][0])\n",
    "    print(f\"{ll[2]}:{ll[0]} = {ll[1]}: {result[0]}\")"
   ]
  },
  {
   "cell_type": "markdown",
   "metadata": {},
   "source": [
    "#### Visualization using Principal Component Analysis (PCA)"
   ]
  },
  {
   "cell_type": "code",
   "execution_count": 10,
   "metadata": {},
   "outputs": [
    {
     "data": {
      "image/png": "[encoded data removed]",
      "text/plain": [
       "<Figure size 432x288 with 1 Axes>"
      ]
     },
     "metadata": {
      "needs_background": "light"
     },
     "output_type": "display_data"
    }
   ],
   "source": [
    "words = set([w for wl in similarity_list for w in wl])\n",
    "words = words.union(set(results))\n",
    "\n",
    "# extract smaller model \n",
    "X = modelGV[words]\n",
    "\n",
    "# fit a 2d PCA model to the vectors\n",
    "pca = PCA(n_components=2)\n",
    "result = pca.fit_transform(X)\n",
    "\n",
    "# create a scatter plot of the projection\n",
    "pyplot.scatter(result[:, 0], result[:, 1])\n",
    "for i, word in enumerate(words):\n",
    "    pyplot.annotate(word, xy=(result[i, 0], result[i, 1]))\n",
    "pyplot.show()"
   ]
  },
  {
   "cell_type": "code",
   "execution_count": 13,
   "metadata": {},
   "outputs": [
    {
     "data": {
      "image/png": "[encoded data removed]",
      "text/plain": [
       "<Figure size 432x288 with 1 Axes>"
      ]
     },
     "metadata": {
      "needs_background": "light"
     },
     "output_type": "display_data"
    }
   ],
   "source": [
    "words = ['woman','girl','boy','man','king','queen','water']\n",
    "pca(words)"
   ]
  },
  {
   "cell_type": "code",
   "execution_count": 171,
   "metadata": {},
   "outputs": [
    {
     "data": {
      "text/plain": [
       "0.5244425"
      ]
     },
     "execution_count": 171,
     "metadata": {},
     "output_type": "execute_result"
    }
   ],
   "source": [
    "modelGV.similarity(\"india\",\"china\")"
   ]
  },
  {
   "cell_type": "code",
   "execution_count": 166,
   "metadata": {
    "scrolled": true
   },
   "outputs": [
    {
     "data": {
      "text/plain": [
       "[('wiesner', 0.48696455359458923),\n",
       " ('judith', 0.4730544686317444),\n",
       " ('baumann', 0.4726886749267578),\n",
       " ('beckert', 0.4449569582939148),\n",
       " ('moritz', 0.4373289942741394),\n",
       " ('gottlieb', 0.43605926632881165),\n",
       " ('walchhofer', 0.4342966675758362),\n",
       " ('steuer', 0.432207852602005),\n",
       " ('ingo', 0.42808228731155396),\n",
       " ('blane', 0.42451101541519165),\n",
       " ('sorosky', 0.4201039671897888),\n",
       " ('greis', 0.41952741146087646),\n",
       " ('stephan', 0.41931185126304626),\n",
       " ('herbst', 0.41748183965682983),\n",
       " ('winkler', 0.4173733592033386),\n",
       " ('gruber', 0.41582006216049194),\n",
       " ('kohler', 0.4149934947490692),\n",
       " ('chernuchin', 0.4118078351020813),\n",
       " ('lubet', 0.41145944595336914),\n",
       " ('uslan', 0.4111972451210022)]"
      ]
     },
     "execution_count": 166,
     "metadata": {},
     "output_type": "execute_result"
    }
   ],
   "source": [
    "modelGV.most_similar(positive=['arndt'], topn=20)"
   ]
  },
  {
   "cell_type": "code",
   "execution_count": 55,
   "metadata": {},
   "outputs": [
    {
     "data": {
      "text/plain": [
       "0.21868509"
      ]
     },
     "execution_count": 55,
     "metadata": {},
     "output_type": "execute_result"
    }
   ],
   "source": [
    "modelGV.similarity(\"sentence\", \"vocabulary\")"
   ]
  },
  {
   "cell_type": "code",
   "execution_count": null,
   "metadata": {},
   "outputs": [],
   "source": []
  }
 ],
 "metadata": {
  "kernelspec": {
   "display_name": "Python 3",
   "language": "python",
   "name": "python3"
  },
  "language_info": {
   "codemirror_mode": {
    "name": "ipython",
    "version": 3
   },
   "file_extension": ".py",
   "mimetype": "text/x-python",
   "name": "python",
   "nbconvert_exporter": "python",
   "pygments_lexer": "ipython3",
   "version": "3.6.8"
  }
 },
 "nbformat": 4,
 "nbformat_minor": 2
}
