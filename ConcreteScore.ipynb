{
 "cells": [
  {
   "cell_type": "code",
   "execution_count": 2,
   "metadata": {},
   "outputs": [],
   "source": [
    "import pandas as pd"
   ]
  },
  {
   "cell_type": "code",
   "execution_count": 3,
   "metadata": {},
   "outputs": [
    {
     "data": {
      "text/plain": [
       "<module 'kent' from '/data/critt/shared/Spring19/kent.py'>"
      ]
     },
     "execution_count": 3,
     "metadata": {},
     "output_type": "execute_result"
    }
   ],
   "source": [
    "# import kent library\n",
    "import sys\n",
    "sys.path.insert(0, '/data/critt/shared/Spring19/')\n",
    "\n",
    "import kent\n",
    "import importlib\n",
    "importlib.reload(kent)"
   ]
  },
  {
   "cell_type": "code",
   "execution_count": 4,
   "metadata": {},
   "outputs": [],
   "source": [
    "pd.set_option('display.max_columns', None)"
   ]
  },
  {
   "cell_type": "code",
   "execution_count": 35,
   "metadata": {},
   "outputs": [],
   "source": [
    "words_to_score = {}\n",
    "for id in glasgow.index:\n",
    "    score_list = {\"CNC\": 0.0, \"IMAG\": 0.0, \"FAM\": 0.0}\n",
    "    word = glasgow.at[id,'Words']\n",
    "    score_list[\"CNC\"] = glasgow.at[id,'CNC']\n",
    "    score_list[\"IMAG\"] = glasgow.at[id,'IMAG']\n",
    "    score_list[\"FAM\"] = glasgow.at[id,'FAM']\n",
    "    words_to_score[word] = score_list"
   ]
  },
  {
   "cell_type": "code",
   "execution_count": 5,
   "metadata": {},
   "outputs": [],
   "source": [
    "# Read all the tables\n",
    "stdf = kent.readTPDDBtables([\"ENJA15/Tables/\"], \"*.st\", path=\"/data/critt/tprdb/TPRDB/\")"
   ]
  },
  {
   "cell_type": "code",
   "execution_count": 6,
   "metadata": {},
   "outputs": [
    {
     "data": {
      "text/plain": [
       "(32375, 66)"
      ]
     },
     "execution_count": 6,
     "metadata": {},
     "output_type": "execute_result"
    }
   ],
   "source": [
    "stdf.shape"
   ]
  },
  {
   "cell_type": "code",
   "execution_count": 79,
   "metadata": {},
   "outputs": [],
   "source": [
    "# Read tables 1 by 1\n",
    "t1 = kent.readTPDDBtables([\"ENJA15/Tables/\"], \"P03_D1.st\", path=\"/data/critt/tprdb/TPRDB/\")\n",
    "t2 = kent.readTPDDBtables([\"ENJA15/Tables/\"], \"P03_D2.st\", path=\"/data/critt/tprdb/TPRDB/\")\n",
    "t3 = kent.readTPDDBtables([\"ENJA15/Tables/\"], \"P01_D3.st\", path=\"/data/critt/tprdb/TPRDB/\")\n",
    "t4 = kent.readTPDDBtables([\"ENJA15/Tables/\"], \"P01_D4.st\", path=\"/data/critt/tprdb/TPRDB/\")\n",
    "t5 = kent.readTPDDBtables([\"ENJA15/Tables/\"], \"P01_P5.st\", path=\"/data/critt/tprdb/TPRDB/\")\n",
    "t6 = kent.readTPDDBtables([\"ENJA15/Tables/\"], \"P01_P6.st\", path=\"/data/critt/tprdb/TPRDB/\")"
   ]
  },
  {
   "cell_type": "code",
   "execution_count": 8,
   "metadata": {},
   "outputs": [],
   "source": [
    "# Find the matching SToken Lemma in the score_dictionary\n",
    "def stokens_in_map(df,word_list):\n",
    "    stokens = df['Lemma'].tolist()\n",
    "    found = 0\n",
    "    found_list = []\n",
    "    for token in stokens:\n",
    "        if token in word_list:\n",
    "            found +=1\n",
    "            found_list.append(token)\n",
    "\n",
    "    print(f\"Total found tokens = {found} out of {len(stokens)} stokens\")\n",
    "\n",
    "    \n",
    "# score_dic = conc_score\n",
    "# col_name = \"conc_score\"\n",
    "# df = stdf\n",
    "def add_col(df, col_name, score_dic):\n",
    "    keys = list(score_dic.keys())\n",
    "    df[col_name] = 0.0\n",
    "    for id in df.index:\n",
    "        lemma = df.at[id,'Lemma'].lower()\n",
    "        if lemma in keys:\n",
    "            df.at[id, col_name] = score_dic[lemma]\n",
    "        "
   ]
  },
  {
   "cell_type": "code",
   "execution_count": null,
   "metadata": {},
   "outputs": [],
   "source": [
    "df['new_col'] = [ score_dic[df.at[id, 'Lemma'].lower()] if df.at[id, 'Lemma'].lower() in list(score_dic.keys()) else 0.0 for id in df.index]"
   ]
  },
  {
   "cell_type": "code",
   "execution_count": 100,
   "metadata": {
    "scrolled": true
   },
   "outputs": [
    {
     "name": "stdout",
     "output_type": "stream",
     "text": [
      "Total found tokens = 44 out of 160 stokens\n",
      "Total found tokens = 45 out of 153 stokens\n",
      "Total found tokens = 40 out of 146 stokens\n",
      "Total found tokens = 36 out of 110 stokens\n",
      "Total found tokens = 24 out of 139 stokens\n",
      "Total found tokens = 30 out of 139 stokens\n",
      "\n",
      "\n",
      "\n",
      "Total found tokens = 125 out of 160 stokens\n",
      "Total found tokens = 124 out of 153 stokens\n",
      "Total found tokens = 103 out of 146 stokens\n",
      "Total found tokens = 94 out of 110 stokens\n",
      "Total found tokens = 105 out of 139 stokens\n",
      "Total found tokens = 107 out of 139 stokens\n"
     ]
    }
   ],
   "source": [
    "stokens_in_map(t1,words)\n",
    "stokens_in_map(t2,words)\n",
    "stokens_in_map(t3,words)\n",
    "stokens_in_map(t4,words)\n",
    "stokens_in_map(t5,words)\n",
    "stokens_in_map(t6,words)\n",
    "\n",
    "print(\"\\n\\n\")\n",
    "stokens_in_map(t1,concrete_words)\n",
    "stokens_in_map(t2,concrete_words)\n",
    "stokens_in_map(t3,concrete_words)\n",
    "stokens_in_map(t4,concrete_words)\n",
    "stokens_in_map(t5,concrete_words)\n",
    "stokens_in_map(t6,concrete_words)"
   ]
  },
  {
   "cell_type": "code",
   "execution_count": null,
   "metadata": {},
   "outputs": [],
   "source": [
    "add_col(t1, \"conc_score\", conc_score)\n",
    "add_col(t2, \"conc_score\", conc_score)\n",
    "add_col(t3, \"conc_score\", conc_score)\n",
    "add_col(t4, \"conc_score\", conc_score)\n",
    "add_col(t5, \"conc_score\", conc_score)\n",
    "add_col(t6, \"conc_score\", conc_score)"
   ]
  },
  {
   "cell_type": "code",
   "execution_count": null,
   "metadata": {},
   "outputs": [],
   "source": [
    "# Read the ConcretenessRatings.csv\n",
    "concrate = pd.read_csv('./shared/ConcretenessRatings.csv')"
   ]
  },
  {
   "cell_type": "code",
   "execution_count": null,
   "metadata": {},
   "outputs": [],
   "source": [
    "# Create a dictionary of word:score\n",
    "conc_score = {}\n",
    "for id in concrate.index:\n",
    "    word = concrate.at[id,'Word']\n",
    "    score = concrate.at[id,'Conc']\n",
    "    conc_score[word] = score"
   ]
  },
  {
   "cell_type": "code",
   "execution_count": 110,
   "metadata": {},
   "outputs": [],
   "source": [
    "# Add new column conc_score to the STdf\n",
    "add_col(stdf, \"conc_score\", conc_score)"
   ]
  },
  {
   "cell_type": "code",
   "execution_count": null,
   "metadata": {},
   "outputs": [],
   "source": [
    "# Save the file\n",
    "stdf.to_csv('shared/STdf_ENJA_conc_scores.csv')"
   ]
  }
 ],
 "metadata": {
  "kernelspec": {
   "display_name": "Python 3",
   "language": "python",
   "name": "python3"
  },
  "language_info": {
   "codemirror_mode": {
    "name": "ipython",
    "version": 3
   },
   "file_extension": ".py",
   "mimetype": "text/x-python",
   "name": "python",
   "nbconvert_exporter": "python",
   "pygments_lexer": "ipython3",
   "version": "3.6.8"
  }
 },
 "nbformat": 4,
 "nbformat_minor": 2
}
