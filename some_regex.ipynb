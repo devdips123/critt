{
 "cells": [
  {
   "cell_type": "code",
   "execution_count": 1,
   "metadata": {},
   "outputs": [],
   "source": [
    "from itertools import combinations"
   ]
  },
  {
   "cell_type": "code",
   "execution_count": 5,
   "metadata": {},
   "outputs": [],
   "source": [
    "pat = ['ab','bc']"
   ]
  },
  {
   "cell_type": "code",
   "execution_count": 13,
   "metadata": {},
   "outputs": [],
   "source": [
    "ss = [list(combinations(pat, i)) for i in range(len(pat) + 1)]"
   ]
  },
  {
   "cell_type": "code",
   "execution_count": 15,
   "metadata": {},
   "outputs": [
    {
     "data": {
      "text/plain": [
       "[[[]], [['ab'], ['bc']], [['ab', 'bc']]]"
      ]
     },
     "execution_count": 15,
     "metadata": {},
     "output_type": "execute_result"
    }
   ],
   "source": [
    "[list(map(list, combinations(pat, i))) for i in range(len(pat) + 1)]"
   ]
  },
  {
   "cell_type": "code",
   "execution_count": 14,
   "metadata": {},
   "outputs": [
    {
     "data": {
      "text/plain": [
       "[[()], [('ab',), ('bc',)], [('ab', 'bc')]]"
      ]
     },
     "execution_count": 14,
     "metadata": {},
     "output_type": "execute_result"
    }
   ],
   "source": [
    "ss"
   ]
  },
  {
   "cell_type": "code",
   "execution_count": 12,
   "metadata": {},
   "outputs": [
    {
     "data": {
      "text/plain": [
       "[(4, 3), (4, 2), (3, 2)]"
      ]
     },
     "execution_count": 12,
     "metadata": {},
     "output_type": "execute_result"
    }
   ],
   "source": [
    "list(combinations([4,3,2],2))"
   ]
  },
  {
   "cell_type": "code",
   "execution_count": 16,
   "metadata": {},
   "outputs": [],
   "source": [
    "import csv"
   ]
  },
  {
   "cell_type": "code",
   "execution_count": 17,
   "metadata": {},
   "outputs": [],
   "source": [
    "from collections import defaultdict"
   ]
  },
  {
   "cell_type": "code",
   "execution_count": 18,
   "metadata": {},
   "outputs": [
    {
     "ename": "TypeError",
     "evalue": "first argument must be callable or None",
     "output_type": "error",
     "traceback": [
      "\u001b[0;31m---------------------------------------------------------------------------\u001b[0m",
      "\u001b[0;31mTypeError\u001b[0m                                 Traceback (most recent call last)",
      "\u001b[0;32m<ipython-input-18-d6cd1e4646ed>\u001b[0m in \u001b[0;36m<module>\u001b[0;34m\u001b[0m\n\u001b[0;32m----> 1\u001b[0;31m \u001b[0mxx\u001b[0m \u001b[0;34m=\u001b[0m \u001b[0mdefaultdict\u001b[0m\u001b[0;34m(\u001b[0m\u001b[0;34m{\u001b[0m\u001b[0;36m1\u001b[0m\u001b[0;34m:\u001b[0m\u001b[0;36m1\u001b[0m\u001b[0;34m,\u001b[0m\u001b[0;36m2\u001b[0m\u001b[0;34m:\u001b[0m\u001b[0;36m2\u001b[0m\u001b[0;34m}\u001b[0m\u001b[0;34m)\u001b[0m\u001b[0;34m\u001b[0m\u001b[0;34m\u001b[0m\u001b[0m\n\u001b[0m",
      "\u001b[0;31mTypeError\u001b[0m: first argument must be callable or None"
     ]
    }
   ],
   "source": [
    "xx = defaultdict({1:1,2:2})"
   ]
  },
  {
   "cell_type": "code",
   "execution_count": 19,
   "metadata": {},
   "outputs": [],
   "source": [
    "import re"
   ]
  },
  {
   "cell_type": "code",
   "execution_count": 50,
   "metadata": {},
   "outputs": [],
   "source": [
    "text = '<source><cf font=Georgia color=121212 size=12>Come for the </cf><hyperlink value=\"https://www.theguardian.com/world/2019/may/28/uk-and-territories-are-greatest-enabler-of-tax-avoidance-study-says\">tax avoidance</hyperlink><cf font=Georgia color=121212 size=12>, stay for the turtles.</cf></source>'"
   ]
  },
  {
   "cell_type": "code",
   "execution_count": 48,
   "metadata": {},
   "outputs": [],
   "source": [
    "text = '<cf font=Georgia color=121212 size=12>Having already had his headline announcement of 40 new hospitals </cf><hyperlink value=\"https://www.theguardian.com/society/2019/sep/29/from-40-hospitals-to-six-tories-nhs-numbers-dont-add-up\">knocked back</hyperlink><cf font=Georgia color=121212 size=12> to six partial refurbs, Matt Hancock, who never knowingly commits himself to a position that can’t be reversed, made the </cf><hyperlink value=\"https://www.theguardian.com/politics/2019/sep/29/no-10-denies-claims-boris-johnson-squeezed-thigh-journalist-charlotte-edwardes\">schoolboy error</hyperlink><cf font=Georgia color=121212 size=12> of saying he believed Charlotte Edwardes, the journalist who made the groping allegations against the prime minister.</cf>'"
   ]
  },
  {
   "cell_type": "code",
   "execution_count": 101,
   "metadata": {},
   "outputs": [],
   "source": [
    "txt = '<cf font=Georgia color=121212 size=12>Matt Hancock, </cf><cf font=Georgia color=121212 size=12>che non prende mai consapevolmente una posizione che non può essere invertita, <cf font=Georgia color=121212 size=12>dopo aver visto il suo grande annuncio di 40 nuovi ospedali </cf><hyperlink value=\"https://www.theguardian.com/society/2019/sep/29/from-40-hospitals-to-six-tories-nhs-numbers-dont-add-up\">ridursi</hyperlink><cf font=Georgia color=121212 size=12> a sei modeste ristrutturazioni parziali, </cf>ha fatto il </cf><hyperlink value=\"https://www.theguardian.com/politics/2019/sep/29/no-10-denies-claims-boris-johnson-squeezed-thigh-journalist-charlotte-edwardes\">grossolano errore</hyperlink><cf font=Georgia color=121212 size=12> di dire che credeva a Charlotte Edwardes, la giornalista che aveva accusato il primo ministro di palpeggiamento.</cf>'"
   ]
  },
  {
   "cell_type": "code",
   "execution_count": 82,
   "metadata": {},
   "outputs": [
    {
     "data": {
      "text/plain": [
       "853"
      ]
     },
     "execution_count": 82,
     "metadata": {},
     "output_type": "execute_result"
    }
   ],
   "source": [
    "len(txt)"
   ]
  },
  {
   "cell_type": "code",
   "execution_count": null,
   "metadata": {},
   "outputs": [],
   "source": [
    "r'<(\\w+)\\s+.+?>(.*?)</\\1>'"
   ]
  },
  {
   "cell_type": "code",
   "execution_count": 89,
   "metadata": {},
   "outputs": [],
   "source": [
    "def removeHTMLTags_temp(text):\n",
    "    while(re.findall(r'<(\\w+)\\s+.+?>(.*?)</\\1>', text)):\n",
    "        text = re.sub(r'<cf.+?>(.*?)</cf>',u'\\\\1',text)\n",
    "        text = re.sub(r'<hyperlink.+?>(.*?)</hyperlink>',u'\\\\1',text)\n",
    "        text = re.sub(r'\\xa0',' ',text)\n",
    "    return text\n",
    "\n",
    "def removeHTMLtags(text, debug=False):\n",
    "    count = 0\n",
    "    while(re.findall(r'<(\\w+)\\s*.*?>(.*?)</\\1>', text)):\n",
    "        count +=1\n",
    "        if debug:\n",
    "            print(f\"[DEBUG] Iteration: {count}\")\n",
    "        text = re.sub(r'<(\\w+)\\s*.*?>(.*?)</\\1>', '\\\\2', text)\n",
    "        text = re.sub(r'\\xa0',' ',text)\n",
    "    if not count:\n",
    "        print(\"[INFO] No html tags found\")\n",
    "    return text"
   ]
  },
  {
   "cell_type": "code",
   "execution_count": 104,
   "metadata": {},
   "outputs": [],
   "source": [
    "err = '<sdlXliffCompareMarkupTag></sdlXliffCompareMarkupTag>avendo già visto il suo grande annuncio di 40 nuovi ospedali <sdlXliffCompareMarkupTag></sdlXliffCompareMarkupTag><sdlXliffCompareMarkupTag></sdlXliffCompareMarkupTag>ridursi<sdlXliffCompareMarkupTag></sdlXliffCompareMarkupTag><sdlXliffCompareMarkupTag></sdlXliffCompareMarkupTag> a sei parziali ristrutturazioni, <sdlXliffCompareMarkupTag></sdlXliffCompareMarkupTag>'"
   ]
  },
  {
   "cell_type": "code",
   "execution_count": 95,
   "metadata": {},
   "outputs": [],
   "source": [
    "err = 'avendo già visto il suo grande annuncio di 40 nuovi ospedali <sdlXliffCompareMarkupTag></cf></sdlXliffCompareMarkupTag><sdlXliffCompareMarkupTag></sdlXliffCompareMarkupTag>ridursi<sdlXliffCompareMarkupTag></sdlXliffCompareMarkupTag><sdlXliffCompareMarkupTag><cf font=Georgia color=121212 size=12></sdlXliffCompareMarkupTag> a sei parziali ristrutturazioni, '"
   ]
  },
  {
   "cell_type": "code",
   "execution_count": 98,
   "metadata": {},
   "outputs": [
    {
     "data": {
      "text/plain": [
       "['<cf font=Georgia color=121212 size=12>',\n",
       " '</cf>',\n",
       " '<cf font=Georgia color=121212 size=12>',\n",
       " '<cf font=Georgia color=121212 size=12>',\n",
       " '</cf>',\n",
       " '<hyperlink value=\"https://www.theguardian.com/society/2019/sep/29/from-40-hospitals-to-six-tories-nhs-numbers-dont-add-up\">',\n",
       " '</hyperlink>',\n",
       " '<cf font=Georgia color=121212 size=12>',\n",
       " '</cf>',\n",
       " '</cf>',\n",
       " '<hyperlink value=\"https://www.theguardian.com/politics/2019/sep/29/no-10-denies-claims-boris-johnson-squeezed-thigh-journalist-charlotte-edwardes\">',\n",
       " '</hyperlink>',\n",
       " '<cf font=Georgia color=121212 size=12>',\n",
       " '</cf>']"
      ]
     },
     "execution_count": 98,
     "metadata": {},
     "output_type": "execute_result"
    }
   ],
   "source": [
    "re.findall(r'</?.*?>', txt)"
   ]
  },
  {
   "cell_type": "code",
   "execution_count": 105,
   "metadata": {},
   "outputs": [
    {
     "data": {
      "text/plain": [
       "'avendo già visto il suo grande annuncio di 40 nuovi ospedali ridursi a sei parziali ristrutturazioni, '"
      ]
     },
     "execution_count": 105,
     "metadata": {},
     "output_type": "execute_result"
    }
   ],
   "source": [
    "re.sub(r'</?.*?>', '',err)"
   ]
  },
  {
   "cell_type": "code",
   "execution_count": 88,
   "metadata": {
    "scrolled": true
   },
   "outputs": [
    {
     "data": {
      "text/plain": [
       "[('sdlXliffCompareMarkupTag', ''),\n",
       " ('sdlXliffCompareMarkupTag', ''),\n",
       " ('sdlXliffCompareMarkupTag', ''),\n",
       " ('sdlXliffCompareMarkupTag', ''),\n",
       " ('sdlXliffCompareMarkupTag', ''),\n",
       " ('sdlXliffCompareMarkupTag', '')]"
      ]
     },
     "execution_count": 88,
     "metadata": {},
     "output_type": "execute_result"
    }
   ],
   "source": [
    "re.findall(r'<(\\w+)\\s*.*?>(.*?)</\\1>', err)"
   ]
  },
  {
   "cell_type": "code",
   "execution_count": 96,
   "metadata": {},
   "outputs": [
    {
     "data": {
      "text/plain": [
       "'avendo già visto il suo grande annuncio di 40 nuovi ospedali </cf>ridursi<cf font=Georgia color=121212 size=12> a sei parziali ristrutturazioni, '"
      ]
     },
     "execution_count": 96,
     "metadata": {},
     "output_type": "execute_result"
    }
   ],
   "source": [
    "removeHTMLtags(err)"
   ]
  },
  {
   "cell_type": "code",
   "execution_count": 84,
   "metadata": {},
   "outputs": [
    {
     "data": {
      "text/plain": [
       "344"
      ]
     },
     "execution_count": 84,
     "metadata": {},
     "output_type": "execute_result"
    }
   ],
   "source": [
    "len(tt)"
   ]
  },
  {
   "cell_type": "code",
   "execution_count": 85,
   "metadata": {},
   "outputs": [
    {
     "data": {
      "text/plain": [
       "'Matt Hancock, che non prende mai consapevolmente una posizione che non può essere invertita, dopo aver visto il suo grande annuncio di 40 nuovi ospedali ridursi a sei modeste ristrutturazioni parziali, ha fatto il grossolano errore di dire che credeva a Charlotte Edwardes, la giornalista che aveva accusato il primo ministro di palpeggiamento.'"
      ]
     },
     "execution_count": 85,
     "metadata": {},
     "output_type": "execute_result"
    }
   ],
   "source": [
    "tt"
   ]
  },
  {
   "cell_type": "code",
   "execution_count": 71,
   "metadata": {},
   "outputs": [
    {
     "data": {
      "text/plain": [
       "'Matt Hancock, che non prende mai consapevolmente una posizione che non può essere invertita, dopo aver visto il suo grande annuncio di 40 nuovi ospedali ridursi a sei modeste ristrutturazioni parziali, ha fatto il grossolano errore di dire che credeva a Charlotte Edwardes, la giornalista che aveva accusato il primo ministro di palpeggiamento.'"
      ]
     },
     "execution_count": 71,
     "metadata": {},
     "output_type": "execute_result"
    }
   ],
   "source": [
    "removeHTMLtags(xx)"
   ]
  },
  {
   "cell_type": "code",
   "execution_count": 66,
   "metadata": {},
   "outputs": [
    {
     "data": {
      "text/plain": [
       "'Matt Hancock, che non prende mai consapevolmente una posizione che non può essere invertita, <cf font=Georgia color=121212 size=12>dopo aver visto il suo grande annuncio di 40 nuovi ospedali ridursi a sei modeste ristrutturazioni parziali, ha fatto il </cf>grossolano errore di dire che credeva a Charlotte Edwardes, la giornalista che aveva accusato il primo ministro di palpeggiamento.'"
      ]
     },
     "execution_count": 66,
     "metadata": {},
     "output_type": "execute_result"
    }
   ],
   "source": [
    "removeHTMLTags_temp(text)"
   ]
  }
 ],
 "metadata": {
  "kernelspec": {
   "display_name": "Python 3",
   "language": "python",
   "name": "python3"
  },
  "language_info": {
   "codemirror_mode": {
    "name": "ipython",
    "version": 3
   },
   "file_extension": ".py",
   "mimetype": "text/x-python",
   "name": "python",
   "nbconvert_exporter": "python",
   "pygments_lexer": "ipython3",
   "version": "3.6.8"
  }
 },
 "nbformat": 4,
 "nbformat_minor": 2
}
